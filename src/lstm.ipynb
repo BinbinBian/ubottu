{
 "metadata": {
  "name": "",
  "signature": "sha256:ec3909d17e8a14ee8a60d24f66f8988dffb32c89bcbb1c46bd0d68ba674f79c7"
 },
 "nbformat": 3,
 "nbformat_minor": 0,
 "worksheets": [
  {
   "cells": [
    {
     "cell_type": "code",
     "collapsed": false,
     "input": [
      "import os\n",
      "#os.environ['THEANO_FLAGS']='floatX=float32,device=gpu1,nvcc.fastmath=True'\n",
      "from __future__ import division\n",
      "import cPickle\n",
      "import lasagne\n",
      "import numpy as np\n",
      "import pyprind\n",
      "import re\n",
      "import sys\n",
      "import theano\n",
      "import theano.tensor as T\n",
      "from collections import defaultdict, OrderedDict\n",
      "from theano.ifelse import ifelse\n",
      "from theano.printing import Print as pp"
     ],
     "language": "python",
     "metadata": {},
     "outputs": [],
     "prompt_number": 3
    },
    {
     "cell_type": "code",
     "collapsed": false,
     "input": [
      "class GradClip(theano.compile.ViewOp):\n",
      "\n",
      "    def __init__(self, clip_lower_bound, clip_upper_bound):\n",
      "        self.clip_lower_bound = clip_lower_bound\n",
      "        self.clip_upper_bound = clip_upper_bound\n",
      "        assert(self.clip_upper_bound >= self.clip_lower_bound)\n",
      "\n",
      "    def grad(self, args, g_outs):\n",
      "        def pgrad(g_out):\n",
      "            g_out = T.clip(g_out, self.clip_lower_bound, self.clip_upper_bound)\n",
      "            g_out = ifelse(T.any(T.isnan(g_out)), T.ones_like(g_out)*0.00001, g_out)\n",
      "            return g_out\n",
      "        return [pgrad(g_out) for g_out in g_outs]\n",
      "\n",
      "gradient_clipper = GradClip(-10.0, 10.0)\n",
      "#T.opt.register_canonicalize(theano.gof.OpRemove(gradient_clipper), name='gradient_clipper')\n",
      "\n",
      "def adam(loss, all_params, learning_rate=0.001, b1=0.9, b2=0.999, e=1e-8,\n",
      "         gamma=1-1e-8):\n",
      "    \"\"\"\n",
      "    ADAM update rules\n",
      "    Default values are taken from [Kingma2014]\n",
      "\n",
      "    References:\n",
      "    [Kingma2014] Kingma, Diederik, and Jimmy Ba.\n",
      "    \"Adam: A Method for Stochastic Optimization.\"\n",
      "    arXiv preprint arXiv:1412.6980 (2014).\n",
      "    http://arxiv.org/pdf/1412.6980v4.pdf\n",
      "\n",
      "    \"\"\"\n",
      "    updates = []\n",
      "    all_grads = theano.grad(gradient_clipper(loss), all_params)\n",
      "    alpha = learning_rate\n",
      "    t = theano.shared(np.float32(1))\n",
      "    b1_t = b1*gamma**(t-1)   #(Decay the first moment running average coefficient)\n",
      " \n",
      "    for theta_previous, g in zip(all_params, all_grads):\n",
      "        m_previous = theano.shared(np.zeros(theta_previous.get_value().shape,\n",
      "                                            dtype=theano.config.floatX))\n",
      "        v_previous = theano.shared(np.zeros(theta_previous.get_value().shape,\n",
      "                                            dtype=theano.config.floatX))\n",
      " \n",
      "        m = b1_t*m_previous + (1 - b1_t)*g                             # (Update biased first moment estimate)\n",
      "        v = b2*v_previous + (1 - b2)*g**2                              # (Update biased second raw moment estimate)\n",
      "        m_hat = m / (1-b1**t)                                          # (Compute bias-corrected first moment estimate)\n",
      "        v_hat = v / (1-b2**t)                                          # (Compute bias-corrected second raw moment estimate)\n",
      "        theta = theta_previous - (alpha * m_hat) / (T.sqrt(v_hat) + e) #(Update parameters)\n",
      " \n",
      "        updates.append((m_previous, m))\n",
      "        updates.append((v_previous, v))\n",
      "        updates.append((theta_previous, theta) )\n",
      "    updates.append((t, t + 1.))\n",
      "    return updates"
     ],
     "language": "python",
     "metadata": {},
     "outputs": [],
     "prompt_number": 4
    },
    {
     "cell_type": "code",
     "collapsed": false,
     "input": [
      "class LSTM(object):\n",
      "    def __init__(self,\n",
      "                 data,\n",
      "                 U,\n",
      "                 img_w=300,\n",
      "                 hidden_size=100,\n",
      "                 batch_size=50,\n",
      "                 lr_decay=0.95,\n",
      "                 sqr_norm_lim=9,\n",
      "                 non_static=True):\n",
      "        self.data = data\n",
      "        self.batch_size = batch_size\n",
      "        img_h = data['train']['r'].shape[1]\n",
      "\n",
      "        l_in = lasagne.layers.InputLayer(shape=(batch_size, img_h, img_w))      \n",
      "        l_fwd = lasagne.layers.LSTMLayer(\n",
      "            l_in,\n",
      "            hidden_size,\n",
      "            backwards=False,\n",
      "            learn_init=True,\n",
      "            peepholes=True,\n",
      "\n",
      "            W_in_to_ingate=lasagne.init.Orthogonal(),\n",
      "            W_hid_to_ingate=lasagne.init.Orthogonal(),\n",
      "            #W_cell_to_ingate=lasagne.init.Orthogonal(),\n",
      "\n",
      "            W_in_to_forgetgate=lasagne.init.Orthogonal(),\n",
      "            W_hid_to_forgetgate=lasagne.init.Orthogonal(),\n",
      "            #W_cell_to_forgetgate=lasagne.init.Orthogonal(),\n",
      "\n",
      "            W_in_to_cell=lasagne.init.Orthogonal(),\n",
      "            W_hid_to_cell=lasagne.init.Orthogonal(),\n",
      "\n",
      "            W_in_to_outgate=lasagne.init.Orthogonal(),\n",
      "            W_hid_to_outgate=lasagne.init.Orthogonal(),\n",
      "            #W_cell_to_outgate=lasagne.init.Orthogonal(),\n",
      "            )\n",
      "        \n",
      "        l_bck = lasagne.layers.LSTMLayer(\n",
      "            l_in,\n",
      "            hidden_size,\n",
      "            backwards=True,\n",
      "            learn_init=True,\n",
      "            peepholes=True,\n",
      "\n",
      "            W_in_to_ingate=lasagne.init.Orthogonal(),\n",
      "            W_hid_to_ingate=lasagne.init.Orthogonal(),\n",
      "            #W_cell_to_ingate=lasagne.init.Orthogonal(),\n",
      "\n",
      "            W_in_to_forgetgate=lasagne.init.Orthogonal(),\n",
      "            W_hid_to_forgetgate=lasagne.init.Orthogonal(),\n",
      "            #W_cell_to_forgetgate=lasagne.init.Orthogonal(),\n",
      "\n",
      "            W_in_to_cell=lasagne.init.Orthogonal(),\n",
      "            W_hid_to_cell=lasagne.init.Orthogonal(),\n",
      "\n",
      "            W_in_to_outgate=lasagne.init.Orthogonal(),\n",
      "            W_hid_to_outgate=lasagne.init.Orthogonal(),\n",
      "            #W_cell_to_outgate=lasagne.init.Orthogonal(),\n",
      "            )        \n",
      "        \n",
      "        l_fwd_reshape = lasagne.layers.ReshapeLayer(l_fwd, (batch_size*img_h, hidden_size))\n",
      "        l_bck_reshape = lasagne.layers.ReshapeLayer(l_bck, (batch_size*img_h, hidden_size))\n",
      "        l_concat = lasagne.layers.ConcatLayer([l_fwd_reshape, l_bck_reshape], axis=1)\n",
      "\n",
      "        self.M = theano.shared(np.eye(2*hidden_size).astype(theano.config.floatX))\n",
      "\n",
      "        index = T.iscalar()\n",
      "        c = T.imatrix('c')\n",
      "        r = T.imatrix('r')\n",
      "        y = T.ivector('y')\n",
      "        embeddings = theano.shared(U, name='embeddings', borrow=True)\n",
      "        zero_vec_tensor = T.fvector()\n",
      "        self.zero_vec = np.zeros(img_w, dtype=theano.config.floatX)\n",
      "        self.set_zero = theano.function([zero_vec_tensor], updates=[(embeddings, T.set_subtensor(embeddings[0,:], zero_vec_tensor))])\n",
      "\n",
      "        c_input = embeddings[c.flatten()].reshape((c.shape[0], c.shape[1], embeddings.shape[1]))\n",
      "        r_input = embeddings[r.flatten()].reshape((r.shape[0], r.shape[1], embeddings.shape[1]))\n",
      "\n",
      "        e_context = l_concat.get_output(c_input, deterministic=True).reshape((c.shape[0], img_h, 2*hidden_size))[:,-1,:]\n",
      "        e_response = l_concat.get_output(r_input, deterministic=True).reshape((r.shape[0], img_h, 2*hidden_size))[:,-1,:]\n",
      "        e_context = e_context.reshape((c.shape[0], -1))\n",
      "        e_response = e_response.reshape((r.shape[0], -1))\n",
      "        \n",
      "        dp = T.batched_dot(e_context, T.dot(e_response, self.M.T))\n",
      "        #dp = pp('dp')(dp)\n",
      "        o = T.nnet.sigmoid(dp)\n",
      "        o = T.clip(o, 1e-7, 1.0-1e-7)\n",
      "\n",
      "        cost = T.nnet.binary_crossentropy(o, y).mean()\n",
      "        params = lasagne.layers.get_all_params(l_concat) + [self.M]\n",
      "        if non_static:\n",
      "            params += [embeddings]\n",
      "#        updates = lasagne.updates.adadelta(cost, params, learning_rate=1.0, rho=lr_decay)\n",
      "#        updates = sgd_updates_adadelta(cost, params, lr_decay, 1e-6, sqr_norm_lim)\n",
      "#        updates = lasagne.updates.nesterov_momentum(cost, params, learning_rate=0.1)\n",
      "        updates = adam(cost, params)\n",
      "        \n",
      "        self.train_set_c = theano.shared(data['train']['c'], borrow=True)\n",
      "        self.train_set_r = theano.shared(data['train']['r'], borrow=True)\n",
      "        self.train_set_y = theano.shared(data['train']['y'], borrow=True)\n",
      "        self.val_set_c = theano.shared(data['val']['c'], borrow=True)\n",
      "        self.val_set_r = theano.shared(data['val']['r'], borrow=True)\n",
      "        self.val_set_y = theano.shared(data['val']['y'], borrow=True)\n",
      "        self.test_set_c = theano.shared(data['test']['c'], borrow=True)\n",
      "        self.test_set_r = theano.shared(data['test']['r'], borrow=True)\n",
      "        self.test_set_y = theano.shared(data['test']['y'], borrow=True)\n",
      "        \n",
      "        probas = T.concatenate([(1-o).reshape((-1,1)), o.reshape((-1,1))], axis=1)\n",
      "        pred = T.argmax(probas, axis=1)\n",
      "        errors = T.sum(T.neq(pred, y))\n",
      "        \n",
      "        self.train_model = theano.function([index], cost, updates=updates,\n",
      "              givens={\n",
      "                c: self.train_set_c[index*batch_size:(index+1)*batch_size],\n",
      "                r: self.train_set_r[index*batch_size:(index+1)*batch_size],\n",
      "                y: self.train_set_y[index*batch_size:(index+1)*batch_size]})         \n",
      "\n",
      "        self.train_loss = theano.function([index], errors,\n",
      "                 givens={\n",
      "                    c: self.train_set_c[index * batch_size: (index + 1) * batch_size],\n",
      "                    r: self.train_set_r[index * batch_size: (index + 1) * batch_size],\n",
      "                    y: self.train_set_y[index * batch_size: (index + 1) * batch_size]})\n",
      "        \n",
      "        self.val_loss = theano.function([index], errors,\n",
      "             givens={\n",
      "                c: self.val_set_c[index * batch_size: (index + 1) * batch_size],\n",
      "                r: self.val_set_r[index * batch_size: (index + 1) * batch_size],\n",
      "                y: self.val_set_y[index * batch_size: (index + 1) * batch_size]})\n",
      "\n",
      "        self.test_loss = theano.function([index], errors,\n",
      "             givens={\n",
      "                c: self.test_set_c[index * batch_size: (index + 1) * batch_size],\n",
      "                r: self.test_set_r[index * batch_size: (index + 1) * batch_size],\n",
      "                y: self.test_set_y[index * batch_size: (index + 1) * batch_size]})\n",
      "\n",
      "    def train(self, n_epochs=100, shuffle_batch=True):\n",
      "        epoch = 0\n",
      "        best_val_perf = 0\n",
      "        val_perf = 0\n",
      "        test_perf = 0\n",
      "        cost_epoch = 0\n",
      "        \n",
      "        n_train_batches = self.data['train']['y'].shape[0] // self.batch_size\n",
      "        n_val_batches = self.data['val']['y'].shape[0] // self.batch_size\n",
      "        n_test_batches = self.data['test']['y'].shape[0] // self.batch_size\n",
      "\n",
      "        while (epoch < n_epochs):\n",
      "            epoch += 1\n",
      "            indices = range(n_train_batches)\n",
      "            if shuffle_batch:\n",
      "                indices = np.random.permutation(indices)\n",
      "            bar = pyprind.ProgBar(len(indices), monitor=True)\n",
      "            total_cost = 0\n",
      "            for minibatch_index in indices:                \n",
      "                cost_epoch = self.train_model(minibatch_index)\n",
      "                #print minibatch_index, cost_epoch\n",
      "                total_cost += cost_epoch\n",
      "                self.set_zero(self.zero_vec)\n",
      "                bar.update()\n",
      "            print \"cost: \", (total_cost / len(indices))\n",
      "            train_losses = [self.train_loss(i) for i in xrange(n_train_batches)]\n",
      "            train_perf = 1 - np.sum(train_losses) / self.data['train']['y'].shape[0]\n",
      "            val_losses = [self.val_loss(i) for i in xrange(n_val_batches)]\n",
      "            val_perf = 1 - np.sum(val_losses) / self.data['val']['y'].shape[0]\n",
      "            print 'epoch %i, train_perf %f, val_perf %f' % (epoch, train_perf*100, val_perf*100)\n",
      "            if val_perf >= best_val_perf:\n",
      "                best_val_perf = val_perf\n",
      "                test_losses = [self.test_loss(i) for i in xrange(n_test_batches)]\n",
      "                test_perf = 1 - np.sum(test_losses) / self.data['test']['y'].shape[0]\n",
      "                print 'test_perf %f' % (test_perf*100)\n",
      "        return test_perf\n",
      "\n",
      "def as_floatX(variable):\n",
      "    if isinstance(variable, float):\n",
      "        return np.cast[theano.config.floatX](variable)\n",
      "\n",
      "    if isinstance(variable, np.ndarray):\n",
      "        return np.cast[theano.config.floatX](variable)\n",
      "    return theano.tensor.cast(variable, theano.config.floatX)\n",
      "\n",
      "def sgd_updates_adadelta(cost, params, rho=0.95, epsilon=1e-6, norm_lim=9, word_vec_name='embeddings'):\n",
      "    updates = OrderedDict({})\n",
      "    exp_sqr_grads = OrderedDict({})\n",
      "    exp_sqr_ups = OrderedDict({})\n",
      "    gparams = []\n",
      "    for param in params:\n",
      "        empty = np.zeros_like(param.get_value())\n",
      "        exp_sqr_grads[param] = theano.shared(value=as_floatX(empty),name=\"exp_grad_%s\" % param.name)\n",
      "        gp = T.grad(cost, param)\n",
      "        exp_sqr_ups[param] = theano.shared(value=as_floatX(empty), name=\"exp_grad_%s\" % param.name)\n",
      "        gparams.append(gp)\n",
      "    for param, gp in zip(params, gparams):\n",
      "        exp_sg = exp_sqr_grads[param]\n",
      "        exp_su = exp_sqr_ups[param]\n",
      "        up_exp_sg = rho * exp_sg + (1 - rho) * T.sqr(gp)\n",
      "        updates[exp_sg] = up_exp_sg\n",
      "        step =  -(T.sqrt(exp_su + epsilon) / T.sqrt(up_exp_sg + epsilon)) * gp\n",
      "        updates[exp_su] = rho * exp_su + (1 - rho) * T.sqr(step)\n",
      "        stepped_param = param + step\n",
      "        if (param.get_value(borrow=True).ndim == 2) and (param.name != word_vec_name):\n",
      "            col_norms = T.sqrt(T.sum(T.sqr(stepped_param), axis=0))\n",
      "            desired_norms = T.clip(col_norms, 0, T.sqrt(norm_lim))\n",
      "            scale = desired_norms / (1e-7 + col_norms)\n",
      "            updates[param] = stepped_param * scale\n",
      "        else:\n",
      "            updates[param] = stepped_param      \n",
      "    return updates \n",
      " \n",
      "def get_idx_from_sent(sent, word_idx_map, max_l, k, filter_h):\n",
      "    \"\"\"\n",
      "    Transforms sentence into a list of indices. Pad with zeroes.\n",
      "    \"\"\"\n",
      "    x = []\n",
      "    pad = filter_h - 1\n",
      "    for i in xrange(pad):\n",
      "        x.append(0)\n",
      "    words = sent.split()\n",
      "    for word in words[:max_l]:\n",
      "        if word in word_idx_map:\n",
      "            x.append(word_idx_map[word])\n",
      "    while len(x) < max_l+2*pad:\n",
      "        x.append(0)\n",
      "    return x\n",
      "\n",
      "def make_idx_data(dataset, word_idx_map, max_l=152, k=300, filter_h=5):\n",
      "    \"\"\"\n",
      "    Transforms sentences into a 2-d matrix.\n",
      "    \"\"\"\n",
      "    for i in xrange(len(dataset['y'])):\n",
      "        dataset['c'][i] = get_idx_from_sent(dataset['c'][i], word_idx_map, max_l, k, filter_h)\n",
      "        dataset['r'][i] = get_idx_from_sent(dataset['r'][i], word_idx_map, max_l, k, filter_h)\n",
      "    for col in ['c', 'r', 'y']:\n",
      "        dataset[col] = np.array(dataset[col], dtype=np.int32)"
     ],
     "language": "python",
     "metadata": {},
     "outputs": [],
     "prompt_number": 17
    },
    {
     "cell_type": "code",
     "collapsed": false,
     "input": [
      "print \"loading data...\",\n",
      "data = cPickle.load(open('data.pkl', 'rb'))\n",
      "train_data, val_data, test_data, W, W2, word_idx_map, vocab = data\n",
      "print \"data loaded!\""
     ],
     "language": "python",
     "metadata": {},
     "outputs": [
      {
       "output_type": "stream",
       "stream": "stdout",
       "text": [
        "loading data... "
       ]
      },
      {
       "output_type": "stream",
       "stream": "stdout",
       "text": [
        "data loaded!\n"
       ]
      }
     ],
     "prompt_number": 6
    },
    {
     "cell_type": "code",
     "collapsed": false,
     "input": [
      "make_idx_data(train_data, word_idx_map, filter_h=1)\n",
      "make_idx_data(val_data, word_idx_map, filter_h=1)\n",
      "make_idx_data(test_data, word_idx_map, filter_h=1)\n",
      "for key in ['c', 'r', 'y']:\n",
      "    print train_data[key].shape\n",
      "    print val_data[key].shape\n",
      "    print test_data[key].shape\n",
      "\n",
      "data = { 'train' : train_data, 'val': val_data, 'test': test_data }"
     ],
     "language": "python",
     "metadata": {},
     "outputs": [
      {
       "output_type": "stream",
       "stream": "stdout",
       "text": [
        "(100000, 152)\n",
        "(27670, 152)\n",
        "(17756, 152)\n",
        "(100000, 152)\n",
        "(27670, 152)\n",
        "(17756, 152)\n",
        "(100000,)\n",
        "(27670,)\n",
        "(17756,)\n"
       ]
      }
     ],
     "prompt_number": 7
    },
    {
     "cell_type": "code",
     "collapsed": false,
     "input": [
      "rnn = LSTM(data,\n",
      "           W.astype(theano.config.floatX),\n",
      "           img_w=300,\n",
      "           hidden_size=100,\n",
      "           batch_size=256,\n",
      "           lr_decay=0.95,\n",
      "           sqr_norm_lim=1,\n",
      "           non_static=False)\n",
      "print rnn.train(n_epochs=100, shuffle_batch=True)"
     ],
     "language": "python",
     "metadata": {},
     "outputs": [
      {
       "output_type": "stream",
       "stream": "stderr",
       "text": [
        "0%                          100%\n"
       ]
      },
      {
       "output_type": "stream",
       "stream": "stderr",
       "text": [
        "[                              ]"
       ]
      },
      {
       "output_type": "stream",
       "stream": "stderr",
       "text": [
        "\r",
        "[#                             ]"
       ]
      },
      {
       "output_type": "stream",
       "stream": "stderr",
       "text": [
        " | ETA[sec]: 1075.861 "
       ]
      },
      {
       "output_type": "stream",
       "stream": "stderr",
       "text": [
        "\r",
        "[##                            ]"
       ]
      },
      {
       "output_type": "stream",
       "stream": "stderr",
       "text": [
        " | ETA[sec]: 1045.042 "
       ]
      },
      {
       "output_type": "stream",
       "stream": "stderr",
       "text": [
        "\r",
        "[###                           ]"
       ]
      },
      {
       "output_type": "stream",
       "stream": "stderr",
       "text": [
        " | ETA[sec]: 991.797 "
       ]
      },
      {
       "output_type": "stream",
       "stream": "stderr",
       "text": [
        "\r",
        "[####                          ]"
       ]
      },
      {
       "output_type": "stream",
       "stream": "stderr",
       "text": [
        " | ETA[sec]: 943.423 "
       ]
      },
      {
       "output_type": "stream",
       "stream": "stderr",
       "text": [
        "\r",
        "[#####                         ]"
       ]
      },
      {
       "output_type": "stream",
       "stream": "stderr",
       "text": [
        " | ETA[sec]: 905.499 "
       ]
      },
      {
       "output_type": "stream",
       "stream": "stderr",
       "text": [
        "\r",
        "[######                        ]"
       ]
      },
      {
       "output_type": "stream",
       "stream": "stderr",
       "text": [
        " | ETA[sec]: 866.254 "
       ]
      },
      {
       "output_type": "stream",
       "stream": "stderr",
       "text": [
        "\r",
        "[#######                       ]"
       ]
      },
      {
       "output_type": "stream",
       "stream": "stderr",
       "text": [
        " | ETA[sec]: 825.191 "
       ]
      },
      {
       "output_type": "stream",
       "stream": "stderr",
       "text": [
        "\r",
        "[########                      ]"
       ]
      },
      {
       "output_type": "stream",
       "stream": "stderr",
       "text": [
        " | ETA[sec]: 790.533 "
       ]
      },
      {
       "output_type": "stream",
       "stream": "stderr",
       "text": [
        "\r",
        "[#########                     ]"
       ]
      },
      {
       "output_type": "stream",
       "stream": "stderr",
       "text": [
        " | ETA[sec]: 753.522 "
       ]
      },
      {
       "output_type": "stream",
       "stream": "stderr",
       "text": [
        "\r",
        "[##########                    ]"
       ]
      },
      {
       "output_type": "stream",
       "stream": "stderr",
       "text": [
        " | ETA[sec]: 713.958 "
       ]
      },
      {
       "output_type": "stream",
       "stream": "stderr",
       "text": [
        "\r",
        "[###########                   ]"
       ]
      },
      {
       "output_type": "stream",
       "stream": "stderr",
       "text": [
        " | ETA[sec]: 680.326 "
       ]
      },
      {
       "output_type": "stream",
       "stream": "stderr",
       "text": [
        "\r",
        "[############                  ]"
       ]
      },
      {
       "output_type": "stream",
       "stream": "stderr",
       "text": [
        " | ETA[sec]: 644.026 "
       ]
      },
      {
       "output_type": "stream",
       "stream": "stderr",
       "text": [
        "\r",
        "[#############                 ]"
       ]
      },
      {
       "output_type": "stream",
       "stream": "stderr",
       "text": [
        " | ETA[sec]: 605.068 "
       ]
      },
      {
       "output_type": "stream",
       "stream": "stderr",
       "text": [
        "\r",
        "[##############                ]"
       ]
      },
      {
       "output_type": "stream",
       "stream": "stderr",
       "text": [
        " | ETA[sec]: 571.787 "
       ]
      },
      {
       "output_type": "stream",
       "stream": "stderr",
       "text": [
        "\r",
        "[###############               ]"
       ]
      },
      {
       "output_type": "stream",
       "stream": "stderr",
       "text": [
        " | ETA[sec]: 535.768 "
       ]
      },
      {
       "output_type": "stream",
       "stream": "stderr",
       "text": [
        "\r",
        "[################              ]"
       ]
      },
      {
       "output_type": "stream",
       "stream": "stderr",
       "text": [
        " | ETA[sec]: 497.078 "
       ]
      },
      {
       "output_type": "stream",
       "stream": "stderr",
       "text": [
        "\r",
        "[#################             ]"
       ]
      },
      {
       "output_type": "stream",
       "stream": "stderr",
       "text": [
        " | ETA[sec]: 463.955 "
       ]
      },
      {
       "output_type": "stream",
       "stream": "stderr",
       "text": [
        "\r",
        "[##################            ]"
       ]
      },
      {
       "output_type": "stream",
       "stream": "stderr",
       "text": [
        " | ETA[sec]: 428.111 "
       ]
      },
      {
       "output_type": "stream",
       "stream": "stderr",
       "text": [
        "\r",
        "[###################           ]"
       ]
      },
      {
       "output_type": "stream",
       "stream": "stderr",
       "text": [
        " | ETA[sec]: 389.561 "
       ]
      },
      {
       "output_type": "stream",
       "stream": "stderr",
       "text": [
        "\r",
        "[####################          ]"
       ]
      },
      {
       "output_type": "stream",
       "stream": "stderr",
       "text": [
        " | ETA[sec]: 356.543 "
       ]
      },
      {
       "output_type": "stream",
       "stream": "stderr",
       "text": [
        "\r",
        "[#####################         ]"
       ]
      },
      {
       "output_type": "stream",
       "stream": "stderr",
       "text": [
        " | ETA[sec]: 320.805 "
       ]
      },
      {
       "output_type": "stream",
       "stream": "stderr",
       "text": [
        "\r",
        "[######################        ]"
       ]
      },
      {
       "output_type": "stream",
       "stream": "stderr",
       "text": [
        " | ETA[sec]: 282.341 "
       ]
      },
      {
       "output_type": "stream",
       "stream": "stderr",
       "text": [
        "\r",
        "[#######################       ]"
       ]
      },
      {
       "output_type": "stream",
       "stream": "stderr",
       "text": [
        " | ETA[sec]: 249.411 "
       ]
      },
      {
       "output_type": "stream",
       "stream": "stderr",
       "text": [
        "\r",
        "[########################      ]"
       ]
      },
      {
       "output_type": "stream",
       "stream": "stderr",
       "text": [
        " | ETA[sec]: 213.741 "
       ]
      },
      {
       "output_type": "stream",
       "stream": "stderr",
       "text": [
        "\r",
        "[#########################     ]"
       ]
      },
      {
       "output_type": "stream",
       "stream": "stderr",
       "text": [
        " | ETA[sec]: 175.343 "
       ]
      },
      {
       "output_type": "stream",
       "stream": "stderr",
       "text": [
        "\r",
        "[##########################    ]"
       ]
      },
      {
       "output_type": "stream",
       "stream": "stderr",
       "text": [
        " | ETA[sec]: 142.438 "
       ]
      },
      {
       "output_type": "stream",
       "stream": "stderr",
       "text": [
        "\r",
        "[###########################   ]"
       ]
      },
      {
       "output_type": "stream",
       "stream": "stderr",
       "text": [
        " | ETA[sec]: 106.807 "
       ]
      },
      {
       "output_type": "stream",
       "stream": "stderr",
       "text": [
        "\r",
        "[############################  ]"
       ]
      },
      {
       "output_type": "stream",
       "stream": "stderr",
       "text": [
        " | ETA[sec]: 68.459 "
       ]
      },
      {
       "output_type": "stream",
       "stream": "stderr",
       "text": [
        "\r",
        "[############################# ]"
       ]
      },
      {
       "output_type": "stream",
       "stream": "stderr",
       "text": [
        " | ETA[sec]: 35.595 "
       ]
      },
      {
       "output_type": "stream",
       "stream": "stderr",
       "text": [
        "\r",
        "[##############################]"
       ]
      },
      {
       "output_type": "stream",
       "stream": "stderr",
       "text": [
        " | ETA[sec]: 0.000 "
       ]
      },
      {
       "output_type": "stream",
       "stream": "stderr",
       "text": [
        "\r",
        "[##############################]"
       ]
      },
      {
       "output_type": "stream",
       "stream": "stderr",
       "text": [
        " | ETA[sec]: 0.000 "
       ]
      },
      {
       "output_type": "stream",
       "stream": "stdout",
       "text": [
        "cost:  0.693437249964\n",
        "epoch 1, train_perf 51.692000, val_perf 50.813155"
       ]
      },
      {
       "output_type": "stream",
       "stream": "stdout",
       "text": [
        "\n",
        "test_perf 51.030638"
       ]
      },
      {
       "output_type": "stream",
       "stream": "stderr",
       "text": [
        "\n",
        "Total time elapsed: 1067.718 sec\n",
        "0%                          100%\n"
       ]
      },
      {
       "output_type": "stream",
       "stream": "stderr",
       "text": [
        "[                              ]"
       ]
      },
      {
       "output_type": "stream",
       "stream": "stderr",
       "text": [
        "\r",
        "[#                             ]"
       ]
      },
      {
       "output_type": "stream",
       "stream": "stderr",
       "text": [
        " | ETA[sec]: 1024.938 "
       ]
      },
      {
       "output_type": "stream",
       "stream": "stderr",
       "text": [
        "\r",
        "[##                            ]"
       ]
      },
      {
       "output_type": "stream",
       "stream": "stderr",
       "text": [
        " | ETA[sec]: 992.164 "
       ]
      },
      {
       "output_type": "stream",
       "stream": "stderr",
       "text": [
        "\r",
        "[###                           ]"
       ]
      },
      {
       "output_type": "stream",
       "stream": "stderr",
       "text": [
        " | ETA[sec]: 957.275 "
       ]
      },
      {
       "output_type": "stream",
       "stream": "stderr",
       "text": [
        "\r",
        "[####                          ]"
       ]
      },
      {
       "output_type": "stream",
       "stream": "stderr",
       "text": [
        " | ETA[sec]: 918.977 "
       ]
      },
      {
       "output_type": "stream",
       "stream": "stderr",
       "text": [
        "\r",
        "[#####                         ]"
       ]
      },
      {
       "output_type": "stream",
       "stream": "stderr",
       "text": [
        " | ETA[sec]: 886.389 "
       ]
      },
      {
       "output_type": "stream",
       "stream": "stderr",
       "text": [
        "\r",
        "[######                        ]"
       ]
      },
      {
       "output_type": "stream",
       "stream": "stderr",
       "text": [
        " | ETA[sec]: 850.898 "
       ]
      },
      {
       "output_type": "stream",
       "stream": "stderr",
       "text": [
        "\r",
        "[#######                       ]"
       ]
      },
      {
       "output_type": "stream",
       "stream": "stderr",
       "text": [
        " | ETA[sec]: 812.749 "
       ]
      },
      {
       "output_type": "stream",
       "stream": "stderr",
       "text": [
        "\r",
        "[########                      ]"
       ]
      },
      {
       "output_type": "stream",
       "stream": "stderr",
       "text": [
        " | ETA[sec]: 780.118 "
       ]
      },
      {
       "output_type": "stream",
       "stream": "stderr",
       "text": [
        "\r",
        "[#########                     ]"
       ]
      },
      {
       "output_type": "stream",
       "stream": "stderr",
       "text": [
        " | ETA[sec]: 744.779 "
       ]
      },
      {
       "output_type": "stream",
       "stream": "stderr",
       "text": [
        "\r",
        "[##########                    ]"
       ]
      },
      {
       "output_type": "stream",
       "stream": "stderr",
       "text": [
        " | ETA[sec]: 706.571 "
       ]
      },
      {
       "output_type": "stream",
       "stream": "stderr",
       "text": [
        "\r",
        "[###########                   ]"
       ]
      },
      {
       "output_type": "stream",
       "stream": "stderr",
       "text": [
        " | ETA[sec]: 673.835 "
       ]
      },
      {
       "output_type": "stream",
       "stream": "stderr",
       "text": [
        "\r",
        "[############                  ]"
       ]
      },
      {
       "output_type": "stream",
       "stream": "stderr",
       "text": [
        " | ETA[sec]: 638.344 "
       ]
      },
      {
       "output_type": "stream",
       "stream": "stderr",
       "text": [
        "\r",
        "[#############                 ]"
       ]
      },
      {
       "output_type": "stream",
       "stream": "stderr",
       "text": [
        " | ETA[sec]: 600.151 "
       ]
      },
      {
       "output_type": "stream",
       "stream": "stderr",
       "text": [
        "\r",
        "[##############                ]"
       ]
      },
      {
       "output_type": "stream",
       "stream": "stderr",
       "text": [
        " | ETA[sec]: 567.439 "
       ]
      },
      {
       "output_type": "stream",
       "stream": "stderr",
       "text": [
        "\r",
        "[###############               ]"
       ]
      },
      {
       "output_type": "stream",
       "stream": "stderr",
       "text": [
        " | ETA[sec]: 532.020 "
       ]
      },
      {
       "output_type": "stream",
       "stream": "stderr",
       "text": [
        "\r",
        "[################              ]"
       ]
      },
      {
       "output_type": "stream",
       "stream": "stderr",
       "text": [
        " | ETA[sec]: 493.823 "
       ]
      },
      {
       "output_type": "stream",
       "stream": "stderr",
       "text": [
        "\r",
        "[#################             ]"
       ]
      },
      {
       "output_type": "stream",
       "stream": "stderr",
       "text": [
        " | ETA[sec]: 461.083 "
       ]
      },
      {
       "output_type": "stream",
       "stream": "stderr",
       "text": [
        "\r",
        "[##################            ]"
       ]
      },
      {
       "output_type": "stream",
       "stream": "stderr",
       "text": [
        " | ETA[sec]: 425.637 "
       ]
      },
      {
       "output_type": "stream",
       "stream": "stderr",
       "text": [
        "\r",
        "[###################           ]"
       ]
      },
      {
       "output_type": "stream",
       "stream": "stderr",
       "text": [
        " | ETA[sec]: 387.443 "
       ]
      },
      {
       "output_type": "stream",
       "stream": "stderr",
       "text": [
        "\r",
        "[####################          ]"
       ]
      },
      {
       "output_type": "stream",
       "stream": "stderr",
       "text": [
        " | ETA[sec]: 354.707 "
       ]
      },
      {
       "output_type": "stream",
       "stream": "stderr",
       "text": [
        "\r",
        "[#####################         ]"
       ]
      },
      {
       "output_type": "stream",
       "stream": "stderr",
       "text": [
        " | ETA[sec]: 319.242 "
       ]
      },
      {
       "output_type": "stream",
       "stream": "stderr",
       "text": [
        "\r",
        "[######################        ]"
       ]
      },
      {
       "output_type": "stream",
       "stream": "stderr",
       "text": [
        " | ETA[sec]: 281.044 "
       ]
      },
      {
       "output_type": "stream",
       "stream": "stderr",
       "text": [
        "\r",
        "[#######################       ]"
       ]
      },
      {
       "output_type": "stream",
       "stream": "stderr",
       "text": [
        " | ETA[sec]: 248.296 "
       ]
      },
      {
       "output_type": "stream",
       "stream": "stderr",
       "text": [
        "\r",
        "[########################      ]"
       ]
      },
      {
       "output_type": "stream",
       "stream": "stderr",
       "text": [
        " | ETA[sec]: 212.829 "
       ]
      },
      {
       "output_type": "stream",
       "stream": "stderr",
       "text": [
        "\r",
        "[#########################     ]"
       ]
      },
      {
       "output_type": "stream",
       "stream": "stderr",
       "text": [
        " | ETA[sec]: 174.617 "
       ]
      },
      {
       "output_type": "stream",
       "stream": "stderr",
       "text": [
        "\r",
        "[##########################    ]"
       ]
      },
      {
       "output_type": "stream",
       "stream": "stderr",
       "text": [
        " | ETA[sec]: 141.854 "
       ]
      },
      {
       "output_type": "stream",
       "stream": "stderr",
       "text": [
        "\r",
        "[###########################   ]"
       ]
      },
      {
       "output_type": "stream",
       "stream": "stderr",
       "text": [
        " | ETA[sec]: 106.380 "
       ]
      },
      {
       "output_type": "stream",
       "stream": "stderr",
       "text": [
        "\r",
        "[############################  ]"
       ]
      },
      {
       "output_type": "stream",
       "stream": "stderr",
       "text": [
        " | ETA[sec]: 68.174 "
       ]
      },
      {
       "output_type": "stream",
       "stream": "stderr",
       "text": [
        "\r",
        "[############################# ]"
       ]
      },
      {
       "output_type": "stream",
       "stream": "stderr",
       "text": [
        " | ETA[sec]: 35.441 "
       ]
      },
      {
       "output_type": "stream",
       "stream": "stderr",
       "text": [
        "\r",
        "[##############################]"
       ]
      },
      {
       "output_type": "stream",
       "stream": "stderr",
       "text": [
        " | ETA[sec]: 0.000 "
       ]
      },
      {
       "output_type": "stream",
       "stream": "stderr",
       "text": [
        "\r",
        "[##############################]"
       ]
      },
      {
       "output_type": "stream",
       "stream": "stderr",
       "text": [
        " | ETA[sec]: 0.000 "
       ]
      },
      {
       "output_type": "stream",
       "stream": "stdout",
       "text": [
        "\n",
        "cost: "
       ]
      },
      {
       "output_type": "stream",
       "stream": "stdout",
       "text": [
        " 0.692147677266\n",
        "epoch 2, train_perf 54.364000, val_perf 51.984098"
       ]
      },
      {
       "output_type": "stream",
       "stream": "stdout",
       "text": [
        "\n",
        "test_perf 52.202073"
       ]
      },
      {
       "output_type": "stream",
       "stream": "stderr",
       "text": [
        "\n",
        "Total time elapsed: 1062.990 sec\n",
        "0%                          100%\n"
       ]
      },
      {
       "output_type": "stream",
       "stream": "stderr",
       "text": [
        "[                              ]"
       ]
      },
      {
       "output_type": "stream",
       "stream": "stderr",
       "text": [
        "\r",
        "[#                             ]"
       ]
      },
      {
       "output_type": "stream",
       "stream": "stderr",
       "text": [
        " | ETA[sec]: 1016.380 "
       ]
      },
      {
       "output_type": "stream",
       "stream": "stderr",
       "text": [
        "\r",
        "[##                            ]"
       ]
      },
      {
       "output_type": "stream",
       "stream": "stderr",
       "text": [
        " | ETA[sec]: 982.068 "
       ]
      },
      {
       "output_type": "stream",
       "stream": "stderr",
       "text": [
        "\r",
        "[###                           ]"
       ]
      },
      {
       "output_type": "stream",
       "stream": "stderr",
       "text": [
        " | ETA[sec]: 945.739 "
       ]
      },
      {
       "output_type": "stream",
       "stream": "stderr",
       "text": [
        "\r",
        "[####                          ]"
       ]
      },
      {
       "output_type": "stream",
       "stream": "stderr",
       "text": [
        " | ETA[sec]: 907.438 "
       ]
      },
      {
       "output_type": "stream",
       "stream": "stderr",
       "text": [
        "\r",
        "[#####                         ]"
       ]
      },
      {
       "output_type": "stream",
       "stream": "stderr",
       "text": [
        " | ETA[sec]: 874.927 "
       ]
      },
      {
       "output_type": "stream",
       "stream": "stderr",
       "text": [
        "\r",
        "[######                        ]"
       ]
      },
      {
       "output_type": "stream",
       "stream": "stderr",
       "text": [
        " | ETA[sec]: 839.710 "
       ]
      },
      {
       "output_type": "stream",
       "stream": "stderr",
       "text": [
        "\r",
        "[#######                       ]"
       ]
      },
      {
       "output_type": "stream",
       "stream": "stderr",
       "text": [
        " | ETA[sec]: 801.903 "
       ]
      },
      {
       "output_type": "stream",
       "stream": "stderr",
       "text": [
        "\r",
        "[########                      ]"
       ]
      },
      {
       "output_type": "stream",
       "stream": "stderr",
       "text": [
        " | ETA[sec]: 769.475 "
       ]
      },
      {
       "output_type": "stream",
       "stream": "stderr",
       "text": [
        "\r",
        "[#########                     ]"
       ]
      },
      {
       "output_type": "stream",
       "stream": "stderr",
       "text": [
        " | ETA[sec]: 734.390 "
       ]
      },
      {
       "output_type": "stream",
       "stream": "stderr",
       "text": [
        "\r",
        "[##########                    ]"
       ]
      },
      {
       "output_type": "stream",
       "stream": "stderr",
       "text": [
        " | ETA[sec]: 696.648 "
       ]
      },
      {
       "output_type": "stream",
       "stream": "stderr",
       "text": [
        "\r",
        "[###########                   ]"
       ]
      },
      {
       "output_type": "stream",
       "stream": "stderr",
       "text": [
        " | ETA[sec]: 664.339 "
       ]
      },
      {
       "output_type": "stream",
       "stream": "stderr",
       "text": [
        "\r",
        "[############                  ]"
       ]
      },
      {
       "output_type": "stream",
       "stream": "stderr",
       "text": [
        " | ETA[sec]: 629.305 "
       ]
      },
      {
       "output_type": "stream",
       "stream": "stderr",
       "text": [
        "\r",
        "[#############                 ]"
       ]
      },
      {
       "output_type": "stream",
       "stream": "stderr",
       "text": [
        " | ETA[sec]: 591.615 "
       ]
      },
      {
       "output_type": "stream",
       "stream": "stderr",
       "text": [
        "\r",
        "[##############                ]"
       ]
      },
      {
       "output_type": "stream",
       "stream": "stderr",
       "text": [
        " | ETA[sec]: 559.316 "
       ]
      },
      {
       "output_type": "stream",
       "stream": "stderr",
       "text": [
        "\r",
        "[###############               ]"
       ]
      },
      {
       "output_type": "stream",
       "stream": "stderr",
       "text": [
        " | ETA[sec]: 524.307 "
       ]
      },
      {
       "output_type": "stream",
       "stream": "stderr",
       "text": [
        "\r",
        "[################              ]"
       ]
      },
      {
       "output_type": "stream",
       "stream": "stderr",
       "text": [
        " | ETA[sec]: 486.642 "
       ]
      },
      {
       "output_type": "stream",
       "stream": "stderr",
       "text": [
        "\r",
        "[#################             ]"
       ]
      },
      {
       "output_type": "stream",
       "stream": "stderr",
       "text": [
        " | ETA[sec]: 454.351 "
       ]
      },
      {
       "output_type": "stream",
       "stream": "stderr",
       "text": [
        "\r",
        "[##################            ]"
       ]
      },
      {
       "output_type": "stream",
       "stream": "stderr",
       "text": [
        " | ETA[sec]: 419.396 "
       ]
      },
      {
       "output_type": "stream",
       "stream": "stderr",
       "text": [
        "\r",
        "[###################           ]"
       ]
      },
      {
       "output_type": "stream",
       "stream": "stderr",
       "text": [
        " | ETA[sec]: 381.749 "
       ]
      },
      {
       "output_type": "stream",
       "stream": "stderr",
       "text": [
        "\r",
        "[####################          ]"
       ]
      },
      {
       "output_type": "stream",
       "stream": "stderr",
       "text": [
        " | ETA[sec]: 349.491 "
       ]
      },
      {
       "output_type": "stream",
       "stream": "stderr",
       "text": [
        "\r",
        "[#####################         ]"
       ]
      },
      {
       "output_type": "stream",
       "stream": "stderr",
       "text": [
        " | ETA[sec]: 314.537 "
       ]
      },
      {
       "output_type": "stream",
       "stream": "stderr",
       "text": [
        "\r",
        "[######################        ]"
       ]
      },
      {
       "output_type": "stream",
       "stream": "stderr",
       "text": [
        " | ETA[sec]: 276.890 "
       ]
      },
      {
       "output_type": "stream",
       "stream": "stderr",
       "text": [
        "\r",
        "[#######################       ]"
       ]
      },
      {
       "output_type": "stream",
       "stream": "stderr",
       "text": [
        " | ETA[sec]: 244.634 "
       ]
      },
      {
       "output_type": "stream",
       "stream": "stderr",
       "text": [
        "\r",
        "[########################      ]"
       ]
      },
      {
       "output_type": "stream",
       "stream": "stderr",
       "text": [
        " | ETA[sec]: 209.688 "
       ]
      },
      {
       "output_type": "stream",
       "stream": "stderr",
       "text": [
        "\r",
        "[#########################     ]"
       ]
      },
      {
       "output_type": "stream",
       "stream": "stderr",
       "text": [
        " | ETA[sec]: 172.059 "
       ]
      },
      {
       "output_type": "stream",
       "stream": "stderr",
       "text": [
        "\r",
        "[##########################    ]"
       ]
      },
      {
       "output_type": "stream",
       "stream": "stderr",
       "text": [
        " | ETA[sec]: 139.796 "
       ]
      },
      {
       "output_type": "stream",
       "stream": "stderr",
       "text": [
        "\r",
        "[###########################   ]"
       ]
      },
      {
       "output_type": "stream",
       "stream": "stderr",
       "text": [
        " | ETA[sec]: 104.844 "
       ]
      },
      {
       "output_type": "stream",
       "stream": "stderr",
       "text": [
        "\r",
        "[############################  ]"
       ]
      },
      {
       "output_type": "stream",
       "stream": "stderr",
       "text": [
        " | ETA[sec]: 67.207 "
       ]
      },
      {
       "output_type": "stream",
       "stream": "stderr",
       "text": [
        "\r",
        "[############################# ]"
       ]
      },
      {
       "output_type": "stream",
       "stream": "stderr",
       "text": [
        " | ETA[sec]: 34.947 "
       ]
      },
      {
       "output_type": "stream",
       "stream": "stderr",
       "text": [
        "\r",
        "[##############################]"
       ]
      },
      {
       "output_type": "stream",
       "stream": "stderr",
       "text": [
        " | ETA[sec]: 0.000 "
       ]
      },
      {
       "output_type": "stream",
       "stream": "stderr",
       "text": [
        "\r",
        "[##############################]"
       ]
      },
      {
       "output_type": "stream",
       "stream": "stderr",
       "text": [
        " | ETA[sec]: 0.000 "
       ]
      },
      {
       "output_type": "stream",
       "stream": "stdout",
       "text": [
        "\n",
        "cost: "
       ]
      },
      {
       "output_type": "stream",
       "stream": "stdout",
       "text": [
        " 0.687413036861\n",
        "epoch 3, train_perf 55.867000, val_perf 53.538128"
       ]
      },
      {
       "output_type": "stream",
       "stream": "stdout",
       "text": [
        "\n",
        "test_perf 53.739581"
       ]
      },
      {
       "output_type": "stream",
       "stream": "stderr",
       "text": [
        "\n",
        "Total time elapsed: 1048.409 sec\n",
        "0%                          100%\n"
       ]
      },
      {
       "output_type": "stream",
       "stream": "stderr",
       "text": [
        "[                              ]"
       ]
      },
      {
       "output_type": "stream",
       "stream": "stderr",
       "text": [
        "\r",
        "[#                             ]"
       ]
      },
      {
       "output_type": "stream",
       "stream": "stderr",
       "text": [
        " | ETA[sec]: 1014.982 "
       ]
      },
      {
       "output_type": "stream",
       "stream": "stderr",
       "text": [
        "\r",
        "[##                            ]"
       ]
      },
      {
       "output_type": "stream",
       "stream": "stderr",
       "text": [
        " | ETA[sec]: 983.587 "
       ]
      },
      {
       "output_type": "stream",
       "stream": "stderr",
       "text": [
        "\r",
        "[###                           ]"
       ]
      },
      {
       "output_type": "stream",
       "stream": "stderr",
       "text": [
        " | ETA[sec]: 948.902 "
       ]
      },
      {
       "output_type": "stream",
       "stream": "stderr",
       "text": [
        "\r",
        "[####                          ]"
       ]
      },
      {
       "output_type": "stream",
       "stream": "stderr",
       "text": [
        " | ETA[sec]: 911.240 "
       ]
      },
      {
       "output_type": "stream",
       "stream": "stderr",
       "text": [
        "\r",
        "[#####                         ]"
       ]
      },
      {
       "output_type": "stream",
       "stream": "stderr",
       "text": [
        " | ETA[sec]: 878.801 "
       ]
      },
      {
       "output_type": "stream",
       "stream": "stderr",
       "text": [
        "\r",
        "[######                        ]"
       ]
      },
      {
       "output_type": "stream",
       "stream": "stderr",
       "text": [
        " | ETA[sec]: 843.683 "
       ]
      },
      {
       "output_type": "stream",
       "stream": "stderr",
       "text": [
        "\r",
        "[#######                       ]"
       ]
      },
      {
       "output_type": "stream",
       "stream": "stderr",
       "text": [
        " | ETA[sec]: 805.922 "
       ]
      },
      {
       "output_type": "stream",
       "stream": "stderr",
       "text": [
        "\r",
        "[########                      ]"
       ]
      },
      {
       "output_type": "stream",
       "stream": "stderr",
       "text": [
        " | ETA[sec]: 773.432 "
       ]
      },
      {
       "output_type": "stream",
       "stream": "stderr",
       "text": [
        "\r",
        "[#########                     ]"
       ]
      },
      {
       "output_type": "stream",
       "stream": "stderr",
       "text": [
        " | ETA[sec]: 738.280 "
       ]
      },
      {
       "output_type": "stream",
       "stream": "stderr",
       "text": [
        "\r",
        "[##########                    ]"
       ]
      },
      {
       "output_type": "stream",
       "stream": "stderr",
       "text": [
        " | ETA[sec]: 700.464 "
       ]
      },
      {
       "output_type": "stream",
       "stream": "stderr",
       "text": [
        "\r",
        "[###########                   ]"
       ]
      },
      {
       "output_type": "stream",
       "stream": "stderr",
       "text": [
        " | ETA[sec]: 668.050 "
       ]
      },
      {
       "output_type": "stream",
       "stream": "stderr",
       "text": [
        "\r",
        "[############                  ]"
       ]
      },
      {
       "output_type": "stream",
       "stream": "stderr",
       "text": [
        " | ETA[sec]: 632.882 "
       ]
      },
      {
       "output_type": "stream",
       "stream": "stderr",
       "text": [
        "\r",
        "[#############                 ]"
       ]
      },
      {
       "output_type": "stream",
       "stream": "stderr",
       "text": [
        " | ETA[sec]: 595.071 "
       ]
      },
      {
       "output_type": "stream",
       "stream": "stderr",
       "text": [
        "\r",
        "[##############                ]"
       ]
      },
      {
       "output_type": "stream",
       "stream": "stderr",
       "text": [
        " | ETA[sec]: 562.681 "
       ]
      },
      {
       "output_type": "stream",
       "stream": "stderr",
       "text": [
        "\r",
        "[###############               ]"
       ]
      },
      {
       "output_type": "stream",
       "stream": "stderr",
       "text": [
        " | ETA[sec]: 527.558 "
       ]
      },
      {
       "output_type": "stream",
       "stream": "stderr",
       "text": [
        "\r",
        "[################              ]"
       ]
      },
      {
       "output_type": "stream",
       "stream": "stderr",
       "text": [
        " | ETA[sec]: 489.710 "
       ]
      },
      {
       "output_type": "stream",
       "stream": "stderr",
       "text": [
        "\r",
        "[#################             ]"
       ]
      },
      {
       "output_type": "stream",
       "stream": "stderr",
       "text": [
        " | ETA[sec]: 457.270 "
       ]
      },
      {
       "output_type": "stream",
       "stream": "stderr",
       "text": [
        "\r",
        "[##################            ]"
       ]
      },
      {
       "output_type": "stream",
       "stream": "stderr",
       "text": [
        " | ETA[sec]: 422.136 "
       ]
      },
      {
       "output_type": "stream",
       "stream": "stderr",
       "text": [
        "\r",
        "[###################           ]"
       ]
      },
      {
       "output_type": "stream",
       "stream": "stderr",
       "text": [
        " | ETA[sec]: 384.295 "
       ]
      },
      {
       "output_type": "stream",
       "stream": "stderr",
       "text": [
        "\r",
        "[####################          ]"
       ]
      },
      {
       "output_type": "stream",
       "stream": "stderr",
       "text": [
        " | ETA[sec]: 351.821 "
       ]
      },
      {
       "output_type": "stream",
       "stream": "stderr",
       "text": [
        "\r",
        "[#####################         ]"
       ]
      },
      {
       "output_type": "stream",
       "stream": "stderr",
       "text": [
        " | ETA[sec]: 316.635 "
       ]
      },
      {
       "output_type": "stream",
       "stream": "stderr",
       "text": [
        "\r",
        "[######################        ]"
       ]
      },
      {
       "output_type": "stream",
       "stream": "stderr",
       "text": [
        " | ETA[sec]: 278.688 "
       ]
      },
      {
       "output_type": "stream",
       "stream": "stderr",
       "text": [
        "\r",
        "[#######################       ]"
       ]
      },
      {
       "output_type": "stream",
       "stream": "stderr",
       "text": [
        " | ETA[sec]: 246.169 "
       ]
      },
      {
       "output_type": "stream",
       "stream": "stderr",
       "text": [
        "\r",
        "[########################      ]"
       ]
      },
      {
       "output_type": "stream",
       "stream": "stderr",
       "text": [
        " | ETA[sec]: 210.965 "
       ]
      },
      {
       "output_type": "stream",
       "stream": "stderr",
       "text": [
        "\r",
        "[#########################     ]"
       ]
      },
      {
       "output_type": "stream",
       "stream": "stderr",
       "text": [
        " | ETA[sec]: 173.069 "
       ]
      },
      {
       "output_type": "stream",
       "stream": "stderr",
       "text": [
        "\r",
        "[##########################    ]"
       ]
      },
      {
       "output_type": "stream",
       "stream": "stderr",
       "text": [
        " | ETA[sec]: 140.589 "
       ]
      },
      {
       "output_type": "stream",
       "stream": "stderr",
       "text": [
        "\r",
        "[###########################   ]"
       ]
      },
      {
       "output_type": "stream",
       "stream": "stderr",
       "text": [
        " | ETA[sec]: 105.420 "
       ]
      },
      {
       "output_type": "stream",
       "stream": "stderr",
       "text": [
        "\r",
        "[############################  ]"
       ]
      },
      {
       "output_type": "stream",
       "stream": "stderr",
       "text": [
        " | ETA[sec]: 67.562 "
       ]
      },
      {
       "output_type": "stream",
       "stream": "stderr",
       "text": [
        "\r",
        "[############################# ]"
       ]
      },
      {
       "output_type": "stream",
       "stream": "stderr",
       "text": [
        " | ETA[sec]: 35.126 "
       ]
      },
      {
       "output_type": "stream",
       "stream": "stderr",
       "text": [
        "\r",
        "[##############################]"
       ]
      },
      {
       "output_type": "stream",
       "stream": "stderr",
       "text": [
        " | ETA[sec]: 0.000 "
       ]
      },
      {
       "output_type": "stream",
       "stream": "stderr",
       "text": [
        "\r",
        "[##############################]"
       ]
      },
      {
       "output_type": "stream",
       "stream": "stderr",
       "text": [
        " | ETA[sec]: 0.000 "
       ]
      },
      {
       "output_type": "stream",
       "stream": "stdout",
       "text": [
        "\n",
        "cost: "
       ]
      },
      {
       "output_type": "stream",
       "stream": "stdout",
       "text": [
        " 0.678203279779\n",
        "epoch 4, train_perf 57.568000, val_perf 48.850741"
       ]
      },
      {
       "output_type": "stream",
       "stream": "stderr",
       "text": [
        "\n",
        "Total time elapsed: 1053.669 sec\n",
        "0%                          100%\n"
       ]
      },
      {
       "output_type": "stream",
       "stream": "stderr",
       "text": [
        "[                              ]"
       ]
      },
      {
       "output_type": "stream",
       "stream": "stderr",
       "text": [
        "\r",
        "[#                             ]"
       ]
      },
      {
       "output_type": "stream",
       "stream": "stderr",
       "text": [
        " | ETA[sec]: 1010.890 "
       ]
      },
      {
       "output_type": "stream",
       "stream": "stderr",
       "text": [
        "\r",
        "[##                            ]"
       ]
      },
      {
       "output_type": "stream",
       "stream": "stderr",
       "text": [
        " | ETA[sec]: 981.686 "
       ]
      },
      {
       "output_type": "stream",
       "stream": "stderr",
       "text": [
        "\r",
        "[###                           ]"
       ]
      },
      {
       "output_type": "stream",
       "stream": "stderr",
       "text": [
        " | ETA[sec]: 947.841 "
       ]
      },
      {
       "output_type": "stream",
       "stream": "stderr",
       "text": [
        "\r",
        "[####                          ]"
       ]
      },
      {
       "output_type": "stream",
       "stream": "stderr",
       "text": [
        " | ETA[sec]: 910.528 "
       ]
      },
      {
       "output_type": "stream",
       "stream": "stderr",
       "text": [
        "\r",
        "[#####                         ]"
       ]
      },
      {
       "output_type": "stream",
       "stream": "stderr",
       "text": [
        " | ETA[sec]: 878.350 "
       ]
      },
      {
       "output_type": "stream",
       "stream": "stderr",
       "text": [
        "\r",
        "[######                        ]"
       ]
      },
      {
       "output_type": "stream",
       "stream": "stderr",
       "text": [
        " | ETA[sec]: 843.391 "
       ]
      },
      {
       "output_type": "stream",
       "stream": "stderr",
       "text": [
        "\r",
        "[#######                       ]"
       ]
      },
      {
       "output_type": "stream",
       "stream": "stderr",
       "text": [
        " | ETA[sec]: 805.636 "
       ]
      },
      {
       "output_type": "stream",
       "stream": "stderr",
       "text": [
        "\r",
        "[########                      ]"
       ]
      },
      {
       "output_type": "stream",
       "stream": "stderr",
       "text": [
        " | ETA[sec]: 773.216 "
       ]
      },
      {
       "output_type": "stream",
       "stream": "stderr",
       "text": [
        "\r",
        "[#########                     ]"
       ]
      },
      {
       "output_type": "stream",
       "stream": "stderr",
       "text": [
        " | ETA[sec]: 738.118 "
       ]
      },
      {
       "output_type": "stream",
       "stream": "stderr",
       "text": [
        "\r",
        "[##########                    ]"
       ]
      },
      {
       "output_type": "stream",
       "stream": "stderr",
       "text": [
        " | ETA[sec]: 700.357 "
       ]
      },
      {
       "output_type": "stream",
       "stream": "stderr",
       "text": [
        "\r",
        "[###########                   ]"
       ]
      },
      {
       "output_type": "stream",
       "stream": "stderr",
       "text": [
        " | ETA[sec]: 667.943 "
       ]
      },
      {
       "output_type": "stream",
       "stream": "stderr",
       "text": [
        "\r",
        "[############                  ]"
       ]
      },
      {
       "output_type": "stream",
       "stream": "stderr",
       "text": [
        " | ETA[sec]: 632.797 "
       ]
      },
      {
       "output_type": "stream",
       "stream": "stderr",
       "text": [
        "\r",
        "[#############                 ]"
       ]
      },
      {
       "output_type": "stream",
       "stream": "stderr",
       "text": [
        " | ETA[sec]: 594.998 "
       ]
      },
      {
       "output_type": "stream",
       "stream": "stderr",
       "text": [
        "\r",
        "[##############                ]"
       ]
      },
      {
       "output_type": "stream",
       "stream": "stderr",
       "text": [
        " | ETA[sec]: 562.572 "
       ]
      },
      {
       "output_type": "stream",
       "stream": "stderr",
       "text": [
        "\r",
        "[###############               ]"
       ]
      },
      {
       "output_type": "stream",
       "stream": "stderr",
       "text": [
        " | ETA[sec]: 527.408 "
       ]
      },
      {
       "output_type": "stream",
       "stream": "stderr",
       "text": [
        "\r",
        "[################              ]"
       ]
      },
      {
       "output_type": "stream",
       "stream": "stderr",
       "text": [
        " | ETA[sec]: 489.592 "
       ]
      },
      {
       "output_type": "stream",
       "stream": "stderr",
       "text": [
        "\r",
        "[#################             ]"
       ]
      },
      {
       "output_type": "stream",
       "stream": "stderr",
       "text": [
        " | ETA[sec]: 457.159 "
       ]
      },
      {
       "output_type": "stream",
       "stream": "stderr",
       "text": [
        "\r",
        "[##################            ]"
       ]
      },
      {
       "output_type": "stream",
       "stream": "stderr",
       "text": [
        " | ETA[sec]: 422.012 "
       ]
      },
      {
       "output_type": "stream",
       "stream": "stderr",
       "text": [
        "\r",
        "[###################           ]"
       ]
      },
      {
       "output_type": "stream",
       "stream": "stderr",
       "text": [
        " | ETA[sec]: 384.230 "
       ]
      },
      {
       "output_type": "stream",
       "stream": "stderr",
       "text": [
        "\r",
        "[####################          ]"
       ]
      },
      {
       "output_type": "stream",
       "stream": "stderr",
       "text": [
        " | ETA[sec]: 351.769 "
       ]
      },
      {
       "output_type": "stream",
       "stream": "stderr",
       "text": [
        "\r",
        "[#####################         ]"
       ]
      },
      {
       "output_type": "stream",
       "stream": "stderr",
       "text": [
        " | ETA[sec]: 316.628 "
       ]
      },
      {
       "output_type": "stream",
       "stream": "stderr",
       "text": [
        "\r",
        "[######################        ]"
       ]
      },
      {
       "output_type": "stream",
       "stream": "stderr",
       "text": [
        " | ETA[sec]: 278.731 "
       ]
      },
      {
       "output_type": "stream",
       "stream": "stderr",
       "text": [
        "\r",
        "[#######################       ]"
       ]
      },
      {
       "output_type": "stream",
       "stream": "stderr",
       "text": [
        " | ETA[sec]: 246.271 "
       ]
      },
      {
       "output_type": "stream",
       "stream": "stderr",
       "text": [
        "\r",
        "[########################      ]"
       ]
      },
      {
       "output_type": "stream",
       "stream": "stderr",
       "text": [
        " | ETA[sec]: 211.102 "
       ]
      },
      {
       "output_type": "stream",
       "stream": "stderr",
       "text": [
        "\r",
        "[#########################     ]"
       ]
      },
      {
       "output_type": "stream",
       "stream": "stderr",
       "text": [
        " | ETA[sec]: 173.209 "
       ]
      },
      {
       "output_type": "stream",
       "stream": "stderr",
       "text": [
        "\r",
        "[##########################    ]"
       ]
      },
      {
       "output_type": "stream",
       "stream": "stderr",
       "text": [
        " | ETA[sec]: 140.736 "
       ]
      },
      {
       "output_type": "stream",
       "stream": "stderr",
       "text": [
        "\r",
        "[###########################   ]"
       ]
      },
      {
       "output_type": "stream",
       "stream": "stderr",
       "text": [
        " | ETA[sec]: 105.548 "
       ]
      },
      {
       "output_type": "stream",
       "stream": "stderr",
       "text": [
        "\r",
        "[############################  ]"
       ]
      },
      {
       "output_type": "stream",
       "stream": "stderr",
       "text": [
        " | ETA[sec]: 67.658 "
       ]
      },
      {
       "output_type": "stream",
       "stream": "stderr",
       "text": [
        "\r",
        "[############################# ]"
       ]
      },
      {
       "output_type": "stream",
       "stream": "stderr",
       "text": [
        " | ETA[sec]: 35.181 "
       ]
      },
      {
       "output_type": "stream",
       "stream": "stderr",
       "text": [
        "\r",
        "[##############################]"
       ]
      },
      {
       "output_type": "stream",
       "stream": "stderr",
       "text": [
        " | ETA[sec]: 0.000 "
       ]
      },
      {
       "output_type": "stream",
       "stream": "stderr",
       "text": [
        "\r",
        "[##############################]"
       ]
      },
      {
       "output_type": "stream",
       "stream": "stderr",
       "text": [
        " | ETA[sec]: 0.000 "
       ]
      },
      {
       "output_type": "stream",
       "stream": "stdout",
       "text": [
        "\n",
        "cost: "
       ]
      },
      {
       "output_type": "stream",
       "stream": "stdout",
       "text": [
        " 0.665211567543\n",
        "epoch 5, train_perf 59.034000, val_perf 51.601012"
       ]
      },
      {
       "output_type": "stream",
       "stream": "stderr",
       "text": [
        "\n",
        "Total time elapsed: 1055.425 sec\n",
        "0%                          100%\n"
       ]
      },
      {
       "output_type": "stream",
       "stream": "stderr",
       "text": [
        "[                              ]"
       ]
      },
      {
       "output_type": "stream",
       "stream": "stderr",
       "text": [
        "\r",
        "[#                             ]"
       ]
      },
      {
       "output_type": "stream",
       "stream": "stderr",
       "text": [
        " | ETA[sec]: 1018.680 "
       ]
      },
      {
       "output_type": "stream",
       "stream": "stderr",
       "text": [
        "\r",
        "[##                            ]"
       ]
      },
      {
       "output_type": "stream",
       "stream": "stderr",
       "text": [
        " | ETA[sec]: 985.953 "
       ]
      },
      {
       "output_type": "stream",
       "stream": "stderr",
       "text": [
        "\r",
        "[###                           ]"
       ]
      },
      {
       "output_type": "stream",
       "stream": "stderr",
       "text": [
        " | ETA[sec]: 950.452 "
       ]
      },
      {
       "output_type": "stream",
       "stream": "stderr",
       "text": [
        "\r",
        "[####                          ]"
       ]
      },
      {
       "output_type": "stream",
       "stream": "stderr",
       "text": [
        " | ETA[sec]: 912.398 "
       ]
      },
      {
       "output_type": "stream",
       "stream": "stderr",
       "text": [
        "\r",
        "[#####                         ]"
       ]
      },
      {
       "output_type": "stream",
       "stream": "stderr",
       "text": [
        " | ETA[sec]: 879.799 "
       ]
      },
      {
       "output_type": "stream",
       "stream": "stderr",
       "text": [
        "\r",
        "[######                        ]"
       ]
      },
      {
       "output_type": "stream",
       "stream": "stderr",
       "text": [
        " | ETA[sec]: 844.423 "
       ]
      },
      {
       "output_type": "stream",
       "stream": "stderr",
       "text": [
        "\r",
        "[#######                       ]"
       ]
      },
      {
       "output_type": "stream",
       "stream": "stderr",
       "text": [
        " | ETA[sec]: 806.394 "
       ]
      },
      {
       "output_type": "stream",
       "stream": "stderr",
       "text": [
        "\r",
        "[########                      ]"
       ]
      },
      {
       "output_type": "stream",
       "stream": "stderr",
       "text": [
        " | ETA[sec]: 773.899 "
       ]
      },
      {
       "output_type": "stream",
       "stream": "stderr",
       "text": [
        "\r",
        "[#########                     ]"
       ]
      },
      {
       "output_type": "stream",
       "stream": "stderr",
       "text": [
        " | ETA[sec]: 738.628 "
       ]
      },
      {
       "output_type": "stream",
       "stream": "stderr",
       "text": [
        "\r",
        "[##########                    ]"
       ]
      },
      {
       "output_type": "stream",
       "stream": "stderr",
       "text": [
        " | ETA[sec]: 700.744 "
       ]
      },
      {
       "output_type": "stream",
       "stream": "stderr",
       "text": [
        "\r",
        "[###########                   ]"
       ]
      },
      {
       "output_type": "stream",
       "stream": "stderr",
       "text": [
        " | ETA[sec]: 668.299 "
       ]
      },
      {
       "output_type": "stream",
       "stream": "stderr",
       "text": [
        "\r",
        "[############                  ]"
       ]
      },
      {
       "output_type": "stream",
       "stream": "stderr",
       "text": [
        " | ETA[sec]: 633.135 "
       ]
      },
      {
       "output_type": "stream",
       "stream": "stderr",
       "text": [
        "\r",
        "[#############                 ]"
       ]
      },
      {
       "output_type": "stream",
       "stream": "stderr",
       "text": [
        " | ETA[sec]: 595.312 "
       ]
      },
      {
       "output_type": "stream",
       "stream": "stderr",
       "text": [
        "\r",
        "[##############                ]"
       ]
      },
      {
       "output_type": "stream",
       "stream": "stderr",
       "text": [
        " | ETA[sec]: 562.821 "
       ]
      },
      {
       "output_type": "stream",
       "stream": "stderr",
       "text": [
        "\r",
        "[###############               ]"
       ]
      },
      {
       "output_type": "stream",
       "stream": "stderr",
       "text": [
        " | ETA[sec]: 527.627 "
       ]
      },
      {
       "output_type": "stream",
       "stream": "stderr",
       "text": [
        "\r",
        "[################              ]"
       ]
      },
      {
       "output_type": "stream",
       "stream": "stderr",
       "text": [
        " | ETA[sec]: 489.747 "
       ]
      },
      {
       "output_type": "stream",
       "stream": "stderr",
       "text": [
        "\r",
        "[#################             ]"
       ]
      },
      {
       "output_type": "stream",
       "stream": "stderr",
       "text": [
        " | ETA[sec]: 457.269 "
       ]
      },
      {
       "output_type": "stream",
       "stream": "stderr",
       "text": [
        "\r",
        "[##################            ]"
       ]
      },
      {
       "output_type": "stream",
       "stream": "stderr",
       "text": [
        " | ETA[sec]: 422.082 "
       ]
      },
      {
       "output_type": "stream",
       "stream": "stderr",
       "text": [
        "\r",
        "[###################           ]"
       ]
      },
      {
       "output_type": "stream",
       "stream": "stderr",
       "text": [
        " | ETA[sec]: 384.226 "
       ]
      },
      {
       "output_type": "stream",
       "stream": "stderr",
       "text": [
        "\r",
        "[####################          ]"
       ]
      },
      {
       "output_type": "stream",
       "stream": "stderr",
       "text": [
        " | ETA[sec]: 351.757 "
       ]
      },
      {
       "output_type": "stream",
       "stream": "stderr",
       "text": [
        "\r",
        "[#####################         ]"
       ]
      },
      {
       "output_type": "stream",
       "stream": "stderr",
       "text": [
        " | ETA[sec]: 316.598 "
       ]
      },
      {
       "output_type": "stream",
       "stream": "stderr",
       "text": [
        "\r",
        "[######################        ]"
       ]
      },
      {
       "output_type": "stream",
       "stream": "stderr",
       "text": [
        " | ETA[sec]: 278.721 "
       ]
      },
      {
       "output_type": "stream",
       "stream": "stderr",
       "text": [
        "\r",
        "[#######################       ]"
       ]
      },
      {
       "output_type": "stream",
       "stream": "stderr",
       "text": [
        " | ETA[sec]: 246.248 "
       ]
      },
      {
       "output_type": "stream",
       "stream": "stderr",
       "text": [
        "\r",
        "[########################      ]"
       ]
      },
      {
       "output_type": "stream",
       "stream": "stderr",
       "text": [
        " | ETA[sec]: 211.073 "
       ]
      },
      {
       "output_type": "stream",
       "stream": "stderr",
       "text": [
        "\r",
        "[#########################     ]"
       ]
      },
      {
       "output_type": "stream",
       "stream": "stderr",
       "text": [
        " | ETA[sec]: 173.196 "
       ]
      },
      {
       "output_type": "stream",
       "stream": "stderr",
       "text": [
        "\r",
        "[##########################    ]"
       ]
      },
      {
       "output_type": "stream",
       "stream": "stderr",
       "text": [
        " | ETA[sec]: 140.723 "
       ]
      },
      {
       "output_type": "stream",
       "stream": "stderr",
       "text": [
        "\r",
        "[###########################   ]"
       ]
      },
      {
       "output_type": "stream",
       "stream": "stderr",
       "text": [
        " | ETA[sec]: 105.541 "
       ]
      },
      {
       "output_type": "stream",
       "stream": "stderr",
       "text": [
        "\r",
        "[############################  ]"
       ]
      },
      {
       "output_type": "stream",
       "stream": "stderr",
       "text": [
        " | ETA[sec]: 67.656 "
       ]
      },
      {
       "output_type": "stream",
       "stream": "stderr",
       "text": [
        "\r",
        "[############################# ]"
       ]
      },
      {
       "output_type": "stream",
       "stream": "stderr",
       "text": [
        " | ETA[sec]: 35.181 "
       ]
      },
      {
       "output_type": "stream",
       "stream": "stderr",
       "text": [
        "\r",
        "[##############################]"
       ]
      },
      {
       "output_type": "stream",
       "stream": "stderr",
       "text": [
        " | ETA[sec]: 0.000 "
       ]
      },
      {
       "output_type": "stream",
       "stream": "stderr",
       "text": [
        "\r",
        "[##############################]"
       ]
      },
      {
       "output_type": "stream",
       "stream": "stderr",
       "text": [
        " | ETA[sec]: 0.000 "
       ]
      },
      {
       "output_type": "stream",
       "stream": "stdout",
       "text": [
        "\n",
        "cost: "
       ]
      },
      {
       "output_type": "stream",
       "stream": "stdout",
       "text": [
        " 0.646445962305\n",
        "epoch 6, train_perf 59.924000, val_perf 50.809541"
       ]
      },
      {
       "output_type": "stream",
       "stream": "stderr",
       "text": [
        "\n",
        "Total time elapsed: 1055.456 sec\n",
        "0%                          100%\n"
       ]
      },
      {
       "output_type": "stream",
       "stream": "stderr",
       "text": [
        "[                              ]"
       ]
      },
      {
       "output_type": "stream",
       "stream": "stderr",
       "text": [
        "\r",
        "[#                             ]"
       ]
      },
      {
       "output_type": "stream",
       "stream": "stderr",
       "text": [
        " | ETA[sec]: 1017.814 "
       ]
      },
      {
       "output_type": "stream",
       "stream": "stderr",
       "text": [
        "\r",
        "[##                            ]"
       ]
      },
      {
       "output_type": "stream",
       "stream": "stderr",
       "text": [
        " | ETA[sec]: 985.476 "
       ]
      },
      {
       "output_type": "stream",
       "stream": "stderr",
       "text": [
        "\r",
        "[###                           ]"
       ]
      },
      {
       "output_type": "stream",
       "stream": "stderr",
       "text": [
        " | ETA[sec]: 950.440 "
       ]
      },
      {
       "output_type": "stream",
       "stream": "stderr",
       "text": [
        "\r",
        "[####                          ]"
       ]
      },
      {
       "output_type": "stream",
       "stream": "stderr",
       "text": [
        " | ETA[sec]: 912.533 "
       ]
      },
      {
       "output_type": "stream",
       "stream": "stderr",
       "text": [
        "\r",
        "[#####                         ]"
       ]
      },
      {
       "output_type": "stream",
       "stream": "stderr",
       "text": [
        " | ETA[sec]: 880.332 "
       ]
      },
      {
       "output_type": "stream",
       "stream": "stderr",
       "text": [
        "\r",
        "[######                        ]"
       ]
      },
      {
       "output_type": "stream",
       "stream": "stderr",
       "text": [
        " | ETA[sec]: 845.035 "
       ]
      },
      {
       "output_type": "stream",
       "stream": "stderr",
       "text": [
        "\r",
        "[#######                       ]"
       ]
      },
      {
       "output_type": "stream",
       "stream": "stderr",
       "text": [
        " | ETA[sec]: 806.610 "
       ]
      },
      {
       "output_type": "stream",
       "stream": "stderr",
       "text": [
        "\r",
        "[########                      ]"
       ]
      },
      {
       "output_type": "stream",
       "stream": "stderr",
       "text": [
        " | ETA[sec]: 773.620 "
       ]
      },
      {
       "output_type": "stream",
       "stream": "stderr",
       "text": [
        "\r",
        "[#########                     ]"
       ]
      },
      {
       "output_type": "stream",
       "stream": "stderr",
       "text": [
        " | ETA[sec]: 737.933 "
       ]
      },
      {
       "output_type": "stream",
       "stream": "stderr",
       "text": [
        "\r",
        "[##########                    ]"
       ]
      },
      {
       "output_type": "stream",
       "stream": "stderr",
       "text": [
        " | ETA[sec]: 699.760 "
       ]
      },
      {
       "output_type": "stream",
       "stream": "stderr",
       "text": [
        "\r",
        "[###########                   ]"
       ]
      },
      {
       "output_type": "stream",
       "stream": "stderr",
       "text": [
        " | ETA[sec]: 667.149 "
       ]
      },
      {
       "output_type": "stream",
       "stream": "stderr",
       "text": [
        "\r",
        "[############                  ]"
       ]
      },
      {
       "output_type": "stream",
       "stream": "stderr",
       "text": [
        " | ETA[sec]: 631.762 "
       ]
      },
      {
       "output_type": "stream",
       "stream": "stderr",
       "text": [
        "\r",
        "[#############                 ]"
       ]
      },
      {
       "output_type": "stream",
       "stream": "stderr",
       "text": [
        " | ETA[sec]: 593.744 "
       ]
      },
      {
       "output_type": "stream",
       "stream": "stderr",
       "text": [
        "\r",
        "[##############                ]"
       ]
      },
      {
       "output_type": "stream",
       "stream": "stderr",
       "text": [
        " | ETA[sec]: 561.196 "
       ]
      },
      {
       "output_type": "stream",
       "stream": "stderr",
       "text": [
        "\r",
        "[###############               ]"
       ]
      },
      {
       "output_type": "stream",
       "stream": "stderr",
       "text": [
        " | ETA[sec]: 525.982 "
       ]
      },
      {
       "output_type": "stream",
       "stream": "stderr",
       "text": [
        "\r",
        "[################              ]"
       ]
      },
      {
       "output_type": "stream",
       "stream": "stderr",
       "text": [
        " | ETA[sec]: 488.113 "
       ]
      },
      {
       "output_type": "stream",
       "stream": "stderr",
       "text": [
        "\r",
        "[#################             ]"
       ]
      },
      {
       "output_type": "stream",
       "stream": "stderr",
       "text": [
        " | ETA[sec]: 455.704 "
       ]
      },
      {
       "output_type": "stream",
       "stream": "stderr",
       "text": [
        "\r",
        "[##################            ]"
       ]
      },
      {
       "output_type": "stream",
       "stream": "stderr",
       "text": [
        " | ETA[sec]: 420.582 "
       ]
      },
      {
       "output_type": "stream",
       "stream": "stderr",
       "text": [
        "\r",
        "[###################           ]"
       ]
      },
      {
       "output_type": "stream",
       "stream": "stderr",
       "text": [
        " | ETA[sec]: 382.800 "
       ]
      },
      {
       "output_type": "stream",
       "stream": "stderr",
       "text": [
        "\r",
        "[####################          ]"
       ]
      },
      {
       "output_type": "stream",
       "stream": "stderr",
       "text": [
        " | ETA[sec]: 350.417 "
       ]
      },
      {
       "output_type": "stream",
       "stream": "stderr",
       "text": [
        "\r",
        "[#####################         ]"
       ]
      },
      {
       "output_type": "stream",
       "stream": "stderr",
       "text": [
        " | ETA[sec]: 315.391 "
       ]
      },
      {
       "output_type": "stream",
       "stream": "stderr",
       "text": [
        "\r",
        "[######################        ]"
       ]
      },
      {
       "output_type": "stream",
       "stream": "stderr",
       "text": [
        " | ETA[sec]: 277.604 "
       ]
      },
      {
       "output_type": "stream",
       "stream": "stderr",
       "text": [
        "\r",
        "[#######################       ]"
       ]
      },
      {
       "output_type": "stream",
       "stream": "stderr",
       "text": [
        " | ETA[sec]: 245.247 "
       ]
      },
      {
       "output_type": "stream",
       "stream": "stderr",
       "text": [
        "\r",
        "[########################      ]"
       ]
      },
      {
       "output_type": "stream",
       "stream": "stderr",
       "text": [
        " | ETA[sec]: 210.208 "
       ]
      },
      {
       "output_type": "stream",
       "stream": "stderr",
       "text": [
        "\r",
        "[#########################     ]"
       ]
      },
      {
       "output_type": "stream",
       "stream": "stderr",
       "text": [
        " | ETA[sec]: 172.475 "
       ]
      },
      {
       "output_type": "stream",
       "stream": "stderr",
       "text": [
        "\r",
        "[##########################    ]"
       ]
      },
      {
       "output_type": "stream",
       "stream": "stderr",
       "text": [
        " | ETA[sec]: 140.150 "
       ]
      },
      {
       "output_type": "stream",
       "stream": "stderr",
       "text": [
        "\r",
        "[###########################   ]"
       ]
      },
      {
       "output_type": "stream",
       "stream": "stderr",
       "text": [
        " | ETA[sec]: 105.102 "
       ]
      },
      {
       "output_type": "stream",
       "stream": "stderr",
       "text": [
        "\r",
        "[############################  ]"
       ]
      },
      {
       "output_type": "stream",
       "stream": "stderr",
       "text": [
        " | ETA[sec]: 67.365 "
       ]
      },
      {
       "output_type": "stream",
       "stream": "stderr",
       "text": [
        "\r",
        "[############################# ]"
       ]
      },
      {
       "output_type": "stream",
       "stream": "stderr",
       "text": [
        " | ETA[sec]: 35.027 "
       ]
      },
      {
       "output_type": "stream",
       "stream": "stderr",
       "text": [
        "\r",
        "[##############################]"
       ]
      },
      {
       "output_type": "stream",
       "stream": "stderr",
       "text": [
        " | ETA[sec]: 0.000 "
       ]
      },
      {
       "output_type": "stream",
       "stream": "stderr",
       "text": [
        "\r",
        "[##############################]"
       ]
      },
      {
       "output_type": "stream",
       "stream": "stderr",
       "text": [
        " | ETA[sec]: 0.000 "
       ]
      },
      {
       "output_type": "stream",
       "stream": "stdout",
       "text": [
        "\n",
        "cost: "
       ]
      },
      {
       "output_type": "stream",
       "stream": "stdout",
       "text": [
        " 0.626914800179\n",
        "epoch 7, train_perf 61.387000, val_perf 52.374413"
       ]
      },
      {
       "output_type": "stream",
       "stream": "stderr",
       "text": [
        "\n",
        "Total time elapsed: 1050.764 sec\n",
        "0%                          100%\n"
       ]
      },
      {
       "output_type": "stream",
       "stream": "stderr",
       "text": [
        "[                              ]"
       ]
      },
      {
       "output_type": "stream",
       "stream": "stderr",
       "text": [
        "\r",
        "[#                             ]"
       ]
      },
      {
       "output_type": "stream",
       "stream": "stderr",
       "text": [
        " | ETA[sec]: 1015.618 "
       ]
      },
      {
       "output_type": "stream",
       "stream": "stderr",
       "text": [
        "\r",
        "[##                            ]"
       ]
      },
      {
       "output_type": "stream",
       "stream": "stderr",
       "text": [
        " | ETA[sec]: 985.327 "
       ]
      },
      {
       "output_type": "stream",
       "stream": "stderr",
       "text": [
        "\r",
        "[###                           ]"
       ]
      },
      {
       "output_type": "stream",
       "stream": "stderr",
       "text": [
        " | ETA[sec]: 950.133 "
       ]
      },
      {
       "output_type": "stream",
       "stream": "stderr",
       "text": [
        "\r",
        "[####                          ]"
       ]
      },
      {
       "output_type": "stream",
       "stream": "stderr",
       "text": [
        " | ETA[sec]: 912.103 "
       ]
      },
      {
       "output_type": "stream",
       "stream": "stderr",
       "text": [
        "\r",
        "[#####                         ]"
       ]
      },
      {
       "output_type": "stream",
       "stream": "stderr",
       "text": [
        " | ETA[sec]: 879.407 "
       ]
      },
      {
       "output_type": "stream",
       "stream": "stderr",
       "text": [
        "\r",
        "[######                        ]"
       ]
      },
      {
       "output_type": "stream",
       "stream": "stderr",
       "text": [
        " | ETA[sec]: 844.158 "
       ]
      },
      {
       "output_type": "stream",
       "stream": "stderr",
       "text": [
        "\r",
        "[#######                       ]"
       ]
      },
      {
       "output_type": "stream",
       "stream": "stderr",
       "text": [
        " | ETA[sec]: 806.260 "
       ]
      },
      {
       "output_type": "stream",
       "stream": "stderr",
       "text": [
        "\r",
        "[########                      ]"
       ]
      },
      {
       "output_type": "stream",
       "stream": "stderr",
       "text": [
        " | ETA[sec]: 773.736 "
       ]
      },
      {
       "output_type": "stream",
       "stream": "stderr",
       "text": [
        "\r",
        "[#########                     ]"
       ]
      },
      {
       "output_type": "stream",
       "stream": "stderr",
       "text": [
        " | ETA[sec]: 738.561 "
       ]
      },
      {
       "output_type": "stream",
       "stream": "stderr",
       "text": [
        "\r",
        "[##########                    ]"
       ]
      },
      {
       "output_type": "stream",
       "stream": "stderr",
       "text": [
        " | ETA[sec]: 700.674 "
       ]
      },
      {
       "output_type": "stream",
       "stream": "stderr",
       "text": [
        "\r",
        "[###########                   ]"
       ]
      },
      {
       "output_type": "stream",
       "stream": "stderr",
       "text": [
        " | ETA[sec]: 668.204 "
       ]
      },
      {
       "output_type": "stream",
       "stream": "stderr",
       "text": [
        "\r",
        "[############                  ]"
       ]
      },
      {
       "output_type": "stream",
       "stream": "stderr",
       "text": [
        " | ETA[sec]: 633.014 "
       ]
      },
      {
       "output_type": "stream",
       "stream": "stderr",
       "text": [
        "\r",
        "[#############                 ]"
       ]
      },
      {
       "output_type": "stream",
       "stream": "stderr",
       "text": [
        " | ETA[sec]: 595.176 "
       ]
      },
      {
       "output_type": "stream",
       "stream": "stderr",
       "text": [
        "\r",
        "[##############                ]"
       ]
      },
      {
       "output_type": "stream",
       "stream": "stderr",
       "text": [
        " | ETA[sec]: 562.696 "
       ]
      },
      {
       "output_type": "stream",
       "stream": "stderr",
       "text": [
        "\r",
        "[###############               ]"
       ]
      },
      {
       "output_type": "stream",
       "stream": "stderr",
       "text": [
        " | ETA[sec]: 527.533 "
       ]
      },
      {
       "output_type": "stream",
       "stream": "stderr",
       "text": [
        "\r",
        "[################              ]"
       ]
      },
      {
       "output_type": "stream",
       "stream": "stderr",
       "text": [
        " | ETA[sec]: 489.659 "
       ]
      },
      {
       "output_type": "stream",
       "stream": "stderr",
       "text": [
        "\r",
        "[#################             ]"
       ]
      },
      {
       "output_type": "stream",
       "stream": "stderr",
       "text": [
        " | ETA[sec]: 457.196 "
       ]
      },
      {
       "output_type": "stream",
       "stream": "stderr",
       "text": [
        "\r",
        "[##################            ]"
       ]
      },
      {
       "output_type": "stream",
       "stream": "stderr",
       "text": [
        " | ETA[sec]: 422.051 "
       ]
      },
      {
       "output_type": "stream",
       "stream": "stderr",
       "text": [
        "\r",
        "[###################           ]"
       ]
      },
      {
       "output_type": "stream",
       "stream": "stderr",
       "text": [
        " | ETA[sec]: 384.229 "
       ]
      },
      {
       "output_type": "stream",
       "stream": "stderr",
       "text": [
        "\r",
        "[####################          ]"
       ]
      },
      {
       "output_type": "stream",
       "stream": "stderr",
       "text": [
        " | ETA[sec]: 351.758 "
       ]
      },
      {
       "output_type": "stream",
       "stream": "stderr",
       "text": [
        "\r",
        "[#####################         ]"
       ]
      },
      {
       "output_type": "stream",
       "stream": "stderr",
       "text": [
        " | ETA[sec]: 316.595 "
       ]
      },
      {
       "output_type": "stream",
       "stream": "stderr",
       "text": [
        "\r",
        "[######################        ]"
       ]
      },
      {
       "output_type": "stream",
       "stream": "stderr",
       "text": [
        " | ETA[sec]: 278.721 "
       ]
      },
      {
       "output_type": "stream",
       "stream": "stderr",
       "text": [
        "\r",
        "[#######################       ]"
       ]
      },
      {
       "output_type": "stream",
       "stream": "stderr",
       "text": [
        " | ETA[sec]: 246.251 "
       ]
      },
      {
       "output_type": "stream",
       "stream": "stderr",
       "text": [
        "\r",
        "[########################      ]"
       ]
      },
      {
       "output_type": "stream",
       "stream": "stderr",
       "text": [
        " | ETA[sec]: 211.076 "
       ]
      },
      {
       "output_type": "stream",
       "stream": "stderr",
       "text": [
        "\r",
        "[#########################     ]"
       ]
      },
      {
       "output_type": "stream",
       "stream": "stderr",
       "text": [
        " | ETA[sec]: 173.192 "
       ]
      },
      {
       "output_type": "stream",
       "stream": "stderr",
       "text": [
        "\r",
        "[##########################    ]"
       ]
      },
      {
       "output_type": "stream",
       "stream": "stderr",
       "text": [
        " | ETA[sec]: 140.718 "
       ]
      },
      {
       "output_type": "stream",
       "stream": "stderr",
       "text": [
        "\r",
        "[###########################   ]"
       ]
      },
      {
       "output_type": "stream",
       "stream": "stderr",
       "text": [
        " | ETA[sec]: 105.541 "
       ]
      },
      {
       "output_type": "stream",
       "stream": "stderr",
       "text": [
        "\r",
        "[############################  ]"
       ]
      },
      {
       "output_type": "stream",
       "stream": "stderr",
       "text": [
        " | ETA[sec]: 67.658 "
       ]
      },
      {
       "output_type": "stream",
       "stream": "stderr",
       "text": [
        "\r",
        "[############################# ]"
       ]
      },
      {
       "output_type": "stream",
       "stream": "stderr",
       "text": [
        " | ETA[sec]: 35.183 "
       ]
      },
      {
       "output_type": "stream",
       "stream": "stderr",
       "text": [
        "\r",
        "[##############################]"
       ]
      },
      {
       "output_type": "stream",
       "stream": "stderr",
       "text": [
        " | ETA[sec]: 0.000 "
       ]
      },
      {
       "output_type": "stream",
       "stream": "stderr",
       "text": [
        "\r",
        "[##############################]"
       ]
      },
      {
       "output_type": "stream",
       "stream": "stderr",
       "text": [
        " | ETA[sec]: 0.000 "
       ]
      },
      {
       "output_type": "stream",
       "stream": "stdout",
       "text": [
        "\n",
        "cost: "
       ]
      },
      {
       "output_type": "stream",
       "stream": "stdout",
       "text": [
        " 0.605632936336\n",
        "epoch 8, train_perf 62.603000, val_perf 47.705096"
       ]
      },
      {
       "output_type": "stream",
       "stream": "stderr",
       "text": [
        "\n",
        "Total time elapsed: 1055.530 sec\n",
        "0%                          100%\n"
       ]
      },
      {
       "output_type": "stream",
       "stream": "stderr",
       "text": [
        "[                              ]"
       ]
      },
      {
       "output_type": "stream",
       "stream": "stderr",
       "text": [
        "\r",
        "[#                             ]"
       ]
      },
      {
       "output_type": "stream",
       "stream": "stderr",
       "text": [
        " | ETA[sec]: 1018.191 "
       ]
      },
      {
       "output_type": "stream",
       "stream": "stderr",
       "text": [
        "\r",
        "[##                            ]"
       ]
      },
      {
       "output_type": "stream",
       "stream": "stderr",
       "text": [
        " | ETA[sec]: 985.412 "
       ]
      },
      {
       "output_type": "stream",
       "stream": "stderr",
       "text": [
        "\r",
        "[###                           ]"
       ]
      },
      {
       "output_type": "stream",
       "stream": "stderr",
       "text": [
        " | ETA[sec]: 949.827 "
       ]
      },
      {
       "output_type": "stream",
       "stream": "stderr",
       "text": [
        "\r",
        "[####                          ]"
       ]
      },
      {
       "output_type": "stream",
       "stream": "stderr",
       "text": [
        " | ETA[sec]: 911.861 "
       ]
      },
      {
       "output_type": "stream",
       "stream": "stderr",
       "text": [
        "\r",
        "[#####                         ]"
       ]
      },
      {
       "output_type": "stream",
       "stream": "stderr",
       "text": [
        " | ETA[sec]: 879.472 "
       ]
      },
      {
       "output_type": "stream",
       "stream": "stderr",
       "text": [
        "\r",
        "[######                        ]"
       ]
      },
      {
       "output_type": "stream",
       "stream": "stderr",
       "text": [
        " | ETA[sec]: 844.404 "
       ]
      },
      {
       "output_type": "stream",
       "stream": "stderr",
       "text": [
        "\r",
        "[#######                       ]"
       ]
      },
      {
       "output_type": "stream",
       "stream": "stderr",
       "text": [
        " | ETA[sec]: 806.555 "
       ]
      },
      {
       "output_type": "stream",
       "stream": "stderr",
       "text": [
        "\r",
        "[########                      ]"
       ]
      },
      {
       "output_type": "stream",
       "stream": "stderr",
       "text": [
        " | ETA[sec]: 774.174 "
       ]
      },
      {
       "output_type": "stream",
       "stream": "stderr",
       "text": [
        "\r",
        "[#########                     ]"
       ]
      },
      {
       "output_type": "stream",
       "stream": "stderr",
       "text": [
        " | ETA[sec]: 738.963 "
       ]
      },
      {
       "output_type": "stream",
       "stream": "stderr",
       "text": [
        "\r",
        "[##########                    ]"
       ]
      },
      {
       "output_type": "stream",
       "stream": "stderr",
       "text": [
        " | ETA[sec]: 701.048 "
       ]
      },
      {
       "output_type": "stream",
       "stream": "stderr",
       "text": [
        "\r",
        "[###########                   ]"
       ]
      },
      {
       "output_type": "stream",
       "stream": "stderr",
       "text": [
        " | ETA[sec]: 668.606 "
       ]
      },
      {
       "output_type": "stream",
       "stream": "stderr",
       "text": [
        "\r",
        "[############                  ]"
       ]
      },
      {
       "output_type": "stream",
       "stream": "stderr",
       "text": [
        " | ETA[sec]: 633.392 "
       ]
      },
      {
       "output_type": "stream",
       "stream": "stderr",
       "text": [
        "\r",
        "[#############                 ]"
       ]
      },
      {
       "output_type": "stream",
       "stream": "stderr",
       "text": [
        " | ETA[sec]: 595.506 "
       ]
      },
      {
       "output_type": "stream",
       "stream": "stderr",
       "text": [
        "\r",
        "[##############                ]"
       ]
      },
      {
       "output_type": "stream",
       "stream": "stderr",
       "text": [
        " | ETA[sec]: 563.014 "
       ]
      },
      {
       "output_type": "stream",
       "stream": "stderr",
       "text": [
        "\r",
        "[###############               ]"
       ]
      },
      {
       "output_type": "stream",
       "stream": "stderr",
       "text": [
        " | ETA[sec]: 527.795 "
       ]
      },
      {
       "output_type": "stream",
       "stream": "stderr",
       "text": [
        "\r",
        "[################              ]"
       ]
      },
      {
       "output_type": "stream",
       "stream": "stderr",
       "text": [
        " | ETA[sec]: 489.899 "
       ]
      },
      {
       "output_type": "stream",
       "stream": "stderr",
       "text": [
        "\r",
        "[#################             ]"
       ]
      },
      {
       "output_type": "stream",
       "stream": "stderr",
       "text": [
        " | ETA[sec]: 457.401 "
       ]
      },
      {
       "output_type": "stream",
       "stream": "stderr",
       "text": [
        "\r",
        "[##################            ]"
       ]
      },
      {
       "output_type": "stream",
       "stream": "stderr",
       "text": [
        " | ETA[sec]: 422.205 "
       ]
      },
      {
       "output_type": "stream",
       "stream": "stderr",
       "text": [
        "\r",
        "[###################           ]"
       ]
      },
      {
       "output_type": "stream",
       "stream": "stderr",
       "text": [
        " | ETA[sec]: 384.302 "
       ]
      },
      {
       "output_type": "stream",
       "stream": "stderr",
       "text": [
        "\r",
        "[####################          ]"
       ]
      },
      {
       "output_type": "stream",
       "stream": "stderr",
       "text": [
        " | ETA[sec]: 351.818 "
       ]
      },
      {
       "output_type": "stream",
       "stream": "stderr",
       "text": [
        "\r",
        "[#####################         ]"
       ]
      },
      {
       "output_type": "stream",
       "stream": "stderr",
       "text": [
        " | ETA[sec]: 316.642 "
       ]
      },
      {
       "output_type": "stream",
       "stream": "stderr",
       "text": [
        "\r",
        "[######################        ]"
       ]
      },
      {
       "output_type": "stream",
       "stream": "stderr",
       "text": [
        " | ETA[sec]: 278.743 "
       ]
      },
      {
       "output_type": "stream",
       "stream": "stderr",
       "text": [
        "\r",
        "[#######################       ]"
       ]
      },
      {
       "output_type": "stream",
       "stream": "stderr",
       "text": [
        " | ETA[sec]: 246.263 "
       ]
      },
      {
       "output_type": "stream",
       "stream": "stderr",
       "text": [
        "\r",
        "[########################      ]"
       ]
      },
      {
       "output_type": "stream",
       "stream": "stderr",
       "text": [
        " | ETA[sec]: 211.092 "
       ]
      },
      {
       "output_type": "stream",
       "stream": "stderr",
       "text": [
        "\r",
        "[#########################     ]"
       ]
      },
      {
       "output_type": "stream",
       "stream": "stderr",
       "text": [
        " | ETA[sec]: 173.208 "
       ]
      },
      {
       "output_type": "stream",
       "stream": "stderr",
       "text": [
        "\r",
        "[##########################    ]"
       ]
      },
      {
       "output_type": "stream",
       "stream": "stderr",
       "text": [
        " | ETA[sec]: 140.730 "
       ]
      },
      {
       "output_type": "stream",
       "stream": "stderr",
       "text": [
        "\r",
        "[###########################   ]"
       ]
      },
      {
       "output_type": "stream",
       "stream": "stderr",
       "text": [
        " | ETA[sec]: 105.551 "
       ]
      },
      {
       "output_type": "stream",
       "stream": "stderr",
       "text": [
        "\r",
        "[############################  ]"
       ]
      },
      {
       "output_type": "stream",
       "stream": "stderr",
       "text": [
        " | ETA[sec]: 67.663 "
       ]
      },
      {
       "output_type": "stream",
       "stream": "stderr",
       "text": [
        "\r",
        "[############################# ]"
       ]
      },
      {
       "output_type": "stream",
       "stream": "stderr",
       "text": [
        " | ETA[sec]: 35.185 "
       ]
      },
      {
       "output_type": "stream",
       "stream": "stderr",
       "text": [
        "\r",
        "[##############################]"
       ]
      },
      {
       "output_type": "stream",
       "stream": "stderr",
       "text": [
        " | ETA[sec]: 0.000 "
       ]
      },
      {
       "output_type": "stream",
       "stream": "stderr",
       "text": [
        "\r",
        "[##############################]"
       ]
      },
      {
       "output_type": "stream",
       "stream": "stderr",
       "text": [
        " | ETA[sec]: 0.000 "
       ]
      },
      {
       "output_type": "stream",
       "stream": "stdout",
       "text": [
        "\n",
        "cost: "
       ]
      },
      {
       "output_type": "stream",
       "stream": "stdout",
       "text": [
        " 0.586364726219\n",
        "epoch 9, train_perf 63.243000, val_perf 53.162270"
       ]
      },
      {
       "output_type": "stream",
       "stream": "stderr",
       "text": [
        "\n",
        "Total time elapsed: 1055.559 sec\n",
        "0%                          100%\n"
       ]
      },
      {
       "output_type": "stream",
       "stream": "stderr",
       "text": [
        "[                              ]"
       ]
      },
      {
       "output_type": "stream",
       "stream": "stderr",
       "text": [
        "\r",
        "[#                             ]"
       ]
      },
      {
       "output_type": "stream",
       "stream": "stderr",
       "text": [
        " | ETA[sec]: 1019.747 "
       ]
      },
      {
       "output_type": "stream",
       "stream": "stderr",
       "text": [
        "\r",
        "[##                            ]"
       ]
      },
      {
       "output_type": "stream",
       "stream": "stderr",
       "text": [
        " | ETA[sec]: 986.463 "
       ]
      },
      {
       "output_type": "stream",
       "stream": "stderr",
       "text": [
        "\r",
        "[###                           ]"
       ]
      },
      {
       "output_type": "stream",
       "stream": "stderr",
       "text": [
        " | ETA[sec]: 950.916 "
       ]
      },
      {
       "output_type": "stream",
       "stream": "stderr",
       "text": [
        "\r",
        "[####                          ]"
       ]
      },
      {
       "output_type": "stream",
       "stream": "stderr",
       "text": [
        " | ETA[sec]: 912.641 "
       ]
      },
      {
       "output_type": "stream",
       "stream": "stderr",
       "text": [
        "\r",
        "[#####                         ]"
       ]
      },
      {
       "output_type": "stream",
       "stream": "stderr",
       "text": [
        " | ETA[sec]: 880.110 "
       ]
      },
      {
       "output_type": "stream",
       "stream": "stderr",
       "text": [
        "\r",
        "[######                        ]"
       ]
      },
      {
       "output_type": "stream",
       "stream": "stderr",
       "text": [
        " | ETA[sec]: 844.859 "
       ]
      },
      {
       "output_type": "stream",
       "stream": "stderr",
       "text": [
        "\r",
        "[#######                       ]"
       ]
      },
      {
       "output_type": "stream",
       "stream": "stderr",
       "text": [
        " | ETA[sec]: 806.953 "
       ]
      },
      {
       "output_type": "stream",
       "stream": "stderr",
       "text": [
        "\r",
        "[########                      ]"
       ]
      },
      {
       "output_type": "stream",
       "stream": "stderr",
       "text": [
        " | ETA[sec]: 774.425 "
       ]
      },
      {
       "output_type": "stream",
       "stream": "stderr",
       "text": [
        "\r",
        "[#########                     ]"
       ]
      },
      {
       "output_type": "stream",
       "stream": "stderr",
       "text": [
        " | ETA[sec]: 739.204 "
       ]
      },
      {
       "output_type": "stream",
       "stream": "stderr",
       "text": [
        "\r",
        "[##########                    ]"
       ]
      },
      {
       "output_type": "stream",
       "stream": "stderr",
       "text": [
        " | ETA[sec]: 701.292 "
       ]
      },
      {
       "output_type": "stream",
       "stream": "stderr",
       "text": [
        "\r",
        "[###########                   ]"
       ]
      },
      {
       "output_type": "stream",
       "stream": "stderr",
       "text": [
        " | ETA[sec]: 668.778 "
       ]
      },
      {
       "output_type": "stream",
       "stream": "stderr",
       "text": [
        "\r",
        "[############                  ]"
       ]
      },
      {
       "output_type": "stream",
       "stream": "stderr",
       "text": [
        " | ETA[sec]: 633.583 "
       ]
      },
      {
       "output_type": "stream",
       "stream": "stderr",
       "text": [
        "\r",
        "[#############                 ]"
       ]
      },
      {
       "output_type": "stream",
       "stream": "stderr",
       "text": [
        " | ETA[sec]: 595.659 "
       ]
      },
      {
       "output_type": "stream",
       "stream": "stderr",
       "text": [
        "\r",
        "[##############                ]"
       ]
      },
      {
       "output_type": "stream",
       "stream": "stderr",
       "text": [
        " | ETA[sec]: 563.180 "
       ]
      },
      {
       "output_type": "stream",
       "stream": "stderr",
       "text": [
        "\r",
        "[###############               ]"
       ]
      },
      {
       "output_type": "stream",
       "stream": "stderr",
       "text": [
        " | ETA[sec]: 527.975 "
       ]
      },
      {
       "output_type": "stream",
       "stream": "stderr",
       "text": [
        "\r",
        "[################              ]"
       ]
      },
      {
       "output_type": "stream",
       "stream": "stderr",
       "text": [
        " | ETA[sec]: 490.114 "
       ]
      },
      {
       "output_type": "stream",
       "stream": "stderr",
       "text": [
        "\r",
        "[#################             ]"
       ]
      },
      {
       "output_type": "stream",
       "stream": "stderr",
       "text": [
        " | ETA[sec]: 457.666 "
       ]
      },
      {
       "output_type": "stream",
       "stream": "stderr",
       "text": [
        "\r",
        "[##################            ]"
       ]
      },
      {
       "output_type": "stream",
       "stream": "stderr",
       "text": [
        " | ETA[sec]: 422.503 "
       ]
      },
      {
       "output_type": "stream",
       "stream": "stderr",
       "text": [
        "\r",
        "[###################           ]"
       ]
      },
      {
       "output_type": "stream",
       "stream": "stderr",
       "text": [
        " | ETA[sec]: 384.594 "
       ]
      },
      {
       "output_type": "stream",
       "stream": "stderr",
       "text": [
        "\r",
        "[####################          ]"
       ]
      },
      {
       "output_type": "stream",
       "stream": "stderr",
       "text": [
        " | ETA[sec]: 352.074 "
       ]
      },
      {
       "output_type": "stream",
       "stream": "stderr",
       "text": [
        "\r",
        "[#####################         ]"
       ]
      },
      {
       "output_type": "stream",
       "stream": "stderr",
       "text": [
        " | ETA[sec]: 316.859 "
       ]
      },
      {
       "output_type": "stream",
       "stream": "stderr",
       "text": [
        "\r",
        "[######################        ]"
       ]
      },
      {
       "output_type": "stream",
       "stream": "stderr",
       "text": [
        " | ETA[sec]: 278.922 "
       ]
      },
      {
       "output_type": "stream",
       "stream": "stderr",
       "text": [
        "\r",
        "[#######################       ]"
       ]
      },
      {
       "output_type": "stream",
       "stream": "stderr",
       "text": [
        " | ETA[sec]: 246.420 "
       ]
      },
      {
       "output_type": "stream",
       "stream": "stderr",
       "text": [
        "\r",
        "[########################      ]"
       ]
      },
      {
       "output_type": "stream",
       "stream": "stderr",
       "text": [
        " | ETA[sec]: 211.208 "
       ]
      },
      {
       "output_type": "stream",
       "stream": "stderr",
       "text": [
        "\r",
        "[#########################     ]"
       ]
      },
      {
       "output_type": "stream",
       "stream": "stderr",
       "text": [
        " | ETA[sec]: 173.298 "
       ]
      },
      {
       "output_type": "stream",
       "stream": "stderr",
       "text": [
        "\r",
        "[##########################    ]"
       ]
      },
      {
       "output_type": "stream",
       "stream": "stderr",
       "text": [
        " | ETA[sec]: 140.805 "
       ]
      },
      {
       "output_type": "stream",
       "stream": "stderr",
       "text": [
        "\r",
        "[###########################   ]"
       ]
      },
      {
       "output_type": "stream",
       "stream": "stderr",
       "text": [
        " | ETA[sec]: 105.605 "
       ]
      },
      {
       "output_type": "stream",
       "stream": "stderr",
       "text": [
        "\r",
        "[############################  ]"
       ]
      },
      {
       "output_type": "stream",
       "stream": "stderr",
       "text": [
        " | ETA[sec]: 67.696 "
       ]
      },
      {
       "output_type": "stream",
       "stream": "stderr",
       "text": [
        "\r",
        "[############################# ]"
       ]
      },
      {
       "output_type": "stream",
       "stream": "stderr",
       "text": [
        " | ETA[sec]: 35.203 "
       ]
      },
      {
       "output_type": "stream",
       "stream": "stderr",
       "text": [
        "\r",
        "[##############################]"
       ]
      },
      {
       "output_type": "stream",
       "stream": "stderr",
       "text": [
        " | ETA[sec]: 0.000 "
       ]
      },
      {
       "output_type": "stream",
       "stream": "stderr",
       "text": [
        "\r",
        "[##############################]"
       ]
      },
      {
       "output_type": "stream",
       "stream": "stderr",
       "text": [
        " | ETA[sec]: 0.000 "
       ]
      },
      {
       "output_type": "stream",
       "stream": "stdout",
       "text": [
        "\n",
        "cost: "
       ]
      },
      {
       "output_type": "stream",
       "stream": "stdout",
       "text": [
        " 0.564553138871\n",
        "epoch 10, train_perf 63.932000, val_perf 54.340441"
       ]
      },
      {
       "output_type": "stream",
       "stream": "stdout",
       "text": [
        "\n",
        "test_perf 54.516783"
       ]
      },
      {
       "output_type": "stream",
       "stream": "stderr",
       "text": [
        "\n",
        "Total time elapsed: 1056.099 sec\n",
        "0%                          100%\n"
       ]
      },
      {
       "output_type": "stream",
       "stream": "stderr",
       "text": [
        "[                              ]"
       ]
      },
      {
       "output_type": "stream",
       "stream": "stderr",
       "text": [
        "\r",
        "[#                             ]"
       ]
      },
      {
       "output_type": "stream",
       "stream": "stderr",
       "text": [
        " | ETA[sec]: 1019.230 "
       ]
      },
      {
       "output_type": "stream",
       "stream": "stderr",
       "text": [
        "\r",
        "[##                            ]"
       ]
      },
      {
       "output_type": "stream",
       "stream": "stderr",
       "text": [
        " | ETA[sec]: 986.128 "
       ]
      },
      {
       "output_type": "stream",
       "stream": "stderr",
       "text": [
        "\r",
        "[###                           ]"
       ]
      },
      {
       "output_type": "stream",
       "stream": "stderr",
       "text": [
        " | ETA[sec]: 950.788 "
       ]
      },
      {
       "output_type": "stream",
       "stream": "stderr",
       "text": [
        "\r",
        "[####                          ]"
       ]
      },
      {
       "output_type": "stream",
       "stream": "stderr",
       "text": [
        " | ETA[sec]: 913.073 "
       ]
      },
      {
       "output_type": "stream",
       "stream": "stderr",
       "text": [
        "\r",
        "[#####                         ]"
       ]
      },
      {
       "output_type": "stream",
       "stream": "stderr",
       "text": [
        " | ETA[sec]: 880.528 "
       ]
      },
      {
       "output_type": "stream",
       "stream": "stderr",
       "text": [
        "\r",
        "[######                        ]"
       ]
      },
      {
       "output_type": "stream",
       "stream": "stderr",
       "text": [
        " | ETA[sec]: 845.103 "
       ]
      },
      {
       "output_type": "stream",
       "stream": "stderr",
       "text": [
        "\r",
        "[#######                       ]"
       ]
      },
      {
       "output_type": "stream",
       "stream": "stderr",
       "text": [
        " | ETA[sec]: 807.082 "
       ]
      },
      {
       "output_type": "stream",
       "stream": "stderr",
       "text": [
        "\r",
        "[########                      ]"
       ]
      },
      {
       "output_type": "stream",
       "stream": "stderr",
       "text": [
        " | ETA[sec]: 774.445 "
       ]
      },
      {
       "output_type": "stream",
       "stream": "stderr",
       "text": [
        "\r",
        "[#########                     ]"
       ]
      },
      {
       "output_type": "stream",
       "stream": "stderr",
       "text": [
        " | ETA[sec]: 739.162 "
       ]
      },
      {
       "output_type": "stream",
       "stream": "stderr",
       "text": [
        "\r",
        "[##########                    ]"
       ]
      },
      {
       "output_type": "stream",
       "stream": "stderr",
       "text": [
        " | ETA[sec]: 701.191 "
       ]
      },
      {
       "output_type": "stream",
       "stream": "stderr",
       "text": [
        "\r",
        "[###########                   ]"
       ]
      },
      {
       "output_type": "stream",
       "stream": "stderr",
       "text": [
        " | ETA[sec]: 668.659 "
       ]
      },
      {
       "output_type": "stream",
       "stream": "stderr",
       "text": [
        "\r",
        "[############                  ]"
       ]
      },
      {
       "output_type": "stream",
       "stream": "stderr",
       "text": [
        " | ETA[sec]: 633.493 "
       ]
      },
      {
       "output_type": "stream",
       "stream": "stderr",
       "text": [
        "\r",
        "[#############                 ]"
       ]
      },
      {
       "output_type": "stream",
       "stream": "stderr",
       "text": [
        " | ETA[sec]: 595.590 "
       ]
      },
      {
       "output_type": "stream",
       "stream": "stderr",
       "text": [
        "\r",
        "[##############                ]"
       ]
      },
      {
       "output_type": "stream",
       "stream": "stderr",
       "text": [
        " | ETA[sec]: 563.139 "
       ]
      },
      {
       "output_type": "stream",
       "stream": "stderr",
       "text": [
        "\r",
        "[###############               ]"
       ]
      },
      {
       "output_type": "stream",
       "stream": "stderr",
       "text": [
        " | ETA[sec]: 527.953 "
       ]
      },
      {
       "output_type": "stream",
       "stream": "stderr",
       "text": [
        "\r",
        "[################              ]"
       ]
      },
      {
       "output_type": "stream",
       "stream": "stderr",
       "text": [
        " | ETA[sec]: 490.058 "
       ]
      },
      {
       "output_type": "stream",
       "stream": "stderr",
       "text": [
        "\r",
        "[#################             ]"
       ]
      },
      {
       "output_type": "stream",
       "stream": "stderr",
       "text": [
        " | ETA[sec]: 457.572 "
       ]
      },
      {
       "output_type": "stream",
       "stream": "stderr",
       "text": [
        "\r",
        "[##################            ]"
       ]
      },
      {
       "output_type": "stream",
       "stream": "stderr",
       "text": [
        " | ETA[sec]: 422.379 "
       ]
      },
      {
       "output_type": "stream",
       "stream": "stderr",
       "text": [
        "\r",
        "[###################           ]"
       ]
      },
      {
       "output_type": "stream",
       "stream": "stderr",
       "text": [
        " | ETA[sec]: 384.494 "
       ]
      },
      {
       "output_type": "stream",
       "stream": "stderr",
       "text": [
        "\r",
        "[####################          ]"
       ]
      },
      {
       "output_type": "stream",
       "stream": "stderr",
       "text": [
        " | ETA[sec]: 352.008 "
       ]
      },
      {
       "output_type": "stream",
       "stream": "stderr",
       "text": [
        "\r",
        "[#####################         ]"
       ]
      },
      {
       "output_type": "stream",
       "stream": "stderr",
       "text": [
        " | ETA[sec]: 316.816 "
       ]
      },
      {
       "output_type": "stream",
       "stream": "stderr",
       "text": [
        "\r",
        "[######################        ]"
       ]
      },
      {
       "output_type": "stream",
       "stream": "stderr",
       "text": [
        " | ETA[sec]: 278.909 "
       ]
      },
      {
       "output_type": "stream",
       "stream": "stderr",
       "text": [
        "\r",
        "[#######################       ]"
       ]
      },
      {
       "output_type": "stream",
       "stream": "stderr",
       "text": [
        " | ETA[sec]: 246.411 "
       ]
      },
      {
       "output_type": "stream",
       "stream": "stderr",
       "text": [
        "\r",
        "[########################      ]"
       ]
      },
      {
       "output_type": "stream",
       "stream": "stderr",
       "text": [
        " | ETA[sec]: 211.209 "
       ]
      },
      {
       "output_type": "stream",
       "stream": "stderr",
       "text": [
        "\r",
        "[#########################     ]"
       ]
      },
      {
       "output_type": "stream",
       "stream": "stderr",
       "text": [
        " | ETA[sec]: 173.309 "
       ]
      },
      {
       "output_type": "stream",
       "stream": "stderr",
       "text": [
        "\r",
        "[##########################    ]"
       ]
      },
      {
       "output_type": "stream",
       "stream": "stderr",
       "text": [
        " | ETA[sec]: 140.814 "
       ]
      },
      {
       "output_type": "stream",
       "stream": "stderr",
       "text": [
        "\r",
        "[###########################   ]"
       ]
      },
      {
       "output_type": "stream",
       "stream": "stderr",
       "text": [
        " | ETA[sec]: 105.612 "
       ]
      },
      {
       "output_type": "stream",
       "stream": "stderr",
       "text": [
        "\r",
        "[############################  ]"
       ]
      },
      {
       "output_type": "stream",
       "stream": "stderr",
       "text": [
        " | ETA[sec]: 67.702 "
       ]
      },
      {
       "output_type": "stream",
       "stream": "stderr",
       "text": [
        "\r",
        "[############################# ]"
       ]
      },
      {
       "output_type": "stream",
       "stream": "stderr",
       "text": [
        " | ETA[sec]: 35.205 "
       ]
      },
      {
       "output_type": "stream",
       "stream": "stderr",
       "text": [
        "\r",
        "[##############################]"
       ]
      },
      {
       "output_type": "stream",
       "stream": "stderr",
       "text": [
        " | ETA[sec]: 0.000 "
       ]
      },
      {
       "output_type": "stream",
       "stream": "stderr",
       "text": [
        "\r",
        "[##############################]"
       ]
      },
      {
       "output_type": "stream",
       "stream": "stderr",
       "text": [
        " | ETA[sec]: 0.000 "
       ]
      },
      {
       "output_type": "stream",
       "stream": "stdout",
       "text": [
        "\n",
        "cost: "
       ]
      },
      {
       "output_type": "stream",
       "stream": "stdout",
       "text": [
        " 0.547414020266\n",
        "epoch 11, train_perf 65.046000, val_perf 45.753524"
       ]
      },
      {
       "output_type": "stream",
       "stream": "stderr",
       "text": [
        "\n",
        "Total time elapsed: 1056.179 sec\n",
        "0%                          100%\n"
       ]
      },
      {
       "output_type": "stream",
       "stream": "stderr",
       "text": [
        "[                              ]"
       ]
      },
      {
       "output_type": "stream",
       "stream": "stderr",
       "text": [
        "\r",
        "[#                             ]"
       ]
      },
      {
       "output_type": "stream",
       "stream": "stderr",
       "text": [
        " | ETA[sec]: 1017.637 "
       ]
      },
      {
       "output_type": "stream",
       "stream": "stderr",
       "text": [
        "\r",
        "[##                            ]"
       ]
      },
      {
       "output_type": "stream",
       "stream": "stderr",
       "text": [
        " | ETA[sec]: 985.233 "
       ]
      },
      {
       "output_type": "stream",
       "stream": "stderr",
       "text": [
        "\r",
        "[###                           ]"
       ]
      },
      {
       "output_type": "stream",
       "stream": "stderr",
       "text": [
        " | ETA[sec]: 950.315 "
       ]
      },
      {
       "output_type": "stream",
       "stream": "stderr",
       "text": [
        "\r",
        "[####                          ]"
       ]
      },
      {
       "output_type": "stream",
       "stream": "stderr",
       "text": [
        " | ETA[sec]: 912.647 "
       ]
      },
      {
       "output_type": "stream",
       "stream": "stderr",
       "text": [
        "\r",
        "[#####                         ]"
       ]
      },
      {
       "output_type": "stream",
       "stream": "stderr",
       "text": [
        " | ETA[sec]: 880.151 "
       ]
      },
      {
       "output_type": "stream",
       "stream": "stderr",
       "text": [
        "\r",
        "[######                        ]"
       ]
      },
      {
       "output_type": "stream",
       "stream": "stderr",
       "text": [
        " | ETA[sec]: 845.048 "
       ]
      },
      {
       "output_type": "stream",
       "stream": "stderr",
       "text": [
        "\r",
        "[#######                       ]"
       ]
      },
      {
       "output_type": "stream",
       "stream": "stderr",
       "text": [
        " | ETA[sec]: 807.124 "
       ]
      },
      {
       "output_type": "stream",
       "stream": "stderr",
       "text": [
        "\r",
        "[########                      ]"
       ]
      },
      {
       "output_type": "stream",
       "stream": "stderr",
       "text": [
        " | ETA[sec]: 774.569 "
       ]
      },
      {
       "output_type": "stream",
       "stream": "stderr",
       "text": [
        "\r",
        "[#########                     ]"
       ]
      },
      {
       "output_type": "stream",
       "stream": "stderr",
       "text": [
        " | ETA[sec]: 739.351 "
       ]
      },
      {
       "output_type": "stream",
       "stream": "stderr",
       "text": [
        "\r",
        "[##########                    ]"
       ]
      },
      {
       "output_type": "stream",
       "stream": "stderr",
       "text": [
        " | ETA[sec]: 701.397 "
       ]
      },
      {
       "output_type": "stream",
       "stream": "stderr",
       "text": [
        "\r",
        "[###########                   ]"
       ]
      },
      {
       "output_type": "stream",
       "stream": "stderr",
       "text": [
        " | ETA[sec]: 668.870 "
       ]
      },
      {
       "output_type": "stream",
       "stream": "stderr",
       "text": [
        "\r",
        "[############                  ]"
       ]
      },
      {
       "output_type": "stream",
       "stream": "stderr",
       "text": [
        " | ETA[sec]: 633.655 "
       ]
      },
      {
       "output_type": "stream",
       "stream": "stderr",
       "text": [
        "\r",
        "[#############                 ]"
       ]
      },
      {
       "output_type": "stream",
       "stream": "stderr",
       "text": [
        " | ETA[sec]: 595.749 "
       ]
      },
      {
       "output_type": "stream",
       "stream": "stderr",
       "text": [
        "\r",
        "[##############                ]"
       ]
      },
      {
       "output_type": "stream",
       "stream": "stderr",
       "text": [
        " | ETA[sec]: 563.234 "
       ]
      },
      {
       "output_type": "stream",
       "stream": "stderr",
       "text": [
        "\r",
        "[###############               ]"
       ]
      },
      {
       "output_type": "stream",
       "stream": "stderr",
       "text": [
        " | ETA[sec]: 528.013 "
       ]
      },
      {
       "output_type": "stream",
       "stream": "stderr",
       "text": [
        "\r",
        "[################              ]"
       ]
      },
      {
       "output_type": "stream",
       "stream": "stderr",
       "text": [
        " | ETA[sec]: 490.113 "
       ]
      },
      {
       "output_type": "stream",
       "stream": "stderr",
       "text": [
        "\r",
        "[#################             ]"
       ]
      },
      {
       "output_type": "stream",
       "stream": "stderr",
       "text": [
        " | ETA[sec]: 457.602 "
       ]
      },
      {
       "output_type": "stream",
       "stream": "stderr",
       "text": [
        "\r",
        "[##################            ]"
       ]
      },
      {
       "output_type": "stream",
       "stream": "stderr",
       "text": [
        " | ETA[sec]: 422.414 "
       ]
      },
      {
       "output_type": "stream",
       "stream": "stderr",
       "text": [
        "\r",
        "[###################           ]"
       ]
      },
      {
       "output_type": "stream",
       "stream": "stderr",
       "text": [
        " | ETA[sec]: 384.513 "
       ]
      },
      {
       "output_type": "stream",
       "stream": "stderr",
       "text": [
        "\r",
        "[####################          ]"
       ]
      },
      {
       "output_type": "stream",
       "stream": "stderr",
       "text": [
        " | ETA[sec]: 352.008 "
       ]
      },
      {
       "output_type": "stream",
       "stream": "stderr",
       "text": [
        "\r",
        "[#####################         ]"
       ]
      },
      {
       "output_type": "stream",
       "stream": "stderr",
       "text": [
        " | ETA[sec]: 316.812 "
       ]
      },
      {
       "output_type": "stream",
       "stream": "stderr",
       "text": [
        "\r",
        "[######################        ]"
       ]
      },
      {
       "output_type": "stream",
       "stream": "stderr",
       "text": [
        " | ETA[sec]: 278.913 "
       ]
      },
      {
       "output_type": "stream",
       "stream": "stderr",
       "text": [
        "\r",
        "[#######################       ]"
       ]
      },
      {
       "output_type": "stream",
       "stream": "stderr",
       "text": [
        " | ETA[sec]: 246.416 "
       ]
      },
      {
       "output_type": "stream",
       "stream": "stderr",
       "text": [
        "\r",
        "[########################      ]"
       ]
      },
      {
       "output_type": "stream",
       "stream": "stderr",
       "text": [
        " | ETA[sec]: 211.213 "
       ]
      },
      {
       "output_type": "stream",
       "stream": "stderr",
       "text": [
        "\r",
        "[#########################     ]"
       ]
      },
      {
       "output_type": "stream",
       "stream": "stderr",
       "text": [
        " | ETA[sec]: 173.313 "
       ]
      },
      {
       "output_type": "stream",
       "stream": "stderr",
       "text": [
        "\r",
        "[##########################    ]"
       ]
      },
      {
       "output_type": "stream",
       "stream": "stderr",
       "text": [
        " | ETA[sec]: 140.829 "
       ]
      },
      {
       "output_type": "stream",
       "stream": "stderr",
       "text": [
        "\r",
        "[###########################   ]"
       ]
      },
      {
       "output_type": "stream",
       "stream": "stderr",
       "text": [
        " | ETA[sec]: 105.623 "
       ]
      },
      {
       "output_type": "stream",
       "stream": "stderr",
       "text": [
        "\r",
        "[############################  ]"
       ]
      },
      {
       "output_type": "stream",
       "stream": "stderr",
       "text": [
        " | ETA[sec]: 67.707 "
       ]
      },
      {
       "output_type": "stream",
       "stream": "stderr",
       "text": [
        "\r",
        "[############################# ]"
       ]
      },
      {
       "output_type": "stream",
       "stream": "stderr",
       "text": [
        " | ETA[sec]: 35.207 "
       ]
      },
      {
       "output_type": "stream",
       "stream": "stderr",
       "text": [
        "\r",
        "[##############################]"
       ]
      },
      {
       "output_type": "stream",
       "stream": "stderr",
       "text": [
        " | ETA[sec]: 0.000 "
       ]
      },
      {
       "output_type": "stream",
       "stream": "stderr",
       "text": [
        "\r",
        "[##############################]"
       ]
      },
      {
       "output_type": "stream",
       "stream": "stderr",
       "text": [
        " | ETA[sec]: 0.000 "
       ]
      },
      {
       "output_type": "stream",
       "stream": "stdout",
       "text": [
        "\n",
        "cost: "
       ]
      },
      {
       "output_type": "stream",
       "stream": "stdout",
       "text": [
        " 0.53272683353\n",
        "epoch 12, train_perf 65.386000, val_perf 52.782797"
       ]
      },
      {
       "output_type": "stream",
       "stream": "stderr",
       "text": [
        "\n",
        "Total time elapsed: 1056.198 sec\n",
        "0%                          100%\n"
       ]
      },
      {
       "output_type": "stream",
       "stream": "stderr",
       "text": [
        "[                              ]"
       ]
      },
      {
       "output_type": "stream",
       "stream": "stderr",
       "text": [
        "\r",
        "[#                             ]"
       ]
      },
      {
       "output_type": "stream",
       "stream": "stderr",
       "text": [
        " | ETA[sec]: 1018.279 "
       ]
      },
      {
       "output_type": "stream",
       "stream": "stderr",
       "text": [
        "\r",
        "[##                            ]"
       ]
      },
      {
       "output_type": "stream",
       "stream": "stderr",
       "text": [
        " | ETA[sec]: 985.482 "
       ]
      },
      {
       "output_type": "stream",
       "stream": "stderr",
       "text": [
        "\r",
        "[###                           ]"
       ]
      },
      {
       "output_type": "stream",
       "stream": "stderr",
       "text": [
        " | ETA[sec]: 949.897 "
       ]
      },
      {
       "output_type": "stream",
       "stream": "stderr",
       "text": [
        "\r",
        "[####                          ]"
       ]
      },
      {
       "output_type": "stream",
       "stream": "stderr",
       "text": [
        " | ETA[sec]: 912.472 "
       ]
      },
      {
       "output_type": "stream",
       "stream": "stderr",
       "text": [
        "\r",
        "[#####                         ]"
       ]
      },
      {
       "output_type": "stream",
       "stream": "stderr",
       "text": [
        " | ETA[sec]: 880.038 "
       ]
      },
      {
       "output_type": "stream",
       "stream": "stderr",
       "text": [
        "\r",
        "[######                        ]"
       ]
      },
      {
       "output_type": "stream",
       "stream": "stderr",
       "text": [
        " | ETA[sec]: 844.686 "
       ]
      },
      {
       "output_type": "stream",
       "stream": "stderr",
       "text": [
        "\r",
        "[#######                       ]"
       ]
      },
      {
       "output_type": "stream",
       "stream": "stderr",
       "text": [
        " | ETA[sec]: 806.792 "
       ]
      },
      {
       "output_type": "stream",
       "stream": "stderr",
       "text": [
        "\r",
        "[########                      ]"
       ]
      },
      {
       "output_type": "stream",
       "stream": "stderr",
       "text": [
        " | ETA[sec]: 774.258 "
       ]
      },
      {
       "output_type": "stream",
       "stream": "stderr",
       "text": [
        "\r",
        "[#########                     ]"
       ]
      },
      {
       "output_type": "stream",
       "stream": "stderr",
       "text": [
        " | ETA[sec]: 739.096 "
       ]
      },
      {
       "output_type": "stream",
       "stream": "stderr",
       "text": [
        "\r",
        "[##########                    ]"
       ]
      },
      {
       "output_type": "stream",
       "stream": "stderr",
       "text": [
        " | ETA[sec]: 701.171 "
       ]
      },
      {
       "output_type": "stream",
       "stream": "stderr",
       "text": [
        "\r",
        "[###########                   ]"
       ]
      },
      {
       "output_type": "stream",
       "stream": "stderr",
       "text": [
        " | ETA[sec]: 668.681 "
       ]
      },
      {
       "output_type": "stream",
       "stream": "stderr",
       "text": [
        "\r",
        "[############                  ]"
       ]
      },
      {
       "output_type": "stream",
       "stream": "stderr",
       "text": [
        " | ETA[sec]: 633.517 "
       ]
      },
      {
       "output_type": "stream",
       "stream": "stderr",
       "text": [
        "\r",
        "[#############                 ]"
       ]
      },
      {
       "output_type": "stream",
       "stream": "stderr",
       "text": [
        " | ETA[sec]: 595.718 "
       ]
      },
      {
       "output_type": "stream",
       "stream": "stderr",
       "text": [
        "\r",
        "[##############                ]"
       ]
      },
      {
       "output_type": "stream",
       "stream": "stderr",
       "text": [
        " | ETA[sec]: 563.232 "
       ]
      },
      {
       "output_type": "stream",
       "stream": "stderr",
       "text": [
        "\r",
        "[###############               ]"
       ]
      },
      {
       "output_type": "stream",
       "stream": "stderr",
       "text": [
        " | ETA[sec]: 528.025 "
       ]
      },
      {
       "output_type": "stream",
       "stream": "stderr",
       "text": [
        "\r",
        "[################              ]"
       ]
      },
      {
       "output_type": "stream",
       "stream": "stderr",
       "text": [
        " | ETA[sec]: 490.100 "
       ]
      },
      {
       "output_type": "stream",
       "stream": "stderr",
       "text": [
        "\r",
        "[#################             ]"
       ]
      },
      {
       "output_type": "stream",
       "stream": "stderr",
       "text": [
        " | ETA[sec]: 457.593 "
       ]
      },
      {
       "output_type": "stream",
       "stream": "stderr",
       "text": [
        "\r",
        "[##################            ]"
       ]
      },
      {
       "output_type": "stream",
       "stream": "stderr",
       "text": [
        " | ETA[sec]: 422.418 "
       ]
      },
      {
       "output_type": "stream",
       "stream": "stderr",
       "text": [
        "\r",
        "[###################           ]"
       ]
      },
      {
       "output_type": "stream",
       "stream": "stderr",
       "text": [
        " | ETA[sec]: 384.518 "
       ]
      },
      {
       "output_type": "stream",
       "stream": "stderr",
       "text": [
        "\r",
        "[####################          ]"
       ]
      },
      {
       "output_type": "stream",
       "stream": "stderr",
       "text": [
        " | ETA[sec]: 352.024 "
       ]
      },
      {
       "output_type": "stream",
       "stream": "stderr",
       "text": [
        "\r",
        "[#####################         ]"
       ]
      },
      {
       "output_type": "stream",
       "stream": "stderr",
       "text": [
        " | ETA[sec]: 316.840 "
       ]
      },
      {
       "output_type": "stream",
       "stream": "stderr",
       "text": [
        "\r",
        "[######################        ]"
       ]
      },
      {
       "output_type": "stream",
       "stream": "stderr",
       "text": [
        " | ETA[sec]: 278.931 "
       ]
      },
      {
       "output_type": "stream",
       "stream": "stderr",
       "text": [
        "\r",
        "[#######################       ]"
       ]
      },
      {
       "output_type": "stream",
       "stream": "stderr",
       "text": [
        " | ETA[sec]: 246.447 "
       ]
      },
      {
       "output_type": "stream",
       "stream": "stderr",
       "text": [
        "\r",
        "[########################      ]"
       ]
      },
      {
       "output_type": "stream",
       "stream": "stderr",
       "text": [
        " | ETA[sec]: 211.255 "
       ]
      },
      {
       "output_type": "stream",
       "stream": "stderr",
       "text": [
        "\r",
        "[#########################     ]"
       ]
      },
      {
       "output_type": "stream",
       "stream": "stderr",
       "text": [
        " | ETA[sec]: 173.337 "
       ]
      },
      {
       "output_type": "stream",
       "stream": "stderr",
       "text": [
        "\r",
        "[##########################    ]"
       ]
      },
      {
       "output_type": "stream",
       "stream": "stderr",
       "text": [
        " | ETA[sec]: 140.835 "
       ]
      },
      {
       "output_type": "stream",
       "stream": "stderr",
       "text": [
        "\r",
        "[###########################   ]"
       ]
      },
      {
       "output_type": "stream",
       "stream": "stderr",
       "text": [
        " | ETA[sec]: 105.625 "
       ]
      },
      {
       "output_type": "stream",
       "stream": "stderr",
       "text": [
        "\r",
        "[############################  ]"
       ]
      },
      {
       "output_type": "stream",
       "stream": "stderr",
       "text": [
        " | ETA[sec]: 67.711 "
       ]
      },
      {
       "output_type": "stream",
       "stream": "stderr",
       "text": [
        "\r",
        "[############################# ]"
       ]
      },
      {
       "output_type": "stream",
       "stream": "stderr",
       "text": [
        " | ETA[sec]: 35.210 "
       ]
      },
      {
       "output_type": "stream",
       "stream": "stderr",
       "text": [
        "\r",
        "[##############################]"
       ]
      },
      {
       "output_type": "stream",
       "stream": "stderr",
       "text": [
        " | ETA[sec]: 0.000 "
       ]
      },
      {
       "output_type": "stream",
       "stream": "stderr",
       "text": [
        "\r",
        "[##############################]"
       ]
      },
      {
       "output_type": "stream",
       "stream": "stderr",
       "text": [
        " | ETA[sec]: 0.000 "
       ]
      },
      {
       "output_type": "stream",
       "stream": "stdout",
       "text": [
        "\n",
        "cost: "
       ]
      },
      {
       "output_type": "stream",
       "stream": "stdout",
       "text": [
        " 0.523599204069\n",
        "epoch 13, train_perf 65.834000, val_perf 52.453921"
       ]
      },
      {
       "output_type": "stream",
       "stream": "stderr",
       "text": [
        "\n",
        "Total time elapsed: 1056.373 sec\n",
        "0%                          100%\n"
       ]
      },
      {
       "output_type": "stream",
       "stream": "stderr",
       "text": [
        "[                              ]"
       ]
      },
      {
       "output_type": "stream",
       "stream": "stderr",
       "text": [
        "\r",
        "[#                             ]"
       ]
      },
      {
       "output_type": "stream",
       "stream": "stderr",
       "text": [
        " | ETA[sec]: 1020.008 "
       ]
      },
      {
       "output_type": "stream",
       "stream": "stderr",
       "text": [
        "\r",
        "[##                            ]"
       ]
      },
      {
       "output_type": "stream",
       "stream": "stderr",
       "text": [
        " | ETA[sec]: 986.508 "
       ]
      },
      {
       "output_type": "stream",
       "stream": "stderr",
       "text": [
        "\r",
        "[###                           ]"
       ]
      },
      {
       "output_type": "stream",
       "stream": "stderr",
       "text": [
        " | ETA[sec]: 950.785 "
       ]
      },
      {
       "output_type": "stream",
       "stream": "stderr",
       "text": [
        "\r",
        "[####                          ]"
       ]
      },
      {
       "output_type": "stream",
       "stream": "stderr",
       "text": [
        " | ETA[sec]: 912.865 "
       ]
      },
      {
       "output_type": "stream",
       "stream": "stderr",
       "text": [
        "\r",
        "[#####                         ]"
       ]
      },
      {
       "output_type": "stream",
       "stream": "stderr",
       "text": [
        " | ETA[sec]: 880.358 "
       ]
      },
      {
       "output_type": "stream",
       "stream": "stderr",
       "text": [
        "\r",
        "[######                        ]"
       ]
      },
      {
       "output_type": "stream",
       "stream": "stderr",
       "text": [
        " | ETA[sec]: 845.068 "
       ]
      },
      {
       "output_type": "stream",
       "stream": "stderr",
       "text": [
        "\r",
        "[#######                       ]"
       ]
      },
      {
       "output_type": "stream",
       "stream": "stderr",
       "text": [
        " | ETA[sec]: 807.051 "
       ]
      },
      {
       "output_type": "stream",
       "stream": "stderr",
       "text": [
        "\r",
        "[########                      ]"
       ]
      },
      {
       "output_type": "stream",
       "stream": "stderr",
       "text": [
        " | ETA[sec]: 774.559 "
       ]
      },
      {
       "output_type": "stream",
       "stream": "stderr",
       "text": [
        "\r",
        "[#########                     ]"
       ]
      },
      {
       "output_type": "stream",
       "stream": "stderr",
       "text": [
        " | ETA[sec]: 739.359 "
       ]
      },
      {
       "output_type": "stream",
       "stream": "stderr",
       "text": [
        "\r",
        "[##########                    ]"
       ]
      },
      {
       "output_type": "stream",
       "stream": "stderr",
       "text": [
        " | ETA[sec]: 701.358 "
       ]
      },
      {
       "output_type": "stream",
       "stream": "stderr",
       "text": [
        "\r",
        "[###########                   ]"
       ]
      },
      {
       "output_type": "stream",
       "stream": "stderr",
       "text": [
        " | ETA[sec]: 668.887 "
       ]
      },
      {
       "output_type": "stream",
       "stream": "stderr",
       "text": [
        "\r",
        "[############                  ]"
       ]
      },
      {
       "output_type": "stream",
       "stream": "stderr",
       "text": [
        " | ETA[sec]: 633.706 "
       ]
      },
      {
       "output_type": "stream",
       "stream": "stderr",
       "text": [
        "\r",
        "[#############                 ]"
       ]
      },
      {
       "output_type": "stream",
       "stream": "stderr",
       "text": [
        " | ETA[sec]: 595.775 "
       ]
      },
      {
       "output_type": "stream",
       "stream": "stderr",
       "text": [
        "\r",
        "[##############                ]"
       ]
      },
      {
       "output_type": "stream",
       "stream": "stderr",
       "text": [
        " | ETA[sec]: 563.264 "
       ]
      },
      {
       "output_type": "stream",
       "stream": "stderr",
       "text": [
        "\r",
        "[###############               ]"
       ]
      },
      {
       "output_type": "stream",
       "stream": "stderr",
       "text": [
        " | ETA[sec]: 528.076 "
       ]
      },
      {
       "output_type": "stream",
       "stream": "stderr",
       "text": [
        "\r",
        "[################              ]"
       ]
      },
      {
       "output_type": "stream",
       "stream": "stderr",
       "text": [
        " | ETA[sec]: 490.179 "
       ]
      },
      {
       "output_type": "stream",
       "stream": "stderr",
       "text": [
        "\r",
        "[#################             ]"
       ]
      },
      {
       "output_type": "stream",
       "stream": "stderr",
       "text": [
        " | ETA[sec]: 457.693 "
       ]
      },
      {
       "output_type": "stream",
       "stream": "stderr",
       "text": [
        "\r",
        "[##################            ]"
       ]
      },
      {
       "output_type": "stream",
       "stream": "stderr",
       "text": [
        " | ETA[sec]: 422.487 "
       ]
      },
      {
       "output_type": "stream",
       "stream": "stderr",
       "text": [
        "\r",
        "[###################           ]"
       ]
      },
      {
       "output_type": "stream",
       "stream": "stderr",
       "text": [
        " | ETA[sec]: 384.607 "
       ]
      },
      {
       "output_type": "stream",
       "stream": "stderr",
       "text": [
        "\r",
        "[####################          ]"
       ]
      },
      {
       "output_type": "stream",
       "stream": "stderr",
       "text": [
        " | ETA[sec]: 352.104 "
       ]
      },
      {
       "output_type": "stream",
       "stream": "stderr",
       "text": [
        "\r",
        "[#####################         ]"
       ]
      },
      {
       "output_type": "stream",
       "stream": "stderr",
       "text": [
        " | ETA[sec]: 316.898 "
       ]
      },
      {
       "output_type": "stream",
       "stream": "stderr",
       "text": [
        "\r",
        "[######################        ]"
       ]
      },
      {
       "output_type": "stream",
       "stream": "stderr",
       "text": [
        " | ETA[sec]: 278.983 "
       ]
      },
      {
       "output_type": "stream",
       "stream": "stderr",
       "text": [
        "\r",
        "[#######################       ]"
       ]
      },
      {
       "output_type": "stream",
       "stream": "stderr",
       "text": [
        " | ETA[sec]: 246.477 "
       ]
      },
      {
       "output_type": "stream",
       "stream": "stderr",
       "text": [
        "\r",
        "[########################      ]"
       ]
      },
      {
       "output_type": "stream",
       "stream": "stderr",
       "text": [
        " | ETA[sec]: 211.268 "
       ]
      },
      {
       "output_type": "stream",
       "stream": "stderr",
       "text": [
        "\r",
        "[#########################     ]"
       ]
      },
      {
       "output_type": "stream",
       "stream": "stderr",
       "text": [
        " | ETA[sec]: 173.341 "
       ]
      },
      {
       "output_type": "stream",
       "stream": "stderr",
       "text": [
        "\r",
        "[##########################    ]"
       ]
      },
      {
       "output_type": "stream",
       "stream": "stderr",
       "text": [
        " | ETA[sec]: 140.842 "
       ]
      },
      {
       "output_type": "stream",
       "stream": "stderr",
       "text": [
        "\r",
        "[###########################   ]"
       ]
      },
      {
       "output_type": "stream",
       "stream": "stderr",
       "text": [
        " | ETA[sec]: 105.629 "
       ]
      },
      {
       "output_type": "stream",
       "stream": "stderr",
       "text": [
        "\r",
        "[############################  ]"
       ]
      },
      {
       "output_type": "stream",
       "stream": "stderr",
       "text": [
        " | ETA[sec]: 67.711 "
       ]
      },
      {
       "output_type": "stream",
       "stream": "stderr",
       "text": [
        "\r",
        "[############################# ]"
       ]
      },
      {
       "output_type": "stream",
       "stream": "stderr",
       "text": [
        " | ETA[sec]: 35.211 "
       ]
      },
      {
       "output_type": "stream",
       "stream": "stderr",
       "text": [
        "\r",
        "[##############################]"
       ]
      },
      {
       "output_type": "stream",
       "stream": "stderr",
       "text": [
        " | ETA[sec]: 0.000 "
       ]
      },
      {
       "output_type": "stream",
       "stream": "stderr",
       "text": [
        "\r",
        "[##############################]"
       ]
      },
      {
       "output_type": "stream",
       "stream": "stderr",
       "text": [
        " | ETA[sec]: 0.000 "
       ]
      },
      {
       "output_type": "stream",
       "stream": "stdout",
       "text": [
        "\n",
        "cost: "
       ]
      },
      {
       "output_type": "stream",
       "stream": "stdout",
       "text": [
        " 0.513631324895\n",
        "epoch 14, train_perf 65.887000, val_perf 51.890134"
       ]
      },
      {
       "output_type": "stream",
       "stream": "stderr",
       "text": [
        "\n",
        "Total time elapsed: 1056.355 sec\n",
        "0%                          100%\n"
       ]
      },
      {
       "output_type": "stream",
       "stream": "stderr",
       "text": [
        "[                              ]"
       ]
      },
      {
       "output_type": "stream",
       "stream": "stderr",
       "text": [
        "\r",
        "[#                             ]"
       ]
      },
      {
       "output_type": "stream",
       "stream": "stderr",
       "text": [
        " | ETA[sec]: 1017.803 "
       ]
      },
      {
       "output_type": "stream",
       "stream": "stderr",
       "text": [
        "\r",
        "[##                            ]"
       ]
      },
      {
       "output_type": "stream",
       "stream": "stderr",
       "text": [
        " | ETA[sec]: 985.397 "
       ]
      },
      {
       "output_type": "stream",
       "stream": "stderr",
       "text": [
        "\r",
        "[###                           ]"
       ]
      },
      {
       "output_type": "stream",
       "stream": "stderr",
       "text": [
        " | ETA[sec]: 950.414 "
       ]
      },
      {
       "output_type": "stream",
       "stream": "stderr",
       "text": [
        "\r",
        "[####                          ]"
       ]
      },
      {
       "output_type": "stream",
       "stream": "stderr",
       "text": [
        " | ETA[sec]: 912.605 "
       ]
      },
      {
       "output_type": "stream",
       "stream": "stderr",
       "text": [
        "\r",
        "[#####                         ]"
       ]
      },
      {
       "output_type": "stream",
       "stream": "stderr",
       "text": [
        " | ETA[sec]: 880.028 "
       ]
      },
      {
       "output_type": "stream",
       "stream": "stderr",
       "text": [
        "\r",
        "[######                        ]"
       ]
      },
      {
       "output_type": "stream",
       "stream": "stderr",
       "text": [
        " | ETA[sec]: 844.820 "
       ]
      },
      {
       "output_type": "stream",
       "stream": "stderr",
       "text": [
        "\r",
        "[#######                       ]"
       ]
      },
      {
       "output_type": "stream",
       "stream": "stderr",
       "text": [
        " | ETA[sec]: 807.058 "
       ]
      },
      {
       "output_type": "stream",
       "stream": "stderr",
       "text": [
        "\r",
        "[########                      ]"
       ]
      },
      {
       "output_type": "stream",
       "stream": "stderr",
       "text": [
        " | ETA[sec]: 774.540 "
       ]
      },
      {
       "output_type": "stream",
       "stream": "stderr",
       "text": [
        "\r",
        "[#########                     ]"
       ]
      },
      {
       "output_type": "stream",
       "stream": "stderr",
       "text": [
        " | ETA[sec]: 739.347 "
       ]
      },
      {
       "output_type": "stream",
       "stream": "stderr",
       "text": [
        "\r",
        "[##########                    ]"
       ]
      },
      {
       "output_type": "stream",
       "stream": "stderr",
       "text": [
        " | ETA[sec]: 701.390 "
       ]
      },
      {
       "output_type": "stream",
       "stream": "stderr",
       "text": [
        "\r",
        "[###########                   ]"
       ]
      },
      {
       "output_type": "stream",
       "stream": "stderr",
       "text": [
        " | ETA[sec]: 668.871 "
       ]
      },
      {
       "output_type": "stream",
       "stream": "stderr",
       "text": [
        "\r",
        "[############                  ]"
       ]
      },
      {
       "output_type": "stream",
       "stream": "stderr",
       "text": [
        " | ETA[sec]: 633.655 "
       ]
      },
      {
       "output_type": "stream",
       "stream": "stderr",
       "text": [
        "\r",
        "[#############                 ]"
       ]
      },
      {
       "output_type": "stream",
       "stream": "stderr",
       "text": [
        " | ETA[sec]: 595.749 "
       ]
      },
      {
       "output_type": "stream",
       "stream": "stderr",
       "text": [
        "\r",
        "[##############                ]"
       ]
      },
      {
       "output_type": "stream",
       "stream": "stderr",
       "text": [
        " | ETA[sec]: 563.275 "
       ]
      },
      {
       "output_type": "stream",
       "stream": "stderr",
       "text": [
        "\r",
        "[###############               ]"
       ]
      },
      {
       "output_type": "stream",
       "stream": "stderr",
       "text": [
        " | ETA[sec]: 528.085 "
       ]
      },
      {
       "output_type": "stream",
       "stream": "stderr",
       "text": [
        "\r",
        "[################              ]"
       ]
      },
      {
       "output_type": "stream",
       "stream": "stderr",
       "text": [
        " | ETA[sec]: 490.226 "
       ]
      },
      {
       "output_type": "stream",
       "stream": "stderr",
       "text": [
        "\r",
        "[#################             ]"
       ]
      },
      {
       "output_type": "stream",
       "stream": "stderr",
       "text": [
        " | ETA[sec]: 457.709 "
       ]
      },
      {
       "output_type": "stream",
       "stream": "stderr",
       "text": [
        "\r",
        "[##################            ]"
       ]
      },
      {
       "output_type": "stream",
       "stream": "stderr",
       "text": [
        " | ETA[sec]: 422.476 "
       ]
      },
      {
       "output_type": "stream",
       "stream": "stderr",
       "text": [
        "\r",
        "[###################           ]"
       ]
      },
      {
       "output_type": "stream",
       "stream": "stderr",
       "text": [
        " | ETA[sec]: 384.556 "
       ]
      },
      {
       "output_type": "stream",
       "stream": "stderr",
       "text": [
        "\r",
        "[####################          ]"
       ]
      },
      {
       "output_type": "stream",
       "stream": "stderr",
       "text": [
        " | ETA[sec]: 352.049 "
       ]
      },
      {
       "output_type": "stream",
       "stream": "stderr",
       "text": [
        "\r",
        "[#####################         ]"
       ]
      },
      {
       "output_type": "stream",
       "stream": "stderr",
       "text": [
        " | ETA[sec]: 316.829 "
       ]
      },
      {
       "output_type": "stream",
       "stream": "stderr",
       "text": [
        "\r",
        "[######################        ]"
       ]
      },
      {
       "output_type": "stream",
       "stream": "stderr",
       "text": [
        " | ETA[sec]: 278.897 "
       ]
      },
      {
       "output_type": "stream",
       "stream": "stderr",
       "text": [
        "\r",
        "[#######################       ]"
       ]
      },
      {
       "output_type": "stream",
       "stream": "stderr",
       "text": [
        " | ETA[sec]: 246.401 "
       ]
      },
      {
       "output_type": "stream",
       "stream": "stderr",
       "text": [
        "\r",
        "[########################      ]"
       ]
      },
      {
       "output_type": "stream",
       "stream": "stderr",
       "text": [
        " | ETA[sec]: 211.191 "
       ]
      },
      {
       "output_type": "stream",
       "stream": "stderr",
       "text": [
        "\r",
        "[#########################     ]"
       ]
      },
      {
       "output_type": "stream",
       "stream": "stderr",
       "text": [
        " | ETA[sec]: 173.276 "
       ]
      },
      {
       "output_type": "stream",
       "stream": "stderr",
       "text": [
        "\r",
        "[##########################    ]"
       ]
      },
      {
       "output_type": "stream",
       "stream": "stderr",
       "text": [
        " | ETA[sec]: 140.787 "
       ]
      },
      {
       "output_type": "stream",
       "stream": "stderr",
       "text": [
        "\r",
        "[###########################   ]"
       ]
      },
      {
       "output_type": "stream",
       "stream": "stderr",
       "text": [
        " | ETA[sec]: 105.590 "
       ]
      },
      {
       "output_type": "stream",
       "stream": "stderr",
       "text": [
        "\r",
        "[############################  ]"
       ]
      },
      {
       "output_type": "stream",
       "stream": "stderr",
       "text": [
        " | ETA[sec]: 67.685 "
       ]
      },
      {
       "output_type": "stream",
       "stream": "stderr",
       "text": [
        "\r",
        "[############################# ]"
       ]
      },
      {
       "output_type": "stream",
       "stream": "stderr",
       "text": [
        " | ETA[sec]: 35.197 "
       ]
      },
      {
       "output_type": "stream",
       "stream": "stderr",
       "text": [
        "\r",
        "[##############################]"
       ]
      },
      {
       "output_type": "stream",
       "stream": "stderr",
       "text": [
        " | ETA[sec]: 0.000 "
       ]
      },
      {
       "output_type": "stream",
       "stream": "stderr",
       "text": [
        "\r",
        "[##############################]"
       ]
      },
      {
       "output_type": "stream",
       "stream": "stderr",
       "text": [
        " | ETA[sec]: 0.000 "
       ]
      },
      {
       "output_type": "stream",
       "stream": "stdout",
       "text": [
        "\n",
        "cost: "
       ]
      },
      {
       "output_type": "stream",
       "stream": "stdout",
       "text": [
        " 0.505084036311\n",
        "epoch 15, train_perf 66.381000, val_perf 50.549331"
       ]
      },
      {
       "output_type": "stream",
       "stream": "stderr",
       "text": [
        "\n",
        "Total time elapsed: 1056.099 sec\n",
        "0%                          100%\n"
       ]
      },
      {
       "output_type": "stream",
       "stream": "stderr",
       "text": [
        "[                              ]"
       ]
      },
      {
       "output_type": "stream",
       "stream": "stderr",
       "text": [
        "\r",
        "[#                             ]"
       ]
      },
      {
       "output_type": "stream",
       "stream": "stderr",
       "text": [
        " | ETA[sec]: 1018.490 "
       ]
      },
      {
       "output_type": "stream",
       "stream": "stderr",
       "text": [
        "\r",
        "[##                            ]"
       ]
      },
      {
       "output_type": "stream",
       "stream": "stderr",
       "text": [
        " | ETA[sec]: 985.709 "
       ]
      },
      {
       "output_type": "stream",
       "stream": "stderr",
       "text": [
        "\r",
        "[###                           ]"
       ]
      },
      {
       "output_type": "stream",
       "stream": "stderr",
       "text": [
        " | ETA[sec]: 950.665 "
       ]
      },
      {
       "output_type": "stream",
       "stream": "stderr",
       "text": [
        "\r",
        "[####                          ]"
       ]
      },
      {
       "output_type": "stream",
       "stream": "stderr",
       "text": [
        " | ETA[sec]: 912.912 "
       ]
      },
      {
       "output_type": "stream",
       "stream": "stderr",
       "text": [
        "\r",
        "[#####                         ]"
       ]
      },
      {
       "output_type": "stream",
       "stream": "stderr",
       "text": [
        " | ETA[sec]: 880.404 "
       ]
      },
      {
       "output_type": "stream",
       "stream": "stderr",
       "text": [
        "\r",
        "[######                        ]"
       ]
      },
      {
       "output_type": "stream",
       "stream": "stderr",
       "text": [
        " | ETA[sec]: 845.158 "
       ]
      },
      {
       "output_type": "stream",
       "stream": "stderr",
       "text": [
        "\r",
        "[#######                       ]"
       ]
      },
      {
       "output_type": "stream",
       "stream": "stderr",
       "text": [
        " | ETA[sec]: 807.111 "
       ]
      },
      {
       "output_type": "stream",
       "stream": "stderr",
       "text": [
        "\r",
        "[########                      ]"
       ]
      },
      {
       "output_type": "stream",
       "stream": "stderr",
       "text": [
        " | ETA[sec]: 774.612 "
       ]
      },
      {
       "output_type": "stream",
       "stream": "stderr",
       "text": [
        "\r",
        "[#########                     ]"
       ]
      },
      {
       "output_type": "stream",
       "stream": "stderr",
       "text": [
        " | ETA[sec]: 739.459 "
       ]
      },
      {
       "output_type": "stream",
       "stream": "stderr",
       "text": [
        "\r",
        "[##########                    ]"
       ]
      },
      {
       "output_type": "stream",
       "stream": "stderr",
       "text": [
        " | ETA[sec]: 701.594 "
       ]
      },
      {
       "output_type": "stream",
       "stream": "stderr",
       "text": [
        "\r",
        "[###########                   ]"
       ]
      },
      {
       "output_type": "stream",
       "stream": "stderr",
       "text": [
        " | ETA[sec]: 669.142 "
       ]
      },
      {
       "output_type": "stream",
       "stream": "stderr",
       "text": [
        "\r",
        "[############                  ]"
       ]
      },
      {
       "output_type": "stream",
       "stream": "stderr",
       "text": [
        " | ETA[sec]: 633.956 "
       ]
      },
      {
       "output_type": "stream",
       "stream": "stderr",
       "text": [
        "\r",
        "[#############                 ]"
       ]
      },
      {
       "output_type": "stream",
       "stream": "stderr",
       "text": [
        " | ETA[sec]: 596.081 "
       ]
      },
      {
       "output_type": "stream",
       "stream": "stderr",
       "text": [
        "\r",
        "[##############                ]"
       ]
      },
      {
       "output_type": "stream",
       "stream": "stderr",
       "text": [
        " | ETA[sec]: 563.550 "
       ]
      },
      {
       "output_type": "stream",
       "stream": "stderr",
       "text": [
        "\r",
        "[###############               ]"
       ]
      },
      {
       "output_type": "stream",
       "stream": "stderr",
       "text": [
        " | ETA[sec]: 528.299 "
       ]
      },
      {
       "output_type": "stream",
       "stream": "stderr",
       "text": [
        "\r",
        "[################              ]"
       ]
      },
      {
       "output_type": "stream",
       "stream": "stderr",
       "text": [
        " | ETA[sec]: 490.355 "
       ]
      },
      {
       "output_type": "stream",
       "stream": "stderr",
       "text": [
        "\r",
        "[#################             ]"
       ]
      },
      {
       "output_type": "stream",
       "stream": "stderr",
       "text": [
        " | ETA[sec]: 457.833 "
       ]
      },
      {
       "output_type": "stream",
       "stream": "stderr",
       "text": [
        "\r",
        "[##################            ]"
       ]
      },
      {
       "output_type": "stream",
       "stream": "stderr",
       "text": [
        " | ETA[sec]: 422.586 "
       ]
      },
      {
       "output_type": "stream",
       "stream": "stderr",
       "text": [
        "\r",
        "[###################           ]"
       ]
      },
      {
       "output_type": "stream",
       "stream": "stderr",
       "text": [
        " | ETA[sec]: 384.640 "
       ]
      },
      {
       "output_type": "stream",
       "stream": "stderr",
       "text": [
        "\r",
        "[####################          ]"
       ]
      },
      {
       "output_type": "stream",
       "stream": "stderr",
       "text": [
        " | ETA[sec]: 352.107 "
       ]
      },
      {
       "output_type": "stream",
       "stream": "stderr",
       "text": [
        "\r",
        "[#####################         ]"
       ]
      },
      {
       "output_type": "stream",
       "stream": "stderr",
       "text": [
        " | ETA[sec]: 316.899 "
       ]
      },
      {
       "output_type": "stream",
       "stream": "stderr",
       "text": [
        "\r",
        "[######################        ]"
       ]
      },
      {
       "output_type": "stream",
       "stream": "stderr",
       "text": [
        " | ETA[sec]: 278.948 "
       ]
      },
      {
       "output_type": "stream",
       "stream": "stderr",
       "text": [
        "\r",
        "[#######################       ]"
       ]
      },
      {
       "output_type": "stream",
       "stream": "stderr",
       "text": [
        " | ETA[sec]: 246.448 "
       ]
      },
      {
       "output_type": "stream",
       "stream": "stderr",
       "text": [
        "\r",
        "[########################      ]"
       ]
      },
      {
       "output_type": "stream",
       "stream": "stderr",
       "text": [
        " | ETA[sec]: 211.236 "
       ]
      },
      {
       "output_type": "stream",
       "stream": "stderr",
       "text": [
        "\r",
        "[#########################     ]"
       ]
      },
      {
       "output_type": "stream",
       "stream": "stderr",
       "text": [
        " | ETA[sec]: 173.324 "
       ]
      },
      {
       "output_type": "stream",
       "stream": "stderr",
       "text": [
        "\r",
        "[##########################    ]"
       ]
      },
      {
       "output_type": "stream",
       "stream": "stderr",
       "text": [
        " | ETA[sec]: 140.823 "
       ]
      },
      {
       "output_type": "stream",
       "stream": "stderr",
       "text": [
        "\r",
        "[###########################   ]"
       ]
      },
      {
       "output_type": "stream",
       "stream": "stderr",
       "text": [
        " | ETA[sec]: 105.615 "
       ]
      },
      {
       "output_type": "stream",
       "stream": "stderr",
       "text": [
        "\r",
        "[############################  ]"
       ]
      },
      {
       "output_type": "stream",
       "stream": "stderr",
       "text": [
        " | ETA[sec]: 67.699 "
       ]
      },
      {
       "output_type": "stream",
       "stream": "stderr",
       "text": [
        "\r",
        "[############################# ]"
       ]
      },
      {
       "output_type": "stream",
       "stream": "stderr",
       "text": [
        " | ETA[sec]: 35.203 "
       ]
      },
      {
       "output_type": "stream",
       "stream": "stderr",
       "text": [
        "\r",
        "[##############################]"
       ]
      },
      {
       "output_type": "stream",
       "stream": "stderr",
       "text": [
        " | ETA[sec]: 0.000 "
       ]
      },
      {
       "output_type": "stream",
       "stream": "stderr",
       "text": [
        "\r",
        "[##############################]"
       ]
      },
      {
       "output_type": "stream",
       "stream": "stderr",
       "text": [
        " | ETA[sec]: 0.000 "
       ]
      },
      {
       "output_type": "stream",
       "stream": "stdout",
       "text": [
        "\n",
        "cost: "
       ]
      },
      {
       "output_type": "stream",
       "stream": "stdout",
       "text": [
        " 0.499515062475\n",
        "epoch 16, train_perf 67.363000, val_perf 51.022768"
       ]
      },
      {
       "output_type": "stream",
       "stream": "stderr",
       "text": [
        "\n",
        "Total time elapsed: 1056.085 sec\n",
        "0%                          100%\n"
       ]
      },
      {
       "output_type": "stream",
       "stream": "stderr",
       "text": [
        "[                              ]"
       ]
      },
      {
       "output_type": "stream",
       "stream": "stderr",
       "text": [
        "\r",
        "[#                             ]"
       ]
      },
      {
       "output_type": "stream",
       "stream": "stderr",
       "text": [
        " | ETA[sec]: 1011.506 "
       ]
      },
      {
       "output_type": "stream",
       "stream": "stderr",
       "text": [
        "\r",
        "[##                            ]"
       ]
      },
      {
       "output_type": "stream",
       "stream": "stderr",
       "text": [
        " | ETA[sec]: 979.232 "
       ]
      },
      {
       "output_type": "stream",
       "stream": "stderr",
       "text": [
        "\r",
        "[###                           ]"
       ]
      },
      {
       "output_type": "stream",
       "stream": "stderr",
       "text": [
        " | ETA[sec]: 944.299 "
       ]
      },
      {
       "output_type": "stream",
       "stream": "stderr",
       "text": [
        "\r",
        "[####                          ]"
       ]
      },
      {
       "output_type": "stream",
       "stream": "stderr",
       "text": [
        " | ETA[sec]: 906.517 "
       ]
      },
      {
       "output_type": "stream",
       "stream": "stderr",
       "text": [
        "\r",
        "[#####                         ]"
       ]
      },
      {
       "output_type": "stream",
       "stream": "stderr",
       "text": [
        " | ETA[sec]: 874.169 "
       ]
      },
      {
       "output_type": "stream",
       "stream": "stderr",
       "text": [
        "\r",
        "[######                        ]"
       ]
      },
      {
       "output_type": "stream",
       "stream": "stderr",
       "text": [
        " | ETA[sec]: 839.089 "
       ]
      },
      {
       "output_type": "stream",
       "stream": "stderr",
       "text": [
        "\r",
        "[#######                       ]"
       ]
      },
      {
       "output_type": "stream",
       "stream": "stderr",
       "text": [
        " | ETA[sec]: 801.463 "
       ]
      },
      {
       "output_type": "stream",
       "stream": "stderr",
       "text": [
        "\r",
        "[########                      ]"
       ]
      },
      {
       "output_type": "stream",
       "stream": "stderr",
       "text": [
        " | ETA[sec]: 769.166 "
       ]
      },
      {
       "output_type": "stream",
       "stream": "stderr",
       "text": [
        "\r",
        "[#########                     ]"
       ]
      },
      {
       "output_type": "stream",
       "stream": "stderr",
       "text": [
        " | ETA[sec]: 734.246 "
       ]
      },
      {
       "output_type": "stream",
       "stream": "stderr",
       "text": [
        "\r",
        "[##########                    ]"
       ]
      },
      {
       "output_type": "stream",
       "stream": "stderr",
       "text": [
        " | ETA[sec]: 696.587 "
       ]
      },
      {
       "output_type": "stream",
       "stream": "stderr",
       "text": [
        "\r",
        "[###########                   ]"
       ]
      },
      {
       "output_type": "stream",
       "stream": "stderr",
       "text": [
        " | ETA[sec]: 664.332 "
       ]
      },
      {
       "output_type": "stream",
       "stream": "stderr",
       "text": [
        "\r",
        "[############                  ]"
       ]
      },
      {
       "output_type": "stream",
       "stream": "stderr",
       "text": [
        " | ETA[sec]: 629.464 "
       ]
      },
      {
       "output_type": "stream",
       "stream": "stderr",
       "text": [
        "\r",
        "[#############                 ]"
       ]
      },
      {
       "output_type": "stream",
       "stream": "stderr",
       "text": [
        " | ETA[sec]: 591.856 "
       ]
      },
      {
       "output_type": "stream",
       "stream": "stderr",
       "text": [
        "\r",
        "[##############                ]"
       ]
      },
      {
       "output_type": "stream",
       "stream": "stderr",
       "text": [
        " | ETA[sec]: 559.644 "
       ]
      },
      {
       "output_type": "stream",
       "stream": "stderr",
       "text": [
        "\r",
        "[###############               ]"
       ]
      },
      {
       "output_type": "stream",
       "stream": "stderr",
       "text": [
        " | ETA[sec]: 524.657 "
       ]
      },
      {
       "output_type": "stream",
       "stream": "stderr",
       "text": [
        "\r",
        "[################              ]"
       ]
      },
      {
       "output_type": "stream",
       "stream": "stderr",
       "text": [
        " | ETA[sec]: 487.035 "
       ]
      },
      {
       "output_type": "stream",
       "stream": "stderr",
       "text": [
        "\r",
        "[#################             ]"
       ]
      },
      {
       "output_type": "stream",
       "stream": "stderr",
       "text": [
        " | ETA[sec]: 454.768 "
       ]
      },
      {
       "output_type": "stream",
       "stream": "stderr",
       "text": [
        "\r",
        "[##################            ]"
       ]
      },
      {
       "output_type": "stream",
       "stream": "stderr",
       "text": [
        " | ETA[sec]: 419.852 "
       ]
      },
      {
       "output_type": "stream",
       "stream": "stderr",
       "text": [
        "\r",
        "[###################           ]"
       ]
      },
      {
       "output_type": "stream",
       "stream": "stderr",
       "text": [
        " | ETA[sec]: 382.175 "
       ]
      },
      {
       "output_type": "stream",
       "stream": "stderr",
       "text": [
        "\r",
        "[####################          ]"
       ]
      },
      {
       "output_type": "stream",
       "stream": "stderr",
       "text": [
        " | ETA[sec]: 349.867 "
       ]
      },
      {
       "output_type": "stream",
       "stream": "stderr",
       "text": [
        "\r",
        "[#####################         ]"
       ]
      },
      {
       "output_type": "stream",
       "stream": "stderr",
       "text": [
        " | ETA[sec]: 314.876 "
       ]
      },
      {
       "output_type": "stream",
       "stream": "stderr",
       "text": [
        "\r",
        "[######################        ]"
       ]
      },
      {
       "output_type": "stream",
       "stream": "stderr",
       "text": [
        " | ETA[sec]: 277.211 "
       ]
      },
      {
       "output_type": "stream",
       "stream": "stderr",
       "text": [
        "\r",
        "[#######################       ]"
       ]
      },
      {
       "output_type": "stream",
       "stream": "stderr",
       "text": [
        " | ETA[sec]: 244.941 "
       ]
      },
      {
       "output_type": "stream",
       "stream": "stderr",
       "text": [
        "\r",
        "[########################      ]"
       ]
      },
      {
       "output_type": "stream",
       "stream": "stderr",
       "text": [
        " | ETA[sec]: 209.946 "
       ]
      },
      {
       "output_type": "stream",
       "stream": "stderr",
       "text": [
        "\r",
        "[#########################     ]"
       ]
      },
      {
       "output_type": "stream",
       "stream": "stderr",
       "text": [
        " | ETA[sec]: 172.268 "
       ]
      },
      {
       "output_type": "stream",
       "stream": "stderr",
       "text": [
        "\r",
        "[##########################    ]"
       ]
      },
      {
       "output_type": "stream",
       "stream": "stderr",
       "text": [
        " | ETA[sec]: 139.965 "
       ]
      },
      {
       "output_type": "stream",
       "stream": "stderr",
       "text": [
        "\r",
        "[###########################   ]"
       ]
      },
      {
       "output_type": "stream",
       "stream": "stderr",
       "text": [
        " | ETA[sec]: 104.974 "
       ]
      },
      {
       "output_type": "stream",
       "stream": "stderr",
       "text": [
        "\r",
        "[############################  ]"
       ]
      },
      {
       "output_type": "stream",
       "stream": "stderr",
       "text": [
        " | ETA[sec]: 67.291 "
       ]
      },
      {
       "output_type": "stream",
       "stream": "stderr",
       "text": [
        "\r",
        "[############################# ]"
       ]
      },
      {
       "output_type": "stream",
       "stream": "stderr",
       "text": [
        " | ETA[sec]: 34.991 "
       ]
      },
      {
       "output_type": "stream",
       "stream": "stderr",
       "text": [
        "\r",
        "[##############################]"
       ]
      },
      {
       "output_type": "stream",
       "stream": "stderr",
       "text": [
        " | ETA[sec]: 0.000 "
       ]
      },
      {
       "output_type": "stream",
       "stream": "stderr",
       "text": [
        "\r",
        "[##############################]"
       ]
      },
      {
       "output_type": "stream",
       "stream": "stderr",
       "text": [
        " | ETA[sec]: 0.000 "
       ]
      },
      {
       "output_type": "stream",
       "stream": "stdout",
       "text": [
        "\n",
        "cost: "
       ]
      },
      {
       "output_type": "stream",
       "stream": "stdout",
       "text": [
        " 0.498221093607\n",
        "epoch 17, train_perf 66.895000, val_perf 56.349837"
       ]
      },
      {
       "output_type": "stream",
       "stream": "stdout",
       "text": [
        "\n",
        "test_perf 56.803334"
       ]
      },
      {
       "output_type": "stream",
       "stream": "stderr",
       "text": [
        "\n",
        "Total time elapsed: 1049.723 sec\n",
        "0%                          100%\n"
       ]
      },
      {
       "output_type": "stream",
       "stream": "stderr",
       "text": [
        "[                              ]"
       ]
      },
      {
       "output_type": "stream",
       "stream": "stderr",
       "text": [
        "\r",
        "[#                             ]"
       ]
      },
      {
       "output_type": "stream",
       "stream": "stderr",
       "text": [
        " | ETA[sec]: 1013.789 "
       ]
      },
      {
       "output_type": "stream",
       "stream": "stderr",
       "text": [
        "\r",
        "[##                            ]"
       ]
      },
      {
       "output_type": "stream",
       "stream": "stderr",
       "text": [
        " | ETA[sec]: 982.927 "
       ]
      },
      {
       "output_type": "stream",
       "stream": "stderr",
       "text": [
        "\r",
        "[###                           ]"
       ]
      },
      {
       "output_type": "stream",
       "stream": "stderr",
       "text": [
        " | ETA[sec]: 948.257 "
       ]
      },
      {
       "output_type": "stream",
       "stream": "stderr",
       "text": [
        "\r",
        "[####                          ]"
       ]
      },
      {
       "output_type": "stream",
       "stream": "stderr",
       "text": [
        " | ETA[sec]: 911.101 "
       ]
      },
      {
       "output_type": "stream",
       "stream": "stderr",
       "text": [
        "\r",
        "[#####                         ]"
       ]
      },
      {
       "output_type": "stream",
       "stream": "stderr",
       "text": [
        " | ETA[sec]: 879.091 "
       ]
      },
      {
       "output_type": "stream",
       "stream": "stderr",
       "text": [
        "\r",
        "[######                        ]"
       ]
      },
      {
       "output_type": "stream",
       "stream": "stderr",
       "text": [
        " | ETA[sec]: 843.900 "
       ]
      },
      {
       "output_type": "stream",
       "stream": "stderr",
       "text": [
        "\r",
        "[#######                       ]"
       ]
      },
      {
       "output_type": "stream",
       "stream": "stderr",
       "text": [
        " | ETA[sec]: 806.235 "
       ]
      },
      {
       "output_type": "stream",
       "stream": "stderr",
       "text": [
        "\r",
        "[########                      ]"
       ]
      },
      {
       "output_type": "stream",
       "stream": "stderr",
       "text": [
        " | ETA[sec]: 773.833 "
       ]
      },
      {
       "output_type": "stream",
       "stream": "stderr",
       "text": [
        "\r",
        "[#########                     ]"
       ]
      },
      {
       "output_type": "stream",
       "stream": "stderr",
       "text": [
        " | ETA[sec]: 738.763 "
       ]
      },
      {
       "output_type": "stream",
       "stream": "stderr",
       "text": [
        "\r",
        "[##########                    ]"
       ]
      },
      {
       "output_type": "stream",
       "stream": "stderr",
       "text": [
        " | ETA[sec]: 700.977 "
       ]
      },
      {
       "output_type": "stream",
       "stream": "stderr",
       "text": [
        "\r",
        "[###########                   ]"
       ]
      },
      {
       "output_type": "stream",
       "stream": "stderr",
       "text": [
        " | ETA[sec]: 668.509 "
       ]
      },
      {
       "output_type": "stream",
       "stream": "stderr",
       "text": [
        "\r",
        "[############                  ]"
       ]
      },
      {
       "output_type": "stream",
       "stream": "stderr",
       "text": [
        " | ETA[sec]: 633.312 "
       ]
      },
      {
       "output_type": "stream",
       "stream": "stderr",
       "text": [
        "\r",
        "[#############                 ]"
       ]
      },
      {
       "output_type": "stream",
       "stream": "stderr",
       "text": [
        " | ETA[sec]: 595.360 "
       ]
      },
      {
       "output_type": "stream",
       "stream": "stderr",
       "text": [
        "\r",
        "[##############                ]"
       ]
      },
      {
       "output_type": "stream",
       "stream": "stderr",
       "text": [
        " | ETA[sec]: 562.924 "
       ]
      },
      {
       "output_type": "stream",
       "stream": "stderr",
       "text": [
        "\r",
        "[###############               ]"
       ]
      },
      {
       "output_type": "stream",
       "stream": "stderr",
       "text": [
        " | ETA[sec]: 527.750 "
       ]
      },
      {
       "output_type": "stream",
       "stream": "stderr",
       "text": [
        "\r",
        "[################              ]"
       ]
      },
      {
       "output_type": "stream",
       "stream": "stderr",
       "text": [
        " | ETA[sec]: 489.911 "
       ]
      },
      {
       "output_type": "stream",
       "stream": "stderr",
       "text": [
        "\r",
        "[#################             ]"
       ]
      },
      {
       "output_type": "stream",
       "stream": "stderr",
       "text": [
        " | ETA[sec]: 457.455 "
       ]
      },
      {
       "output_type": "stream",
       "stream": "stderr",
       "text": [
        "\r",
        "[##################            ]"
       ]
      },
      {
       "output_type": "stream",
       "stream": "stderr",
       "text": [
        " | ETA[sec]: 422.270 "
       ]
      },
      {
       "output_type": "stream",
       "stream": "stderr",
       "text": [
        "\r",
        "[###################           ]"
       ]
      },
      {
       "output_type": "stream",
       "stream": "stderr",
       "text": [
        " | ETA[sec]: 384.376 "
       ]
      },
      {
       "output_type": "stream",
       "stream": "stderr",
       "text": [
        "\r",
        "[####################          ]"
       ]
      },
      {
       "output_type": "stream",
       "stream": "stderr",
       "text": [
        " | ETA[sec]: 351.901 "
       ]
      },
      {
       "output_type": "stream",
       "stream": "stderr",
       "text": [
        "\r",
        "[#####################         ]"
       ]
      },
      {
       "output_type": "stream",
       "stream": "stderr",
       "text": [
        " | ETA[sec]: 316.714 "
       ]
      },
      {
       "output_type": "stream",
       "stream": "stderr",
       "text": [
        "\r",
        "[######################        ]"
       ]
      },
      {
       "output_type": "stream",
       "stream": "stderr",
       "text": [
        " | ETA[sec]: 278.819 "
       ]
      },
      {
       "output_type": "stream",
       "stream": "stderr",
       "text": [
        "\r",
        "[#######################       ]"
       ]
      },
      {
       "output_type": "stream",
       "stream": "stderr",
       "text": [
        " | ETA[sec]: 246.337 "
       ]
      },
      {
       "output_type": "stream",
       "stream": "stderr",
       "text": [
        "\r",
        "[########################      ]"
       ]
      },
      {
       "output_type": "stream",
       "stream": "stderr",
       "text": [
        " | ETA[sec]: 211.140 "
       ]
      },
      {
       "output_type": "stream",
       "stream": "stderr",
       "text": [
        "\r",
        "[#########################     ]"
       ]
      },
      {
       "output_type": "stream",
       "stream": "stderr",
       "text": [
        " | ETA[sec]: 173.248 "
       ]
      },
      {
       "output_type": "stream",
       "stream": "stderr",
       "text": [
        "\r",
        "[##########################    ]"
       ]
      },
      {
       "output_type": "stream",
       "stream": "stderr",
       "text": [
        " | ETA[sec]: 140.768 "
       ]
      },
      {
       "output_type": "stream",
       "stream": "stderr",
       "text": [
        "\r",
        "[###########################   ]"
       ]
      },
      {
       "output_type": "stream",
       "stream": "stderr",
       "text": [
        " | ETA[sec]: 105.578 "
       ]
      },
      {
       "output_type": "stream",
       "stream": "stderr",
       "text": [
        "\r",
        "[############################  ]"
       ]
      },
      {
       "output_type": "stream",
       "stream": "stderr",
       "text": [
        " | ETA[sec]: 67.679 "
       ]
      },
      {
       "output_type": "stream",
       "stream": "stderr",
       "text": [
        "\r",
        "[############################# ]"
       ]
      },
      {
       "output_type": "stream",
       "stream": "stderr",
       "text": [
        " | ETA[sec]: 35.195 "
       ]
      },
      {
       "output_type": "stream",
       "stream": "stderr",
       "text": [
        "\r",
        "[##############################]"
       ]
      },
      {
       "output_type": "stream",
       "stream": "stderr",
       "text": [
        " | ETA[sec]: 0.000 "
       ]
      },
      {
       "output_type": "stream",
       "stream": "stderr",
       "text": [
        "\r",
        "[##############################]"
       ]
      },
      {
       "output_type": "stream",
       "stream": "stderr",
       "text": [
        " | ETA[sec]: 0.000 "
       ]
      },
      {
       "output_type": "stream",
       "stream": "stdout",
       "text": [
        "\n",
        "cost: "
       ]
      },
      {
       "output_type": "stream",
       "stream": "stdout",
       "text": [
        " 0.492368343133\n",
        "epoch 18, train_perf 67.584000, val_perf 53.046621"
       ]
      },
      {
       "output_type": "stream",
       "stream": "stderr",
       "text": [
        "\n",
        "Total time elapsed: 1055.875 sec\n",
        "0%                          100%\n"
       ]
      },
      {
       "output_type": "stream",
       "stream": "stderr",
       "text": [
        "[                              ]"
       ]
      },
      {
       "output_type": "stream",
       "stream": "stderr",
       "text": [
        "\r",
        "[#                             ]"
       ]
      },
      {
       "output_type": "stream",
       "stream": "stderr",
       "text": [
        " | ETA[sec]: 1019.745 "
       ]
      },
      {
       "output_type": "stream",
       "stream": "stderr",
       "text": [
        "\r",
        "[##                            ]"
       ]
      },
      {
       "output_type": "stream",
       "stream": "stderr",
       "text": [
        " | ETA[sec]: 986.573 "
       ]
      },
      {
       "output_type": "stream",
       "stream": "stderr",
       "text": [
        "\r",
        "[###                           ]"
       ]
      },
      {
       "output_type": "stream",
       "stream": "stderr",
       "text": [
        " | ETA[sec]: 951.181 "
       ]
      },
      {
       "output_type": "stream",
       "stream": "stderr",
       "text": [
        "\r",
        "[####                          ]"
       ]
      },
      {
       "output_type": "stream",
       "stream": "stderr",
       "text": [
        " | ETA[sec]: 912.888 "
       ]
      },
      {
       "output_type": "stream",
       "stream": "stderr",
       "text": [
        "\r",
        "[#####                         ]"
       ]
      },
      {
       "output_type": "stream",
       "stream": "stderr",
       "text": [
        " | ETA[sec]: 880.268 "
       ]
      },
      {
       "output_type": "stream",
       "stream": "stderr",
       "text": [
        "\r",
        "[######                        ]"
       ]
      },
      {
       "output_type": "stream",
       "stream": "stderr",
       "text": [
        " | ETA[sec]: 844.886 "
       ]
      },
      {
       "output_type": "stream",
       "stream": "stderr",
       "text": [
        "\r",
        "[#######                       ]"
       ]
      },
      {
       "output_type": "stream",
       "stream": "stderr",
       "text": [
        " | ETA[sec]: 806.860 "
       ]
      },
      {
       "output_type": "stream",
       "stream": "stderr",
       "text": [
        "\r",
        "[########                      ]"
       ]
      },
      {
       "output_type": "stream",
       "stream": "stderr",
       "text": [
        " | ETA[sec]: 774.307 "
       ]
      },
      {
       "output_type": "stream",
       "stream": "stderr",
       "text": [
        "\r",
        "[#########                     ]"
       ]
      },
      {
       "output_type": "stream",
       "stream": "stderr",
       "text": [
        " | ETA[sec]: 739.097 "
       ]
      },
      {
       "output_type": "stream",
       "stream": "stderr",
       "text": [
        "\r",
        "[##########                    ]"
       ]
      },
      {
       "output_type": "stream",
       "stream": "stderr",
       "text": [
        " | ETA[sec]: 701.153 "
       ]
      },
      {
       "output_type": "stream",
       "stream": "stderr",
       "text": [
        "\r",
        "[###########                   ]"
       ]
      },
      {
       "output_type": "stream",
       "stream": "stderr",
       "text": [
        " | ETA[sec]: 668.781 "
       ]
      },
      {
       "output_type": "stream",
       "stream": "stderr",
       "text": [
        "\r",
        "[############                  ]"
       ]
      },
      {
       "output_type": "stream",
       "stream": "stderr",
       "text": [
        " | ETA[sec]: 633.687 "
       ]
      },
      {
       "output_type": "stream",
       "stream": "stderr",
       "text": [
        "\r",
        "[#############                 ]"
       ]
      },
      {
       "output_type": "stream",
       "stream": "stderr",
       "text": [
        " | ETA[sec]: 595.756 "
       ]
      },
      {
       "output_type": "stream",
       "stream": "stderr",
       "text": [
        "\r",
        "[##############                ]"
       ]
      },
      {
       "output_type": "stream",
       "stream": "stderr",
       "text": [
        " | ETA[sec]: 563.266 "
       ]
      },
      {
       "output_type": "stream",
       "stream": "stderr",
       "text": [
        "\r",
        "[###############               ]"
       ]
      },
      {
       "output_type": "stream",
       "stream": "stderr",
       "text": [
        " | ETA[sec]: 528.053 "
       ]
      },
      {
       "output_type": "stream",
       "stream": "stderr",
       "text": [
        "\r",
        "[################              ]"
       ]
      },
      {
       "output_type": "stream",
       "stream": "stderr",
       "text": [
        " | ETA[sec]: 490.161 "
       ]
      },
      {
       "output_type": "stream",
       "stream": "stderr",
       "text": [
        "\r",
        "[#################             ]"
       ]
      },
      {
       "output_type": "stream",
       "stream": "stderr",
       "text": [
        " | ETA[sec]: 457.658 "
       ]
      },
      {
       "output_type": "stream",
       "stream": "stderr",
       "text": [
        "\r",
        "[##################            ]"
       ]
      },
      {
       "output_type": "stream",
       "stream": "stderr",
       "text": [
        " | ETA[sec]: 422.451 "
       ]
      },
      {
       "output_type": "stream",
       "stream": "stderr",
       "text": [
        "\r",
        "[###################           ]"
       ]
      },
      {
       "output_type": "stream",
       "stream": "stderr",
       "text": [
        " | ETA[sec]: 384.578 "
       ]
      },
      {
       "output_type": "stream",
       "stream": "stderr",
       "text": [
        "\r",
        "[####################          ]"
       ]
      },
      {
       "output_type": "stream",
       "stream": "stderr",
       "text": [
        " | ETA[sec]: 352.096 "
       ]
      },
      {
       "output_type": "stream",
       "stream": "stderr",
       "text": [
        "\r",
        "[#####################         ]"
       ]
      },
      {
       "output_type": "stream",
       "stream": "stderr",
       "text": [
        " | ETA[sec]: 316.916 "
       ]
      },
      {
       "output_type": "stream",
       "stream": "stderr",
       "text": [
        "\r",
        "[######################        ]"
       ]
      },
      {
       "output_type": "stream",
       "stream": "stderr",
       "text": [
        " | ETA[sec]: 279.014 "
       ]
      },
      {
       "output_type": "stream",
       "stream": "stderr",
       "text": [
        "\r",
        "[#######################       ]"
       ]
      },
      {
       "output_type": "stream",
       "stream": "stderr",
       "text": [
        " | ETA[sec]: 246.515 "
       ]
      },
      {
       "output_type": "stream",
       "stream": "stderr",
       "text": [
        "\r",
        "[########################      ]"
       ]
      },
      {
       "output_type": "stream",
       "stream": "stderr",
       "text": [
        " | ETA[sec]: 211.292 "
       ]
      },
      {
       "output_type": "stream",
       "stream": "stderr",
       "text": [
        "\r",
        "[#########################     ]"
       ]
      },
      {
       "output_type": "stream",
       "stream": "stderr",
       "text": [
        " | ETA[sec]: 173.367 "
       ]
      },
      {
       "output_type": "stream",
       "stream": "stderr",
       "text": [
        "\r",
        "[##########################    ]"
       ]
      },
      {
       "output_type": "stream",
       "stream": "stderr",
       "text": [
        " | ETA[sec]: 140.857 "
       ]
      },
      {
       "output_type": "stream",
       "stream": "stderr",
       "text": [
        "\r",
        "[###########################   ]"
       ]
      },
      {
       "output_type": "stream",
       "stream": "stderr",
       "text": [
        " | ETA[sec]: 105.644 "
       ]
      },
      {
       "output_type": "stream",
       "stream": "stderr",
       "text": [
        "\r",
        "[############################  ]"
       ]
      },
      {
       "output_type": "stream",
       "stream": "stderr",
       "text": [
        " | ETA[sec]: 67.719 "
       ]
      },
      {
       "output_type": "stream",
       "stream": "stderr",
       "text": [
        "\r",
        "[############################# ]"
       ]
      },
      {
       "output_type": "stream",
       "stream": "stderr",
       "text": [
        " | ETA[sec]: 35.215 "
       ]
      },
      {
       "output_type": "stream",
       "stream": "stderr",
       "text": [
        "\r",
        "[##############################]"
       ]
      },
      {
       "output_type": "stream",
       "stream": "stderr",
       "text": [
        " | ETA[sec]: 0.000 "
       ]
      },
      {
       "output_type": "stream",
       "stream": "stderr",
       "text": [
        "\r",
        "[##############################]"
       ]
      },
      {
       "output_type": "stream",
       "stream": "stderr",
       "text": [
        " | ETA[sec]: 0.000 "
       ]
      },
      {
       "output_type": "stream",
       "stream": "stdout",
       "text": [
        "\n",
        "cost: "
       ]
      },
      {
       "output_type": "stream",
       "stream": "stdout",
       "text": [
        " 0.488358913477\n",
        "epoch 19, train_perf 67.620000, val_perf 53.816408"
       ]
      },
      {
       "output_type": "stream",
       "stream": "stderr",
       "text": [
        "\n",
        "Total time elapsed: 1056.551 sec\n",
        "0%                          100%\n"
       ]
      },
      {
       "output_type": "stream",
       "stream": "stderr",
       "text": [
        "[                              ]"
       ]
      },
      {
       "output_type": "stream",
       "stream": "stderr",
       "text": [
        "\r",
        "[#                             ]"
       ]
      },
      {
       "output_type": "stream",
       "stream": "stderr",
       "text": [
        " | ETA[sec]: 1018.484 "
       ]
      },
      {
       "output_type": "stream",
       "stream": "stderr",
       "text": [
        "\r",
        "[##                            ]"
       ]
      },
      {
       "output_type": "stream",
       "stream": "stderr",
       "text": [
        " | ETA[sec]: 986.402 "
       ]
      },
      {
       "output_type": "stream",
       "stream": "stderr",
       "text": [
        "\r",
        "[###                           ]"
       ]
      },
      {
       "output_type": "stream",
       "stream": "stderr",
       "text": [
        " | ETA[sec]: 951.046 "
       ]
      },
      {
       "output_type": "stream",
       "stream": "stderr",
       "text": [
        "\r",
        "[####                          ]"
       ]
      },
      {
       "output_type": "stream",
       "stream": "stderr",
       "text": [
        " | ETA[sec]: 913.427 "
       ]
      },
      {
       "output_type": "stream",
       "stream": "stderr",
       "text": [
        "\r",
        "[#####                         ]"
       ]
      },
      {
       "output_type": "stream",
       "stream": "stderr",
       "text": [
        " | ETA[sec]: 881.019 "
       ]
      },
      {
       "output_type": "stream",
       "stream": "stderr",
       "text": [
        "\r",
        "[######                        ]"
       ]
      },
      {
       "output_type": "stream",
       "stream": "stderr",
       "text": [
        " | ETA[sec]: 845.731 "
       ]
      },
      {
       "output_type": "stream",
       "stream": "stderr",
       "text": [
        "\r",
        "[#######                       ]"
       ]
      },
      {
       "output_type": "stream",
       "stream": "stderr",
       "text": [
        " | ETA[sec]: 807.937 "
       ]
      },
      {
       "output_type": "stream",
       "stream": "stderr",
       "text": [
        "\r",
        "[########                      ]"
       ]
      },
      {
       "output_type": "stream",
       "stream": "stderr",
       "text": [
        " | ETA[sec]: 775.360 "
       ]
      },
      {
       "output_type": "stream",
       "stream": "stderr",
       "text": [
        "\r",
        "[#########                     ]"
       ]
      },
      {
       "output_type": "stream",
       "stream": "stderr",
       "text": [
        " | ETA[sec]: 740.028 "
       ]
      },
      {
       "output_type": "stream",
       "stream": "stderr",
       "text": [
        "\r",
        "[##########                    ]"
       ]
      },
      {
       "output_type": "stream",
       "stream": "stderr",
       "text": [
        " | ETA[sec]: 702.207 "
       ]
      },
      {
       "output_type": "stream",
       "stream": "stderr",
       "text": [
        "\r",
        "[###########                   ]"
       ]
      },
      {
       "output_type": "stream",
       "stream": "stderr",
       "text": [
        " | ETA[sec]: 669.717 "
       ]
      },
      {
       "output_type": "stream",
       "stream": "stderr",
       "text": [
        "\r",
        "[############                  ]"
       ]
      },
      {
       "output_type": "stream",
       "stream": "stderr",
       "text": [
        " | ETA[sec]: 634.442 "
       ]
      },
      {
       "output_type": "stream",
       "stream": "stderr",
       "text": [
        "\r",
        "[#############                 ]"
       ]
      },
      {
       "output_type": "stream",
       "stream": "stderr",
       "text": [
        " | ETA[sec]: 596.510 "
       ]
      },
      {
       "output_type": "stream",
       "stream": "stderr",
       "text": [
        "\r",
        "[##############                ]"
       ]
      },
      {
       "output_type": "stream",
       "stream": "stderr",
       "text": [
        " | ETA[sec]: 563.942 "
       ]
      },
      {
       "output_type": "stream",
       "stream": "stderr",
       "text": [
        "\r",
        "[###############               ]"
       ]
      },
      {
       "output_type": "stream",
       "stream": "stderr",
       "text": [
        " | ETA[sec]: 528.667 "
       ]
      },
      {
       "output_type": "stream",
       "stream": "stderr",
       "text": [
        "\r",
        "[################              ]"
       ]
      },
      {
       "output_type": "stream",
       "stream": "stderr",
       "text": [
        " | ETA[sec]: 490.692 "
       ]
      },
      {
       "output_type": "stream",
       "stream": "stderr",
       "text": [
        "\r",
        "[#################             ]"
       ]
      },
      {
       "output_type": "stream",
       "stream": "stderr",
       "text": [
        " | ETA[sec]: 458.145 "
       ]
      },
      {
       "output_type": "stream",
       "stream": "stderr",
       "text": [
        "\r",
        "[##################            ]"
       ]
      },
      {
       "output_type": "stream",
       "stream": "stderr",
       "text": [
        " | ETA[sec]: 422.886 "
       ]
      },
      {
       "output_type": "stream",
       "stream": "stderr",
       "text": [
        "\r",
        "[###################           ]"
       ]
      },
      {
       "output_type": "stream",
       "stream": "stderr",
       "text": [
        " | ETA[sec]: 384.939 "
       ]
      },
      {
       "output_type": "stream",
       "stream": "stderr",
       "text": [
        "\r",
        "[####################          ]"
       ]
      },
      {
       "output_type": "stream",
       "stream": "stderr",
       "text": [
        " | ETA[sec]: 352.414 "
       ]
      },
      {
       "output_type": "stream",
       "stream": "stderr",
       "text": [
        "\r",
        "[#####################         ]"
       ]
      },
      {
       "output_type": "stream",
       "stream": "stderr",
       "text": [
        " | ETA[sec]: 317.159 "
       ]
      },
      {
       "output_type": "stream",
       "stream": "stderr",
       "text": [
        "\r",
        "[######################        ]"
       ]
      },
      {
       "output_type": "stream",
       "stream": "stderr",
       "text": [
        " | ETA[sec]: 279.193 "
       ]
      },
      {
       "output_type": "stream",
       "stream": "stderr",
       "text": [
        "\r",
        "[#######################       ]"
       ]
      },
      {
       "output_type": "stream",
       "stream": "stderr",
       "text": [
        " | ETA[sec]: 246.655 "
       ]
      },
      {
       "output_type": "stream",
       "stream": "stderr",
       "text": [
        "\r",
        "[########################      ]"
       ]
      },
      {
       "output_type": "stream",
       "stream": "stderr",
       "text": [
        " | ETA[sec]: 211.416 "
       ]
      },
      {
       "output_type": "stream",
       "stream": "stderr",
       "text": [
        "\r",
        "[#########################     ]"
       ]
      },
      {
       "output_type": "stream",
       "stream": "stderr",
       "text": [
        " | ETA[sec]: 173.492 "
       ]
      },
      {
       "output_type": "stream",
       "stream": "stderr",
       "text": [
        "\r",
        "[##########################    ]"
       ]
      },
      {
       "output_type": "stream",
       "stream": "stderr",
       "text": [
        " | ETA[sec]: 140.962 "
       ]
      },
      {
       "output_type": "stream",
       "stream": "stderr",
       "text": [
        "\r",
        "[###########################   ]"
       ]
      },
      {
       "output_type": "stream",
       "stream": "stderr",
       "text": [
        " | ETA[sec]: 105.719 "
       ]
      },
      {
       "output_type": "stream",
       "stream": "stderr",
       "text": [
        "\r",
        "[############################  ]"
       ]
      },
      {
       "output_type": "stream",
       "stream": "stderr",
       "text": [
        " | ETA[sec]: 67.763 "
       ]
      },
      {
       "output_type": "stream",
       "stream": "stderr",
       "text": [
        "\r",
        "[############################# ]"
       ]
      },
      {
       "output_type": "stream",
       "stream": "stderr",
       "text": [
        " | ETA[sec]: 35.234 "
       ]
      },
      {
       "output_type": "stream",
       "stream": "stderr",
       "text": [
        "\r",
        "[##############################]"
       ]
      },
      {
       "output_type": "stream",
       "stream": "stderr",
       "text": [
        " | ETA[sec]: 0.000 "
       ]
      },
      {
       "output_type": "stream",
       "stream": "stderr",
       "text": [
        "\r",
        "[##############################]"
       ]
      },
      {
       "output_type": "stream",
       "stream": "stderr",
       "text": [
        " | ETA[sec]: 0.000 "
       ]
      },
      {
       "output_type": "stream",
       "stream": "stdout",
       "text": [
        "\n",
        "cost: "
       ]
      },
      {
       "output_type": "stream",
       "stream": "stdout",
       "text": [
        " 0.485489619518\n",
        "epoch 20, train_perf 68.361000, val_perf 51.279364"
       ]
      },
      {
       "output_type": "stream",
       "stream": "stderr",
       "text": [
        "\n",
        "Total time elapsed: 1056.972 sec\n",
        "0%                          100%\n"
       ]
      },
      {
       "output_type": "stream",
       "stream": "stderr",
       "text": [
        "[                              ]"
       ]
      },
      {
       "output_type": "stream",
       "stream": "stderr",
       "text": [
        "\r",
        "[#                             ]"
       ]
      },
      {
       "output_type": "stream",
       "stream": "stderr",
       "text": [
        " | ETA[sec]: 1018.162 "
       ]
      },
      {
       "output_type": "stream",
       "stream": "stderr",
       "text": [
        "\r",
        "[##                            ]"
       ]
      },
      {
       "output_type": "stream",
       "stream": "stderr",
       "text": [
        " | ETA[sec]: 985.976 "
       ]
      },
      {
       "output_type": "stream",
       "stream": "stderr",
       "text": [
        "\r",
        "[###                           ]"
       ]
      },
      {
       "output_type": "stream",
       "stream": "stderr",
       "text": [
        " | ETA[sec]: 950.899 "
       ]
      },
      {
       "output_type": "stream",
       "stream": "stderr",
       "text": [
        "\r",
        "[####                          ]"
       ]
      },
      {
       "output_type": "stream",
       "stream": "stderr",
       "text": [
        " | ETA[sec]: 912.922 "
       ]
      },
      {
       "output_type": "stream",
       "stream": "stderr",
       "text": [
        "\r",
        "[#####                         ]"
       ]
      },
      {
       "output_type": "stream",
       "stream": "stderr",
       "text": [
        " | ETA[sec]: 880.301 "
       ]
      },
      {
       "output_type": "stream",
       "stream": "stderr",
       "text": [
        "\r",
        "[######                        ]"
       ]
      },
      {
       "output_type": "stream",
       "stream": "stderr",
       "text": [
        " | ETA[sec]: 844.944 "
       ]
      },
      {
       "output_type": "stream",
       "stream": "stderr",
       "text": [
        "\r",
        "[#######                       ]"
       ]
      },
      {
       "output_type": "stream",
       "stream": "stderr",
       "text": [
        " | ETA[sec]: 807.085 "
       ]
      },
      {
       "output_type": "stream",
       "stream": "stderr",
       "text": [
        "\r",
        "[########                      ]"
       ]
      },
      {
       "output_type": "stream",
       "stream": "stderr",
       "text": [
        " | ETA[sec]: 774.529 "
       ]
      },
      {
       "output_type": "stream",
       "stream": "stderr",
       "text": [
        "\r",
        "[#########                     ]"
       ]
      },
      {
       "output_type": "stream",
       "stream": "stderr",
       "text": [
        " | ETA[sec]: 739.283 "
       ]
      },
      {
       "output_type": "stream",
       "stream": "stderr",
       "text": [
        "\r",
        "[##########                    ]"
       ]
      },
      {
       "output_type": "stream",
       "stream": "stderr",
       "text": [
        " | ETA[sec]: 701.313 "
       ]
      },
      {
       "output_type": "stream",
       "stream": "stderr",
       "text": [
        "\r",
        "[###########                   ]"
       ]
      },
      {
       "output_type": "stream",
       "stream": "stderr",
       "text": [
        " | ETA[sec]: 668.784 "
       ]
      },
      {
       "output_type": "stream",
       "stream": "stderr",
       "text": [
        "\r",
        "[############                  ]"
       ]
      },
      {
       "output_type": "stream",
       "stream": "stderr",
       "text": [
        " | ETA[sec]: 633.714 "
       ]
      },
      {
       "output_type": "stream",
       "stream": "stderr",
       "text": [
        "\r",
        "[#############                 ]"
       ]
      },
      {
       "output_type": "stream",
       "stream": "stderr",
       "text": [
        " | ETA[sec]: 595.805 "
       ]
      },
      {
       "output_type": "stream",
       "stream": "stderr",
       "text": [
        "\r",
        "[##############                ]"
       ]
      },
      {
       "output_type": "stream",
       "stream": "stderr",
       "text": [
        " | ETA[sec]: 563.366 "
       ]
      },
      {
       "output_type": "stream",
       "stream": "stderr",
       "text": [
        "\r",
        "[###############               ]"
       ]
      },
      {
       "output_type": "stream",
       "stream": "stderr",
       "text": [
        " | ETA[sec]: 528.162 "
       ]
      },
      {
       "output_type": "stream",
       "stream": "stderr",
       "text": [
        "\r",
        "[################              ]"
       ]
      },
      {
       "output_type": "stream",
       "stream": "stderr",
       "text": [
        " | ETA[sec]: 490.226 "
       ]
      },
      {
       "output_type": "stream",
       "stream": "stderr",
       "text": [
        "\r",
        "[#################             ]"
       ]
      },
      {
       "output_type": "stream",
       "stream": "stderr",
       "text": [
        " | ETA[sec]: 457.701 "
       ]
      },
      {
       "output_type": "stream",
       "stream": "stderr",
       "text": [
        "\r",
        "[##################            ]"
       ]
      },
      {
       "output_type": "stream",
       "stream": "stderr",
       "text": [
        " | ETA[sec]: 422.504 "
       ]
      },
      {
       "output_type": "stream",
       "stream": "stderr",
       "text": [
        "\r",
        "[###################           ]"
       ]
      },
      {
       "output_type": "stream",
       "stream": "stderr",
       "text": [
        " | ETA[sec]: 384.593 "
       ]
      },
      {
       "output_type": "stream",
       "stream": "stderr",
       "text": [
        "\r",
        "[####################          ]"
       ]
      },
      {
       "output_type": "stream",
       "stream": "stderr",
       "text": [
        " | ETA[sec]: 352.105 "
       ]
      },
      {
       "output_type": "stream",
       "stream": "stderr",
       "text": [
        "\r",
        "[#####################         ]"
       ]
      },
      {
       "output_type": "stream",
       "stream": "stderr",
       "text": [
        " | ETA[sec]: 316.920 "
       ]
      },
      {
       "output_type": "stream",
       "stream": "stderr",
       "text": [
        "\r",
        "[######################        ]"
       ]
      },
      {
       "output_type": "stream",
       "stream": "stderr",
       "text": [
        " | ETA[sec]: 279.004 "
       ]
      },
      {
       "output_type": "stream",
       "stream": "stderr",
       "text": [
        "\r",
        "[#######################       ]"
       ]
      },
      {
       "output_type": "stream",
       "stream": "stderr",
       "text": [
        " | ETA[sec]: 246.490 "
       ]
      },
      {
       "output_type": "stream",
       "stream": "stderr",
       "text": [
        "\r",
        "[########################      ]"
       ]
      },
      {
       "output_type": "stream",
       "stream": "stderr",
       "text": [
        " | ETA[sec]: 211.283 "
       ]
      },
      {
       "output_type": "stream",
       "stream": "stderr",
       "text": [
        "\r",
        "[#########################     ]"
       ]
      },
      {
       "output_type": "stream",
       "stream": "stderr",
       "text": [
        " | ETA[sec]: 173.366 "
       ]
      },
      {
       "output_type": "stream",
       "stream": "stderr",
       "text": [
        "\r",
        "[##########################    ]"
       ]
      },
      {
       "output_type": "stream",
       "stream": "stderr",
       "text": [
        " | ETA[sec]: 140.862 "
       ]
      },
      {
       "output_type": "stream",
       "stream": "stderr",
       "text": [
        "\r",
        "[###########################   ]"
       ]
      },
      {
       "output_type": "stream",
       "stream": "stderr",
       "text": [
        " | ETA[sec]: 105.633 "
       ]
      },
      {
       "output_type": "stream",
       "stream": "stderr",
       "text": [
        "\r",
        "[############################  ]"
       ]
      },
      {
       "output_type": "stream",
       "stream": "stderr",
       "text": [
        " | ETA[sec]: 67.701 "
       ]
      },
      {
       "output_type": "stream",
       "stream": "stderr",
       "text": [
        "\r",
        "[############################# ]"
       ]
      },
      {
       "output_type": "stream",
       "stream": "stderr",
       "text": [
        " | ETA[sec]: 35.198 "
       ]
      },
      {
       "output_type": "stream",
       "stream": "stderr",
       "text": [
        "\r",
        "[##############################]"
       ]
      },
      {
       "output_type": "stream",
       "stream": "stderr",
       "text": [
        " | ETA[sec]: 0.000 "
       ]
      },
      {
       "output_type": "stream",
       "stream": "stderr",
       "text": [
        "\r",
        "[##############################]"
       ]
      },
      {
       "output_type": "stream",
       "stream": "stderr",
       "text": [
        " | ETA[sec]: 0.000 "
       ]
      },
      {
       "output_type": "stream",
       "stream": "stdout",
       "text": [
        "\n",
        "cost: "
       ]
      },
      {
       "output_type": "stream",
       "stream": "stdout",
       "text": [
        " 0.484460383342\n",
        "epoch 21, train_perf 65.263000, val_perf 58.547163"
       ]
      },
      {
       "output_type": "stream",
       "stream": "stdout",
       "text": [
        "\n",
        "test_perf 58.661861"
       ]
      },
      {
       "output_type": "stream",
       "stream": "stderr",
       "text": [
        "\n",
        "Total time elapsed: 1055.758 sec\n",
        "0%                          100%\n"
       ]
      },
      {
       "output_type": "stream",
       "stream": "stderr",
       "text": [
        "[                              ]"
       ]
      },
      {
       "output_type": "stream",
       "stream": "stderr",
       "text": [
        "\r",
        "[#                             ]"
       ]
      },
      {
       "output_type": "stream",
       "stream": "stderr",
       "text": [
        " | ETA[sec]: 1018.666 "
       ]
      },
      {
       "output_type": "stream",
       "stream": "stderr",
       "text": [
        "\r",
        "[##                            ]"
       ]
      },
      {
       "output_type": "stream",
       "stream": "stderr",
       "text": [
        " | ETA[sec]: 986.079 "
       ]
      },
      {
       "output_type": "stream",
       "stream": "stderr",
       "text": [
        "\r",
        "[###                           ]"
       ]
      },
      {
       "output_type": "stream",
       "stream": "stderr",
       "text": [
        " | ETA[sec]: 950.613 "
       ]
      },
      {
       "output_type": "stream",
       "stream": "stderr",
       "text": [
        "\r",
        "[####                          ]"
       ]
      },
      {
       "output_type": "stream",
       "stream": "stderr",
       "text": [
        " | ETA[sec]: 912.548 "
       ]
      },
      {
       "output_type": "stream",
       "stream": "stderr",
       "text": [
        "\r",
        "[#####                         ]"
       ]
      },
      {
       "output_type": "stream",
       "stream": "stderr",
       "text": [
        " | ETA[sec]: 879.981 "
       ]
      },
      {
       "output_type": "stream",
       "stream": "stderr",
       "text": [
        "\r",
        "[######                        ]"
       ]
      },
      {
       "output_type": "stream",
       "stream": "stderr",
       "text": [
        " | ETA[sec]: 844.863 "
       ]
      },
      {
       "output_type": "stream",
       "stream": "stderr",
       "text": [
        "\r",
        "[#######                       ]"
       ]
      },
      {
       "output_type": "stream",
       "stream": "stderr",
       "text": [
        " | ETA[sec]: 806.935 "
       ]
      },
      {
       "output_type": "stream",
       "stream": "stderr",
       "text": [
        "\r",
        "[########                      ]"
       ]
      },
      {
       "output_type": "stream",
       "stream": "stderr",
       "text": [
        " | ETA[sec]: 774.409 "
       ]
      },
      {
       "output_type": "stream",
       "stream": "stderr",
       "text": [
        "\r",
        "[#########                     ]"
       ]
      },
      {
       "output_type": "stream",
       "stream": "stderr",
       "text": [
        " | ETA[sec]: 739.168 "
       ]
      },
      {
       "output_type": "stream",
       "stream": "stderr",
       "text": [
        "\r",
        "[##########                    ]"
       ]
      },
      {
       "output_type": "stream",
       "stream": "stderr",
       "text": [
        " | ETA[sec]: 701.284 "
       ]
      },
      {
       "output_type": "stream",
       "stream": "stderr",
       "text": [
        "\r",
        "[###########                   ]"
       ]
      },
      {
       "output_type": "stream",
       "stream": "stderr",
       "text": [
        " | ETA[sec]: 668.809 "
       ]
      },
      {
       "output_type": "stream",
       "stream": "stderr",
       "text": [
        "\r",
        "[############                  ]"
       ]
      },
      {
       "output_type": "stream",
       "stream": "stderr",
       "text": [
        " | ETA[sec]: 633.638 "
       ]
      },
      {
       "output_type": "stream",
       "stream": "stderr",
       "text": [
        "\r",
        "[#############                 ]"
       ]
      },
      {
       "output_type": "stream",
       "stream": "stderr",
       "text": [
        " | ETA[sec]: 595.738 "
       ]
      },
      {
       "output_type": "stream",
       "stream": "stderr",
       "text": [
        "\r",
        "[##############                ]"
       ]
      },
      {
       "output_type": "stream",
       "stream": "stderr",
       "text": [
        " | ETA[sec]: 563.263 "
       ]
      },
      {
       "output_type": "stream",
       "stream": "stderr",
       "text": [
        "\r",
        "[###############               ]"
       ]
      },
      {
       "output_type": "stream",
       "stream": "stderr",
       "text": [
        " | ETA[sec]: 528.083 "
       ]
      },
      {
       "output_type": "stream",
       "stream": "stderr",
       "text": [
        "\r",
        "[################              ]"
       ]
      },
      {
       "output_type": "stream",
       "stream": "stderr",
       "text": [
        " | ETA[sec]: 490.164 "
       ]
      },
      {
       "output_type": "stream",
       "stream": "stderr",
       "text": [
        "\r",
        "[#################             ]"
       ]
      },
      {
       "output_type": "stream",
       "stream": "stderr",
       "text": [
        " | ETA[sec]: 457.694 "
       ]
      },
      {
       "output_type": "stream",
       "stream": "stderr",
       "text": [
        "\r",
        "[##################            ]"
       ]
      },
      {
       "output_type": "stream",
       "stream": "stderr",
       "text": [
        " | ETA[sec]: 422.507 "
       ]
      },
      {
       "output_type": "stream",
       "stream": "stderr",
       "text": [
        "\r",
        "[###################           ]"
       ]
      },
      {
       "output_type": "stream",
       "stream": "stderr",
       "text": [
        " | ETA[sec]: 384.604 "
       ]
      },
      {
       "output_type": "stream",
       "stream": "stderr",
       "text": [
        "\r",
        "[####################          ]"
       ]
      },
      {
       "output_type": "stream",
       "stream": "stderr",
       "text": [
        " | ETA[sec]: 352.113 "
       ]
      },
      {
       "output_type": "stream",
       "stream": "stderr",
       "text": [
        "\r",
        "[#####################         ]"
       ]
      },
      {
       "output_type": "stream",
       "stream": "stderr",
       "text": [
        " | ETA[sec]: 316.908 "
       ]
      },
      {
       "output_type": "stream",
       "stream": "stderr",
       "text": [
        "\r",
        "[######################        ]"
       ]
      },
      {
       "output_type": "stream",
       "stream": "stderr",
       "text": [
        " | ETA[sec]: 278.989 "
       ]
      },
      {
       "output_type": "stream",
       "stream": "stderr",
       "text": [
        "\r",
        "[#######################       ]"
       ]
      },
      {
       "output_type": "stream",
       "stream": "stderr",
       "text": [
        " | ETA[sec]: 246.479 "
       ]
      },
      {
       "output_type": "stream",
       "stream": "stderr",
       "text": [
        "\r",
        "[########################      ]"
       ]
      },
      {
       "output_type": "stream",
       "stream": "stderr",
       "text": [
        " | ETA[sec]: 211.271 "
       ]
      },
      {
       "output_type": "stream",
       "stream": "stderr",
       "text": [
        "\r",
        "[#########################     ]"
       ]
      },
      {
       "output_type": "stream",
       "stream": "stderr",
       "text": [
        " | ETA[sec]: 173.346 "
       ]
      },
      {
       "output_type": "stream",
       "stream": "stderr",
       "text": [
        "\r",
        "[##########################    ]"
       ]
      },
      {
       "output_type": "stream",
       "stream": "stderr",
       "text": [
        " | ETA[sec]: 140.847 "
       ]
      },
      {
       "output_type": "stream",
       "stream": "stderr",
       "text": [
        "\r",
        "[###########################   ]"
       ]
      },
      {
       "output_type": "stream",
       "stream": "stderr",
       "text": [
        " | ETA[sec]: 105.637 "
       ]
      },
      {
       "output_type": "stream",
       "stream": "stderr",
       "text": [
        "\r",
        "[############################  ]"
       ]
      },
      {
       "output_type": "stream",
       "stream": "stderr",
       "text": [
        " | ETA[sec]: 67.717 "
       ]
      },
      {
       "output_type": "stream",
       "stream": "stderr",
       "text": [
        "\r",
        "[############################# ]"
       ]
      },
      {
       "output_type": "stream",
       "stream": "stderr",
       "text": [
        " | ETA[sec]: 35.213 "
       ]
      },
      {
       "output_type": "stream",
       "stream": "stderr",
       "text": [
        "\r",
        "[##############################]"
       ]
      },
      {
       "output_type": "stream",
       "stream": "stderr",
       "text": [
        " | ETA[sec]: 0.000 "
       ]
      },
      {
       "output_type": "stream",
       "stream": "stderr",
       "text": [
        "\r",
        "[##############################]"
       ]
      },
      {
       "output_type": "stream",
       "stream": "stderr",
       "text": [
        " | ETA[sec]: 0.000 "
       ]
      },
      {
       "output_type": "stream",
       "stream": "stdout",
       "text": [
        "\n",
        "cost: "
       ]
      },
      {
       "output_type": "stream",
       "stream": "stdout",
       "text": [
        " 0.561156936294\n",
        "epoch 22, train_perf 66.801000, val_perf 50.957716"
       ]
      },
      {
       "output_type": "stream",
       "stream": "stderr",
       "text": [
        "\n",
        "Total time elapsed: 1056.396 sec\n",
        "0%                          100%\n"
       ]
      },
      {
       "output_type": "stream",
       "stream": "stderr",
       "text": [
        "[                              ]"
       ]
      },
      {
       "output_type": "stream",
       "stream": "stderr",
       "text": [
        "\r",
        "[#                             ]"
       ]
      },
      {
       "output_type": "stream",
       "stream": "stderr",
       "text": [
        " | ETA[sec]: 1019.411 "
       ]
      },
      {
       "output_type": "stream",
       "stream": "stderr",
       "text": [
        "\r",
        "[##                            ]"
       ]
      },
      {
       "output_type": "stream",
       "stream": "stderr",
       "text": [
        " | ETA[sec]: 986.883 "
       ]
      },
      {
       "output_type": "stream",
       "stream": "stderr",
       "text": [
        "\r",
        "[###                           ]"
       ]
      },
      {
       "output_type": "stream",
       "stream": "stderr",
       "text": [
        " | ETA[sec]: 951.365 "
       ]
      },
      {
       "output_type": "stream",
       "stream": "stderr",
       "text": [
        "\r",
        "[####                          ]"
       ]
      },
      {
       "output_type": "stream",
       "stream": "stderr",
       "text": [
        " | ETA[sec]: 913.396 "
       ]
      },
      {
       "output_type": "stream",
       "stream": "stderr",
       "text": [
        "\r",
        "[#####                         ]"
       ]
      },
      {
       "output_type": "stream",
       "stream": "stderr",
       "text": [
        " | ETA[sec]: 881.313 "
       ]
      },
      {
       "output_type": "stream",
       "stream": "stderr",
       "text": [
        "\r",
        "[######                        ]"
       ]
      },
      {
       "output_type": "stream",
       "stream": "stderr",
       "text": [
        " | ETA[sec]: 846.077 "
       ]
      },
      {
       "output_type": "stream",
       "stream": "stderr",
       "text": [
        "\r",
        "[#######                       ]"
       ]
      },
      {
       "output_type": "stream",
       "stream": "stderr",
       "text": [
        " | ETA[sec]: 807.907 "
       ]
      },
      {
       "output_type": "stream",
       "stream": "stderr",
       "text": [
        "\r",
        "[########                      ]"
       ]
      },
      {
       "output_type": "stream",
       "stream": "stderr",
       "text": [
        " | ETA[sec]: 775.247 "
       ]
      },
      {
       "output_type": "stream",
       "stream": "stderr",
       "text": [
        "\r",
        "[#########                     ]"
       ]
      },
      {
       "output_type": "stream",
       "stream": "stderr",
       "text": [
        " | ETA[sec]: 739.969 "
       ]
      },
      {
       "output_type": "stream",
       "stream": "stderr",
       "text": [
        "\r",
        "[##########                    ]"
       ]
      },
      {
       "output_type": "stream",
       "stream": "stderr",
       "text": [
        " | ETA[sec]: 701.998 "
       ]
      },
      {
       "output_type": "stream",
       "stream": "stderr",
       "text": [
        "\r",
        "[###########                   ]"
       ]
      },
      {
       "output_type": "stream",
       "stream": "stderr",
       "text": [
        " | ETA[sec]: 669.440 "
       ]
      },
      {
       "output_type": "stream",
       "stream": "stderr",
       "text": [
        "\r",
        "[############                  ]"
       ]
      },
      {
       "output_type": "stream",
       "stream": "stderr",
       "text": [
        " | ETA[sec]: 634.131 "
       ]
      },
      {
       "output_type": "stream",
       "stream": "stderr",
       "text": [
        "\r",
        "[#############                 ]"
       ]
      },
      {
       "output_type": "stream",
       "stream": "stderr",
       "text": [
        " | ETA[sec]: 596.292 "
       ]
      },
      {
       "output_type": "stream",
       "stream": "stderr",
       "text": [
        "\r",
        "[##############                ]"
       ]
      },
      {
       "output_type": "stream",
       "stream": "stderr",
       "text": [
        " | ETA[sec]: 563.723 "
       ]
      },
      {
       "output_type": "stream",
       "stream": "stderr",
       "text": [
        "\r",
        "[###############               ]"
       ]
      },
      {
       "output_type": "stream",
       "stream": "stderr",
       "text": [
        " | ETA[sec]: 528.451 "
       ]
      },
      {
       "output_type": "stream",
       "stream": "stderr",
       "text": [
        "\r",
        "[################              ]"
       ]
      },
      {
       "output_type": "stream",
       "stream": "stderr",
       "text": [
        " | ETA[sec]: 490.484 "
       ]
      },
      {
       "output_type": "stream",
       "stream": "stderr",
       "text": [
        "\r",
        "[#################             ]"
       ]
      },
      {
       "output_type": "stream",
       "stream": "stderr",
       "text": [
        " | ETA[sec]: 457.947 "
       ]
      },
      {
       "output_type": "stream",
       "stream": "stderr",
       "text": [
        "\r",
        "[##################            ]"
       ]
      },
      {
       "output_type": "stream",
       "stream": "stderr",
       "text": [
        " | ETA[sec]: 422.698 "
       ]
      },
      {
       "output_type": "stream",
       "stream": "stderr",
       "text": [
        "\r",
        "[###################           ]"
       ]
      },
      {
       "output_type": "stream",
       "stream": "stderr",
       "text": [
        " | ETA[sec]: 384.734 "
       ]
      },
      {
       "output_type": "stream",
       "stream": "stderr",
       "text": [
        "\r",
        "[####################          ]"
       ]
      },
      {
       "output_type": "stream",
       "stream": "stderr",
       "text": [
        " | ETA[sec]: 352.219 "
       ]
      },
      {
       "output_type": "stream",
       "stream": "stderr",
       "text": [
        "\r",
        "[#####################         ]"
       ]
      },
      {
       "output_type": "stream",
       "stream": "stderr",
       "text": [
        " | ETA[sec]: 317.017 "
       ]
      },
      {
       "output_type": "stream",
       "stream": "stderr",
       "text": [
        "\r",
        "[######################        ]"
       ]
      },
      {
       "output_type": "stream",
       "stream": "stderr",
       "text": [
        " | ETA[sec]: 279.111 "
       ]
      },
      {
       "output_type": "stream",
       "stream": "stderr",
       "text": [
        "\r",
        "[#######################       ]"
       ]
      },
      {
       "output_type": "stream",
       "stream": "stderr",
       "text": [
        " | ETA[sec]: 246.587 "
       ]
      },
      {
       "output_type": "stream",
       "stream": "stderr",
       "text": [
        "\r",
        "[########################      ]"
       ]
      },
      {
       "output_type": "stream",
       "stream": "stderr",
       "text": [
        " | ETA[sec]: 211.373 "
       ]
      },
      {
       "output_type": "stream",
       "stream": "stderr",
       "text": [
        "\r",
        "[#########################     ]"
       ]
      },
      {
       "output_type": "stream",
       "stream": "stderr",
       "text": [
        " | ETA[sec]: 173.435 "
       ]
      },
      {
       "output_type": "stream",
       "stream": "stderr",
       "text": [
        "\r",
        "[##########################    ]"
       ]
      },
      {
       "output_type": "stream",
       "stream": "stderr",
       "text": [
        " | ETA[sec]: 140.920 "
       ]
      },
      {
       "output_type": "stream",
       "stream": "stderr",
       "text": [
        "\r",
        "[###########################   ]"
       ]
      },
      {
       "output_type": "stream",
       "stream": "stderr",
       "text": [
        " | ETA[sec]: 105.688 "
       ]
      },
      {
       "output_type": "stream",
       "stream": "stderr",
       "text": [
        "\r",
        "[############################  ]"
       ]
      },
      {
       "output_type": "stream",
       "stream": "stderr",
       "text": [
        " | ETA[sec]: 67.744 "
       ]
      },
      {
       "output_type": "stream",
       "stream": "stderr",
       "text": [
        "\r",
        "[############################# ]"
       ]
      },
      {
       "output_type": "stream",
       "stream": "stderr",
       "text": [
        " | ETA[sec]: 35.225 "
       ]
      },
      {
       "output_type": "stream",
       "stream": "stderr",
       "text": [
        "\r",
        "[##############################]"
       ]
      },
      {
       "output_type": "stream",
       "stream": "stderr",
       "text": [
        " | ETA[sec]: 0.000 "
       ]
      },
      {
       "output_type": "stream",
       "stream": "stderr",
       "text": [
        "\r",
        "[##############################]"
       ]
      },
      {
       "output_type": "stream",
       "stream": "stderr",
       "text": [
        " | ETA[sec]: 0.000 "
       ]
      },
      {
       "output_type": "stream",
       "stream": "stdout",
       "text": [
        "\n",
        "cost: "
       ]
      },
      {
       "output_type": "stream",
       "stream": "stdout",
       "text": [
        " 0.505960224004\n",
        "epoch 23, train_perf 67.747000, val_perf 52.255150"
       ]
      },
      {
       "output_type": "stream",
       "stream": "stderr",
       "text": [
        "\n",
        "Total time elapsed: 1056.730 sec\n",
        "0%                          100%\n"
       ]
      },
      {
       "output_type": "stream",
       "stream": "stderr",
       "text": [
        "[                              ]"
       ]
      },
      {
       "output_type": "stream",
       "stream": "stderr",
       "text": [
        "\r",
        "[#                             ]"
       ]
      },
      {
       "output_type": "stream",
       "stream": "stderr",
       "text": [
        " | ETA[sec]: 1017.719 "
       ]
      },
      {
       "output_type": "stream",
       "stream": "stderr",
       "text": [
        "\r",
        "[##                            ]"
       ]
      },
      {
       "output_type": "stream",
       "stream": "stderr",
       "text": [
        " | ETA[sec]: 985.874 "
       ]
      },
      {
       "output_type": "stream",
       "stream": "stderr",
       "text": [
        "\r",
        "[###                           ]"
       ]
      },
      {
       "output_type": "stream",
       "stream": "stderr",
       "text": [
        " | ETA[sec]: 950.784 "
       ]
      },
      {
       "output_type": "stream",
       "stream": "stderr",
       "text": [
        "\r",
        "[####                          ]"
       ]
      },
      {
       "output_type": "stream",
       "stream": "stderr",
       "text": [
        " | ETA[sec]: 912.853 "
       ]
      },
      {
       "output_type": "stream",
       "stream": "stderr",
       "text": [
        "\r",
        "[#####                         ]"
       ]
      },
      {
       "output_type": "stream",
       "stream": "stderr",
       "text": [
        " | ETA[sec]: 880.479 "
       ]
      },
      {
       "output_type": "stream",
       "stream": "stderr",
       "text": [
        "\r",
        "[######                        ]"
       ]
      },
      {
       "output_type": "stream",
       "stream": "stderr",
       "text": [
        " | ETA[sec]: 845.339 "
       ]
      },
      {
       "output_type": "stream",
       "stream": "stderr",
       "text": [
        "\r",
        "[#######                       ]"
       ]
      },
      {
       "output_type": "stream",
       "stream": "stderr",
       "text": [
        " | ETA[sec]: 807.344 "
       ]
      },
      {
       "output_type": "stream",
       "stream": "stderr",
       "text": [
        "\r",
        "[########                      ]"
       ]
      },
      {
       "output_type": "stream",
       "stream": "stderr",
       "text": [
        " | ETA[sec]: 774.847 "
       ]
      },
      {
       "output_type": "stream",
       "stream": "stderr",
       "text": [
        "\r",
        "[#########                     ]"
       ]
      },
      {
       "output_type": "stream",
       "stream": "stderr",
       "text": [
        " | ETA[sec]: 739.690 "
       ]
      },
      {
       "output_type": "stream",
       "stream": "stderr",
       "text": [
        "\r",
        "[##########                    ]"
       ]
      },
      {
       "output_type": "stream",
       "stream": "stderr",
       "text": [
        " | ETA[sec]: 701.771 "
       ]
      },
      {
       "output_type": "stream",
       "stream": "stderr",
       "text": [
        "\r",
        "[###########                   ]"
       ]
      },
      {
       "output_type": "stream",
       "stream": "stderr",
       "text": [
        " | ETA[sec]: 669.218 "
       ]
      },
      {
       "output_type": "stream",
       "stream": "stderr",
       "text": [
        "\r",
        "[############                  ]"
       ]
      },
      {
       "output_type": "stream",
       "stream": "stderr",
       "text": [
        " | ETA[sec]: 633.954 "
       ]
      },
      {
       "output_type": "stream",
       "stream": "stderr",
       "text": [
        "\r",
        "[#############                 ]"
       ]
      },
      {
       "output_type": "stream",
       "stream": "stderr",
       "text": [
        " | ETA[sec]: 595.998 "
       ]
      },
      {
       "output_type": "stream",
       "stream": "stderr",
       "text": [
        "\r",
        "[##############                ]"
       ]
      },
      {
       "output_type": "stream",
       "stream": "stderr",
       "text": [
        " | ETA[sec]: 563.489 "
       ]
      },
      {
       "output_type": "stream",
       "stream": "stderr",
       "text": [
        "\r",
        "[###############               ]"
       ]
      },
      {
       "output_type": "stream",
       "stream": "stderr",
       "text": [
        " | ETA[sec]: 528.223 "
       ]
      },
      {
       "output_type": "stream",
       "stream": "stderr",
       "text": [
        "\r",
        "[################              ]"
       ]
      },
      {
       "output_type": "stream",
       "stream": "stderr",
       "text": [
        " | ETA[sec]: 490.130 "
       ]
      },
      {
       "output_type": "stream",
       "stream": "stderr",
       "text": [
        "\r",
        "[#################             ]"
       ]
      },
      {
       "output_type": "stream",
       "stream": "stderr",
       "text": [
        " | ETA[sec]: 457.530 "
       ]
      },
      {
       "output_type": "stream",
       "stream": "stderr",
       "text": [
        "\r",
        "[##################            ]"
       ]
      },
      {
       "output_type": "stream",
       "stream": "stderr",
       "text": [
        " | ETA[sec]: 422.193 "
       ]
      },
      {
       "output_type": "stream",
       "stream": "stderr",
       "text": [
        "\r",
        "[###################           ]"
       ]
      },
      {
       "output_type": "stream",
       "stream": "stderr",
       "text": [
        " | ETA[sec]: 384.172 "
       ]
      },
      {
       "output_type": "stream",
       "stream": "stderr",
       "text": [
        "\r",
        "[####################          ]"
       ]
      },
      {
       "output_type": "stream",
       "stream": "stderr",
       "text": [
        " | ETA[sec]: 351.614 "
       ]
      },
      {
       "output_type": "stream",
       "stream": "stderr",
       "text": [
        "\r",
        "[#####################         ]"
       ]
      },
      {
       "output_type": "stream",
       "stream": "stderr",
       "text": [
        " | ETA[sec]: 316.362 "
       ]
      },
      {
       "output_type": "stream",
       "stream": "stderr",
       "text": [
        "\r",
        "[######################        ]"
       ]
      },
      {
       "output_type": "stream",
       "stream": "stderr",
       "text": [
        " | ETA[sec]: 278.440 "
       ]
      },
      {
       "output_type": "stream",
       "stream": "stderr",
       "text": [
        "\r",
        "[#######################       ]"
       ]
      },
      {
       "output_type": "stream",
       "stream": "stderr",
       "text": [
        " | ETA[sec]: 245.947 "
       ]
      },
      {
       "output_type": "stream",
       "stream": "stderr",
       "text": [
        "\r",
        "[########################      ]"
       ]
      },
      {
       "output_type": "stream",
       "stream": "stderr",
       "text": [
        " | ETA[sec]: 210.798 "
       ]
      },
      {
       "output_type": "stream",
       "stream": "stderr",
       "text": [
        "\r",
        "[#########################     ]"
       ]
      },
      {
       "output_type": "stream",
       "stream": "stderr",
       "text": [
        " | ETA[sec]: 172.957 "
       ]
      },
      {
       "output_type": "stream",
       "stream": "stderr",
       "text": [
        "\r",
        "[##########################    ]"
       ]
      },
      {
       "output_type": "stream",
       "stream": "stderr",
       "text": [
        " | ETA[sec]: 140.504 "
       ]
      },
      {
       "output_type": "stream",
       "stream": "stderr",
       "text": [
        "\r",
        "[###########################   ]"
       ]
      },
      {
       "output_type": "stream",
       "stream": "stderr",
       "text": [
        " | ETA[sec]: 105.363 "
       ]
      },
      {
       "output_type": "stream",
       "stream": "stderr",
       "text": [
        "\r",
        "[############################  ]"
       ]
      },
      {
       "output_type": "stream",
       "stream": "stderr",
       "text": [
        " | ETA[sec]: 67.533 "
       ]
      },
      {
       "output_type": "stream",
       "stream": "stderr",
       "text": [
        "\r",
        "[############################# ]"
       ]
      },
      {
       "output_type": "stream",
       "stream": "stderr",
       "text": [
        " | ETA[sec]: 35.114 "
       ]
      },
      {
       "output_type": "stream",
       "stream": "stderr",
       "text": [
        "\r",
        "[##############################]"
       ]
      },
      {
       "output_type": "stream",
       "stream": "stderr",
       "text": [
        " | ETA[sec]: 0.000 "
       ]
      },
      {
       "output_type": "stream",
       "stream": "stderr",
       "text": [
        "\r",
        "[##############################]"
       ]
      },
      {
       "output_type": "stream",
       "stream": "stderr",
       "text": [
        " | ETA[sec]: 0.000 "
       ]
      },
      {
       "output_type": "stream",
       "stream": "stdout",
       "text": [
        "\n",
        "cost: "
       ]
      },
      {
       "output_type": "stream",
       "stream": "stdout",
       "text": [
        " 0.48997215783\n",
        "epoch 24, train_perf 68.043000, val_perf 53.397181"
       ]
      },
      {
       "output_type": "stream",
       "stream": "stderr",
       "text": [
        "\n",
        "Total time elapsed: 1053.288 sec\n",
        "0%                          100%\n"
       ]
      },
      {
       "output_type": "stream",
       "stream": "stderr",
       "text": [
        "[                              ]"
       ]
      },
      {
       "output_type": "stream",
       "stream": "stderr",
       "text": [
        "\r",
        "[#                             ]"
       ]
      },
      {
       "output_type": "stream",
       "stream": "stderr",
       "text": [
        " | ETA[sec]: 1013.136 "
       ]
      },
      {
       "output_type": "stream",
       "stream": "stderr",
       "text": [
        "\r",
        "[##                            ]"
       ]
      },
      {
       "output_type": "stream",
       "stream": "stderr",
       "text": [
        " | ETA[sec]: 980.966 "
       ]
      },
      {
       "output_type": "stream",
       "stream": "stderr",
       "text": [
        "\r",
        "[###                           ]"
       ]
      },
      {
       "output_type": "stream",
       "stream": "stderr",
       "text": [
        " | ETA[sec]: 945.496 "
       ]
      },
      {
       "output_type": "stream",
       "stream": "stderr",
       "text": [
        "\r",
        "[####                          ]"
       ]
      },
      {
       "output_type": "stream",
       "stream": "stderr",
       "text": [
        " | ETA[sec]: 907.684 "
       ]
      },
      {
       "output_type": "stream",
       "stream": "stderr",
       "text": [
        "\r",
        "[#####                         ]"
       ]
      },
      {
       "output_type": "stream",
       "stream": "stderr",
       "text": [
        " | ETA[sec]: 875.289 "
       ]
      },
      {
       "output_type": "stream",
       "stream": "stderr",
       "text": [
        "\r",
        "[######                        ]"
       ]
      },
      {
       "output_type": "stream",
       "stream": "stderr",
       "text": [
        " | ETA[sec]: 840.156 "
       ]
      },
      {
       "output_type": "stream",
       "stream": "stderr",
       "text": [
        "\r",
        "[#######                       ]"
       ]
      },
      {
       "output_type": "stream",
       "stream": "stderr",
       "text": [
        " | ETA[sec]: 802.365 "
       ]
      },
      {
       "output_type": "stream",
       "stream": "stderr",
       "text": [
        "\r",
        "[########                      ]"
       ]
      },
      {
       "output_type": "stream",
       "stream": "stderr",
       "text": [
        " | ETA[sec]: 770.015 "
       ]
      },
      {
       "output_type": "stream",
       "stream": "stderr",
       "text": [
        "\r",
        "[#########                     ]"
       ]
      },
      {
       "output_type": "stream",
       "stream": "stderr",
       "text": [
        " | ETA[sec]: 734.968 "
       ]
      },
      {
       "output_type": "stream",
       "stream": "stderr",
       "text": [
        "\r",
        "[##########                    ]"
       ]
      },
      {
       "output_type": "stream",
       "stream": "stderr",
       "text": [
        " | ETA[sec]: 697.204 "
       ]
      },
      {
       "output_type": "stream",
       "stream": "stderr",
       "text": [
        "\r",
        "[###########                   ]"
       ]
      },
      {
       "output_type": "stream",
       "stream": "stderr",
       "text": [
        " | ETA[sec]: 664.847 "
       ]
      },
      {
       "output_type": "stream",
       "stream": "stderr",
       "text": [
        "\r",
        "[############                  ]"
       ]
      },
      {
       "output_type": "stream",
       "stream": "stderr",
       "text": [
        " | ETA[sec]: 629.810 "
       ]
      },
      {
       "output_type": "stream",
       "stream": "stderr",
       "text": [
        "\r",
        "[#############                 ]"
       ]
      },
      {
       "output_type": "stream",
       "stream": "stderr",
       "text": [
        " | ETA[sec]: 592.194 "
       ]
      },
      {
       "output_type": "stream",
       "stream": "stderr",
       "text": [
        "\r",
        "[##############                ]"
       ]
      },
      {
       "output_type": "stream",
       "stream": "stderr",
       "text": [
        " | ETA[sec]: 559.916 "
       ]
      },
      {
       "output_type": "stream",
       "stream": "stderr",
       "text": [
        "\r",
        "[###############               ]"
       ]
      },
      {
       "output_type": "stream",
       "stream": "stderr",
       "text": [
        " | ETA[sec]: 524.907 "
       ]
      },
      {
       "output_type": "stream",
       "stream": "stderr",
       "text": [
        "\r",
        "[################              ]"
       ]
      },
      {
       "output_type": "stream",
       "stream": "stderr",
       "text": [
        " | ETA[sec]: 487.199 "
       ]
      },
      {
       "output_type": "stream",
       "stream": "stderr",
       "text": [
        "\r",
        "[#################             ]"
       ]
      },
      {
       "output_type": "stream",
       "stream": "stderr",
       "text": [
        " | ETA[sec]: 454.870 "
       ]
      },
      {
       "output_type": "stream",
       "stream": "stderr",
       "text": [
        "\r",
        "[##################            ]"
       ]
      },
      {
       "output_type": "stream",
       "stream": "stderr",
       "text": [
        " | ETA[sec]: 419.871 "
       ]
      },
      {
       "output_type": "stream",
       "stream": "stderr",
       "text": [
        "\r",
        "[###################           ]"
       ]
      },
      {
       "output_type": "stream",
       "stream": "stderr",
       "text": [
        " | ETA[sec]: 382.178 "
       ]
      },
      {
       "output_type": "stream",
       "stream": "stderr",
       "text": [
        "\r",
        "[####################          ]"
       ]
      },
      {
       "output_type": "stream",
       "stream": "stderr",
       "text": [
        " | ETA[sec]: 349.874 "
       ]
      },
      {
       "output_type": "stream",
       "stream": "stderr",
       "text": [
        "\r",
        "[#####################         ]"
       ]
      },
      {
       "output_type": "stream",
       "stream": "stderr",
       "text": [
        " | ETA[sec]: 314.872 "
       ]
      },
      {
       "output_type": "stream",
       "stream": "stderr",
       "text": [
        "\r",
        "[######################        ]"
       ]
      },
      {
       "output_type": "stream",
       "stream": "stderr",
       "text": [
        " | ETA[sec]: 277.185 "
       ]
      },
      {
       "output_type": "stream",
       "stream": "stderr",
       "text": [
        "\r",
        "[#######################       ]"
       ]
      },
      {
       "output_type": "stream",
       "stream": "stderr",
       "text": [
        " | ETA[sec]: 244.891 "
       ]
      },
      {
       "output_type": "stream",
       "stream": "stderr",
       "text": [
        "\r",
        "[########################      ]"
       ]
      },
      {
       "output_type": "stream",
       "stream": "stderr",
       "text": [
        " | ETA[sec]: 209.914 "
       ]
      },
      {
       "output_type": "stream",
       "stream": "stderr",
       "text": [
        "\r",
        "[#########################     ]"
       ]
      },
      {
       "output_type": "stream",
       "stream": "stderr",
       "text": [
        " | ETA[sec]: 172.254 "
       ]
      },
      {
       "output_type": "stream",
       "stream": "stderr",
       "text": [
        "\r",
        "[##########################    ]"
       ]
      },
      {
       "output_type": "stream",
       "stream": "stderr",
       "text": [
        " | ETA[sec]: 139.961 "
       ]
      },
      {
       "output_type": "stream",
       "stream": "stderr",
       "text": [
        "\r",
        "[###########################   ]"
       ]
      },
      {
       "output_type": "stream",
       "stream": "stderr",
       "text": [
        " | ETA[sec]: 104.973 "
       ]
      },
      {
       "output_type": "stream",
       "stream": "stderr",
       "text": [
        "\r",
        "[############################  ]"
       ]
      },
      {
       "output_type": "stream",
       "stream": "stderr",
       "text": [
        " | ETA[sec]: 67.291 "
       ]
      },
      {
       "output_type": "stream",
       "stream": "stderr",
       "text": [
        "\r",
        "[############################# ]"
       ]
      },
      {
       "output_type": "stream",
       "stream": "stderr",
       "text": [
        " | ETA[sec]: 34.991 "
       ]
      },
      {
       "output_type": "stream",
       "stream": "stderr",
       "text": [
        "\r",
        "[##############################]"
       ]
      },
      {
       "output_type": "stream",
       "stream": "stderr",
       "text": [
        " | ETA[sec]: 0.000 "
       ]
      },
      {
       "output_type": "stream",
       "stream": "stderr",
       "text": [
        "\r",
        "[##############################]"
       ]
      },
      {
       "output_type": "stream",
       "stream": "stderr",
       "text": [
        " | ETA[sec]: 0.000 "
       ]
      },
      {
       "output_type": "stream",
       "stream": "stdout",
       "text": [
        "\n",
        "cost: "
       ]
      },
      {
       "output_type": "stream",
       "stream": "stdout",
       "text": [
        " 0.480467859387\n",
        "epoch 25, train_perf 68.777000, val_perf 56.570293"
       ]
      },
      {
       "output_type": "stream",
       "stream": "stderr",
       "text": [
        "\n",
        "Total time elapsed: 1049.679 sec\n",
        "0%                          100%\n"
       ]
      },
      {
       "output_type": "stream",
       "stream": "stderr",
       "text": [
        "[                              ]"
       ]
      },
      {
       "output_type": "stream",
       "stream": "stderr",
       "text": [
        "\r",
        "[#                             ]"
       ]
      },
      {
       "output_type": "stream",
       "stream": "stderr",
       "text": [
        " | ETA[sec]: 1012.829 "
       ]
      },
      {
       "output_type": "stream",
       "stream": "stderr",
       "text": [
        "\r",
        "[##                            ]"
       ]
      },
      {
       "output_type": "stream",
       "stream": "stderr",
       "text": [
        " | ETA[sec]: 982.862 "
       ]
      },
      {
       "output_type": "stream",
       "stream": "stderr",
       "text": [
        "\r",
        "[###                           ]"
       ]
      },
      {
       "output_type": "stream",
       "stream": "stderr",
       "text": [
        " | ETA[sec]: 948.756 "
       ]
      },
      {
       "output_type": "stream",
       "stream": "stderr",
       "text": [
        "\r",
        "[####                          ]"
       ]
      },
      {
       "output_type": "stream",
       "stream": "stderr",
       "text": [
        " | ETA[sec]: 911.376 "
       ]
      },
      {
       "output_type": "stream",
       "stream": "stderr",
       "text": [
        "\r",
        "[#####                         ]"
       ]
      },
      {
       "output_type": "stream",
       "stream": "stderr",
       "text": [
        " | ETA[sec]: 879.163 "
       ]
      },
      {
       "output_type": "stream",
       "stream": "stderr",
       "text": [
        "\r",
        "[######                        ]"
       ]
      },
      {
       "output_type": "stream",
       "stream": "stderr",
       "text": [
        " | ETA[sec]: 844.159 "
       ]
      },
      {
       "output_type": "stream",
       "stream": "stderr",
       "text": [
        "\r",
        "[#######                       ]"
       ]
      },
      {
       "output_type": "stream",
       "stream": "stderr",
       "text": [
        " | ETA[sec]: 806.352 "
       ]
      },
      {
       "output_type": "stream",
       "stream": "stderr",
       "text": [
        "\r",
        "[########                      ]"
       ]
      },
      {
       "output_type": "stream",
       "stream": "stderr",
       "text": [
        " | ETA[sec]: 773.842 "
       ]
      },
      {
       "output_type": "stream",
       "stream": "stderr",
       "text": [
        "\r",
        "[#########                     ]"
       ]
      },
      {
       "output_type": "stream",
       "stream": "stderr",
       "text": [
        " | ETA[sec]: 738.675 "
       ]
      },
      {
       "output_type": "stream",
       "stream": "stderr",
       "text": [
        "\r",
        "[##########                    ]"
       ]
      },
      {
       "output_type": "stream",
       "stream": "stderr",
       "text": [
        " | ETA[sec]: 700.761 "
       ]
      },
      {
       "output_type": "stream",
       "stream": "stderr",
       "text": [
        "\r",
        "[###########                   ]"
       ]
      },
      {
       "output_type": "stream",
       "stream": "stderr",
       "text": [
        " | ETA[sec]: 668.347 "
       ]
      },
      {
       "output_type": "stream",
       "stream": "stderr",
       "text": [
        "\r",
        "[############                  ]"
       ]
      },
      {
       "output_type": "stream",
       "stream": "stderr",
       "text": [
        " | ETA[sec]: 633.169 "
       ]
      },
      {
       "output_type": "stream",
       "stream": "stderr",
       "text": [
        "\r",
        "[#############                 ]"
       ]
      },
      {
       "output_type": "stream",
       "stream": "stderr",
       "text": [
        " | ETA[sec]: 595.304 "
       ]
      },
      {
       "output_type": "stream",
       "stream": "stderr",
       "text": [
        "\r",
        "[##############                ]"
       ]
      },
      {
       "output_type": "stream",
       "stream": "stderr",
       "text": [
        " | ETA[sec]: 562.843 "
       ]
      },
      {
       "output_type": "stream",
       "stream": "stderr",
       "text": [
        "\r",
        "[###############               ]"
       ]
      },
      {
       "output_type": "stream",
       "stream": "stderr",
       "text": [
        " | ETA[sec]: 527.652 "
       ]
      },
      {
       "output_type": "stream",
       "stream": "stderr",
       "text": [
        "\r",
        "[################              ]"
       ]
      },
      {
       "output_type": "stream",
       "stream": "stderr",
       "text": [
        " | ETA[sec]: 489.782 "
       ]
      },
      {
       "output_type": "stream",
       "stream": "stderr",
       "text": [
        "\r",
        "[#################             ]"
       ]
      },
      {
       "output_type": "stream",
       "stream": "stderr",
       "text": [
        " | ETA[sec]: 457.331 "
       ]
      },
      {
       "output_type": "stream",
       "stream": "stderr",
       "text": [
        "\r",
        "[##################            ]"
       ]
      },
      {
       "output_type": "stream",
       "stream": "stderr",
       "text": [
        " | ETA[sec]: 422.174 "
       ]
      },
      {
       "output_type": "stream",
       "stream": "stderr",
       "text": [
        "\r",
        "[###################           ]"
       ]
      },
      {
       "output_type": "stream",
       "stream": "stderr",
       "text": [
        " | ETA[sec]: 384.399 "
       ]
      },
      {
       "output_type": "stream",
       "stream": "stderr",
       "text": [
        "\r",
        "[####################          ]"
       ]
      },
      {
       "output_type": "stream",
       "stream": "stderr",
       "text": [
        " | ETA[sec]: 351.945 "
       ]
      },
      {
       "output_type": "stream",
       "stream": "stderr",
       "text": [
        "\r",
        "[#####################         ]"
       ]
      },
      {
       "output_type": "stream",
       "stream": "stderr",
       "text": [
        " | ETA[sec]: 316.789 "
       ]
      },
      {
       "output_type": "stream",
       "stream": "stderr",
       "text": [
        "\r",
        "[######################        ]"
       ]
      },
      {
       "output_type": "stream",
       "stream": "stderr",
       "text": [
        " | ETA[sec]: 278.890 "
       ]
      },
      {
       "output_type": "stream",
       "stream": "stderr",
       "text": [
        "\r",
        "[#######################       ]"
       ]
      },
      {
       "output_type": "stream",
       "stream": "stderr",
       "text": [
        " | ETA[sec]: 246.399 "
       ]
      },
      {
       "output_type": "stream",
       "stream": "stderr",
       "text": [
        "\r",
        "[########################      ]"
       ]
      },
      {
       "output_type": "stream",
       "stream": "stderr",
       "text": [
        " | ETA[sec]: 211.203 "
       ]
      },
      {
       "output_type": "stream",
       "stream": "stderr",
       "text": [
        "\r",
        "[#########################     ]"
       ]
      },
      {
       "output_type": "stream",
       "stream": "stderr",
       "text": [
        " | ETA[sec]: 173.293 "
       ]
      },
      {
       "output_type": "stream",
       "stream": "stderr",
       "text": [
        "\r",
        "[##########################    ]"
       ]
      },
      {
       "output_type": "stream",
       "stream": "stderr",
       "text": [
        " | ETA[sec]: 140.796 "
       ]
      },
      {
       "output_type": "stream",
       "stream": "stderr",
       "text": [
        "\r",
        "[###########################   ]"
       ]
      },
      {
       "output_type": "stream",
       "stream": "stderr",
       "text": [
        " | ETA[sec]: 105.599 "
       ]
      },
      {
       "output_type": "stream",
       "stream": "stderr",
       "text": [
        "\r",
        "[############################  ]"
       ]
      },
      {
       "output_type": "stream",
       "stream": "stderr",
       "text": [
        " | ETA[sec]: 67.693 "
       ]
      },
      {
       "output_type": "stream",
       "stream": "stderr",
       "text": [
        "\r",
        "[############################# ]"
       ]
      },
      {
       "output_type": "stream",
       "stream": "stderr",
       "text": [
        " | ETA[sec]: 35.201 "
       ]
      },
      {
       "output_type": "stream",
       "stream": "stderr",
       "text": [
        "\r",
        "[##############################]"
       ]
      },
      {
       "output_type": "stream",
       "stream": "stderr",
       "text": [
        " | ETA[sec]: 0.000 "
       ]
      },
      {
       "output_type": "stream",
       "stream": "stderr",
       "text": [
        "\r",
        "[##############################]"
       ]
      },
      {
       "output_type": "stream",
       "stream": "stderr",
       "text": [
        " | ETA[sec]: 0.000 "
       ]
      },
      {
       "output_type": "stream",
       "stream": "stdout",
       "text": [
        "\n",
        "cost: "
       ]
      },
      {
       "output_type": "stream",
       "stream": "stdout",
       "text": [
        " 0.474099772169\n",
        "epoch 26, train_perf 69.252000, val_perf 53.534514"
       ]
      },
      {
       "output_type": "stream",
       "stream": "stderr",
       "text": [
        "\n",
        "Total time elapsed: 1056.032 sec\n",
        "0%                          100%\n"
       ]
      },
      {
       "output_type": "stream",
       "stream": "stderr",
       "text": [
        "[                              ]"
       ]
      },
      {
       "output_type": "stream",
       "stream": "stderr",
       "text": [
        "\r",
        "[#                             ]"
       ]
      },
      {
       "output_type": "stream",
       "stream": "stderr",
       "text": [
        " | ETA[sec]: 1019.824 "
       ]
      },
      {
       "output_type": "stream",
       "stream": "stderr",
       "text": [
        "\r",
        "[##                            ]"
       ]
      },
      {
       "output_type": "stream",
       "stream": "stderr",
       "text": [
        " | ETA[sec]: 987.013 "
       ]
      },
      {
       "output_type": "stream",
       "stream": "stderr",
       "text": [
        "\r",
        "[###                           ]"
       ]
      },
      {
       "output_type": "stream",
       "stream": "stderr",
       "text": [
        " | ETA[sec]: 951.426 "
       ]
      },
      {
       "output_type": "stream",
       "stream": "stderr",
       "text": [
        "\r",
        "[####                          ]"
       ]
      },
      {
       "output_type": "stream",
       "stream": "stderr",
       "text": [
        " | ETA[sec]: 913.671 "
       ]
      },
      {
       "output_type": "stream",
       "stream": "stderr",
       "text": [
        "\r",
        "[#####                         ]"
       ]
      },
      {
       "output_type": "stream",
       "stream": "stderr",
       "text": [
        " | ETA[sec]: 881.215 "
       ]
      },
      {
       "output_type": "stream",
       "stream": "stderr",
       "text": [
        "\r",
        "[######                        ]"
       ]
      },
      {
       "output_type": "stream",
       "stream": "stderr",
       "text": [
        " | ETA[sec]: 845.810 "
       ]
      },
      {
       "output_type": "stream",
       "stream": "stderr",
       "text": [
        "\r",
        "[#######                       ]"
       ]
      },
      {
       "output_type": "stream",
       "stream": "stderr",
       "text": [
        " | ETA[sec]: 807.689 "
       ]
      },
      {
       "output_type": "stream",
       "stream": "stderr",
       "text": [
        "\r",
        "[########                      ]"
       ]
      },
      {
       "output_type": "stream",
       "stream": "stderr",
       "text": [
        " | ETA[sec]: 775.023 "
       ]
      },
      {
       "output_type": "stream",
       "stream": "stderr",
       "text": [
        "\r",
        "[#########                     ]"
       ]
      },
      {
       "output_type": "stream",
       "stream": "stderr",
       "text": [
        " | ETA[sec]: 739.675 "
       ]
      },
      {
       "output_type": "stream",
       "stream": "stderr",
       "text": [
        "\r",
        "[##########                    ]"
       ]
      },
      {
       "output_type": "stream",
       "stream": "stderr",
       "text": [
        " | ETA[sec]: 701.691 "
       ]
      },
      {
       "output_type": "stream",
       "stream": "stderr",
       "text": [
        "\r",
        "[###########                   ]"
       ]
      },
      {
       "output_type": "stream",
       "stream": "stderr",
       "text": [
        " | ETA[sec]: 669.185 "
       ]
      },
      {
       "output_type": "stream",
       "stream": "stderr",
       "text": [
        "\r",
        "[############                  ]"
       ]
      },
      {
       "output_type": "stream",
       "stream": "stderr",
       "text": [
        " | ETA[sec]: 633.979 "
       ]
      },
      {
       "output_type": "stream",
       "stream": "stderr",
       "text": [
        "\r",
        "[#############                 ]"
       ]
      },
      {
       "output_type": "stream",
       "stream": "stderr",
       "text": [
        " | ETA[sec]: 596.057 "
       ]
      },
      {
       "output_type": "stream",
       "stream": "stderr",
       "text": [
        "\r",
        "[##############                ]"
       ]
      },
      {
       "output_type": "stream",
       "stream": "stderr",
       "text": [
        " | ETA[sec]: 563.422 "
       ]
      },
      {
       "output_type": "stream",
       "stream": "stderr",
       "text": [
        "\r",
        "[###############               ]"
       ]
      },
      {
       "output_type": "stream",
       "stream": "stderr",
       "text": [
        " | ETA[sec]: 527.968 "
       ]
      },
      {
       "output_type": "stream",
       "stream": "stderr",
       "text": [
        "\r",
        "[################              ]"
       ]
      },
      {
       "output_type": "stream",
       "stream": "stderr",
       "text": [
        " | ETA[sec]: 489.854 "
       ]
      },
      {
       "output_type": "stream",
       "stream": "stderr",
       "text": [
        "\r",
        "[#################             ]"
       ]
      },
      {
       "output_type": "stream",
       "stream": "stderr",
       "text": [
        " | ETA[sec]: 457.243 "
       ]
      },
      {
       "output_type": "stream",
       "stream": "stderr",
       "text": [
        "\r",
        "[##################            ]"
       ]
      },
      {
       "output_type": "stream",
       "stream": "stderr",
       "text": [
        " | ETA[sec]: 421.933 "
       ]
      },
      {
       "output_type": "stream",
       "stream": "stderr",
       "text": [
        "\r",
        "[###################           ]"
       ]
      },
      {
       "output_type": "stream",
       "stream": "stderr",
       "text": [
        " | ETA[sec]: 383.956 "
       ]
      },
      {
       "output_type": "stream",
       "stream": "stderr",
       "text": [
        "\r",
        "[####################          ]"
       ]
      },
      {
       "output_type": "stream",
       "stream": "stderr",
       "text": [
        " | ETA[sec]: 351.433 "
       ]
      },
      {
       "output_type": "stream",
       "stream": "stderr",
       "text": [
        "\r",
        "[#####################         ]"
       ]
      },
      {
       "output_type": "stream",
       "stream": "stderr",
       "text": [
        " | ETA[sec]: 316.215 "
       ]
      },
      {
       "output_type": "stream",
       "stream": "stderr",
       "text": [
        "\r",
        "[######################        ]"
       ]
      },
      {
       "output_type": "stream",
       "stream": "stderr",
       "text": [
        " | ETA[sec]: 278.322 "
       ]
      },
      {
       "output_type": "stream",
       "stream": "stderr",
       "text": [
        "\r",
        "[#######################       ]"
       ]
      },
      {
       "output_type": "stream",
       "stream": "stderr",
       "text": [
        " | ETA[sec]: 245.852 "
       ]
      },
      {
       "output_type": "stream",
       "stream": "stderr",
       "text": [
        "\r",
        "[########################      ]"
       ]
      },
      {
       "output_type": "stream",
       "stream": "stderr",
       "text": [
        " | ETA[sec]: 210.707 "
       ]
      },
      {
       "output_type": "stream",
       "stream": "stderr",
       "text": [
        "\r",
        "[#########################     ]"
       ]
      },
      {
       "output_type": "stream",
       "stream": "stderr",
       "text": [
        " | ETA[sec]: 172.859 "
       ]
      },
      {
       "output_type": "stream",
       "stream": "stderr",
       "text": [
        "\r",
        "[##########################    ]"
       ]
      },
      {
       "output_type": "stream",
       "stream": "stderr",
       "text": [
        " | ETA[sec]: 140.434 "
       ]
      },
      {
       "output_type": "stream",
       "stream": "stderr",
       "text": [
        "\r",
        "[###########################   ]"
       ]
      },
      {
       "output_type": "stream",
       "stream": "stderr",
       "text": [
        " | ETA[sec]: 105.322 "
       ]
      },
      {
       "output_type": "stream",
       "stream": "stderr",
       "text": [
        "\r",
        "[############################  ]"
       ]
      },
      {
       "output_type": "stream",
       "stream": "stderr",
       "text": [
        " | ETA[sec]: 67.509 "
       ]
      },
      {
       "output_type": "stream",
       "stream": "stderr",
       "text": [
        "\r",
        "[############################# ]"
       ]
      },
      {
       "output_type": "stream",
       "stream": "stderr",
       "text": [
        " | ETA[sec]: 35.101 "
       ]
      },
      {
       "output_type": "stream",
       "stream": "stderr",
       "text": [
        "\r",
        "[##############################]"
       ]
      },
      {
       "output_type": "stream",
       "stream": "stderr",
       "text": [
        " | ETA[sec]: 0.000 "
       ]
      },
      {
       "output_type": "stream",
       "stream": "stderr",
       "text": [
        "\r",
        "[##############################]"
       ]
      },
      {
       "output_type": "stream",
       "stream": "stderr",
       "text": [
        " | ETA[sec]: 0.000 "
       ]
      },
      {
       "output_type": "stream",
       "stream": "stdout",
       "text": [
        "\n",
        "cost: "
       ]
      },
      {
       "output_type": "stream",
       "stream": "stdout",
       "text": [
        " 0.469128661101\n",
        "epoch 27, train_perf 69.162000, val_perf 50.545717"
       ]
      },
      {
       "output_type": "stream",
       "stream": "stderr",
       "text": [
        "\n",
        "Total time elapsed: 1052.931 sec\n",
        "0%                          100%\n"
       ]
      },
      {
       "output_type": "stream",
       "stream": "stderr",
       "text": [
        "[                              ]"
       ]
      },
      {
       "output_type": "stream",
       "stream": "stderr",
       "text": [
        "\r",
        "[#                             ]"
       ]
      },
      {
       "output_type": "stream",
       "stream": "stderr",
       "text": [
        " | ETA[sec]: 1012.532 "
       ]
      },
      {
       "output_type": "stream",
       "stream": "stderr",
       "text": [
        "\r",
        "[##                            ]"
       ]
      },
      {
       "output_type": "stream",
       "stream": "stderr",
       "text": [
        " | ETA[sec]: 980.525 "
       ]
      },
      {
       "output_type": "stream",
       "stream": "stderr",
       "text": [
        "\r",
        "[###                           ]"
       ]
      },
      {
       "output_type": "stream",
       "stream": "stderr",
       "text": [
        " | ETA[sec]: 945.252 "
       ]
      },
      {
       "output_type": "stream",
       "stream": "stderr",
       "text": [
        "\r",
        "[####                          ]"
       ]
      },
      {
       "output_type": "stream",
       "stream": "stderr",
       "text": [
        " | ETA[sec]: 908.660 "
       ]
      },
      {
       "output_type": "stream",
       "stream": "stderr",
       "text": [
        "\r",
        "[#####                         ]"
       ]
      },
      {
       "output_type": "stream",
       "stream": "stderr",
       "text": [
        " | ETA[sec]: 877.191 "
       ]
      },
      {
       "output_type": "stream",
       "stream": "stderr",
       "text": [
        "\r",
        "[######                        ]"
       ]
      },
      {
       "output_type": "stream",
       "stream": "stderr",
       "text": [
        " | ETA[sec]: 842.576 "
       ]
      },
      {
       "output_type": "stream",
       "stream": "stderr",
       "text": [
        "\r",
        "[#######                       ]"
       ]
      },
      {
       "output_type": "stream",
       "stream": "stderr",
       "text": [
        " | ETA[sec]: 805.127 "
       ]
      },
      {
       "output_type": "stream",
       "stream": "stderr",
       "text": [
        "\r",
        "[########                      ]"
       ]
      },
      {
       "output_type": "stream",
       "stream": "stderr",
       "text": [
        " | ETA[sec]: 772.862 "
       ]
      },
      {
       "output_type": "stream",
       "stream": "stderr",
       "text": [
        "\r",
        "[#########                     ]"
       ]
      },
      {
       "output_type": "stream",
       "stream": "stderr",
       "text": [
        " | ETA[sec]: 737.856 "
       ]
      },
      {
       "output_type": "stream",
       "stream": "stderr",
       "text": [
        "\r",
        "[##########                    ]"
       ]
      },
      {
       "output_type": "stream",
       "stream": "stderr",
       "text": [
        " | ETA[sec]: 700.145 "
       ]
      },
      {
       "output_type": "stream",
       "stream": "stderr",
       "text": [
        "\r",
        "[###########                   ]"
       ]
      },
      {
       "output_type": "stream",
       "stream": "stderr",
       "text": [
        " | ETA[sec]: 667.797 "
       ]
      },
      {
       "output_type": "stream",
       "stream": "stderr",
       "text": [
        "\r",
        "[############                  ]"
       ]
      },
      {
       "output_type": "stream",
       "stream": "stderr",
       "text": [
        " | ETA[sec]: 632.775 "
       ]
      },
      {
       "output_type": "stream",
       "stream": "stderr",
       "text": [
        "\r",
        "[#############                 ]"
       ]
      },
      {
       "output_type": "stream",
       "stream": "stderr",
       "text": [
        " | ETA[sec]: 595.026 "
       ]
      },
      {
       "output_type": "stream",
       "stream": "stderr",
       "text": [
        "\r",
        "[##############                ]"
       ]
      },
      {
       "output_type": "stream",
       "stream": "stderr",
       "text": [
        " | ETA[sec]: 562.656 "
       ]
      },
      {
       "output_type": "stream",
       "stream": "stderr",
       "text": [
        "\r",
        "[###############               ]"
       ]
      },
      {
       "output_type": "stream",
       "stream": "stderr",
       "text": [
        " | ETA[sec]: 527.560 "
       ]
      },
      {
       "output_type": "stream",
       "stream": "stderr",
       "text": [
        "\r",
        "[################              ]"
       ]
      },
      {
       "output_type": "stream",
       "stream": "stderr",
       "text": [
        " | ETA[sec]: 489.714 "
       ]
      },
      {
       "output_type": "stream",
       "stream": "stderr",
       "text": [
        "\r",
        "[#################             ]"
       ]
      },
      {
       "output_type": "stream",
       "stream": "stderr",
       "text": [
        " | ETA[sec]: 457.250 "
       ]
      },
      {
       "output_type": "stream",
       "stream": "stderr",
       "text": [
        "\r",
        "[##################            ]"
       ]
      },
      {
       "output_type": "stream",
       "stream": "stderr",
       "text": [
        " | ETA[sec]: 422.101 "
       ]
      },
      {
       "output_type": "stream",
       "stream": "stderr",
       "text": [
        "\r",
        "[###################           ]"
       ]
      },
      {
       "output_type": "stream",
       "stream": "stderr",
       "text": [
        " | ETA[sec]: 384.247 "
       ]
      },
      {
       "output_type": "stream",
       "stream": "stderr",
       "text": [
        "\r",
        "[####################          ]"
       ]
      },
      {
       "output_type": "stream",
       "stream": "stderr",
       "text": [
        " | ETA[sec]: 351.789 "
       ]
      },
      {
       "output_type": "stream",
       "stream": "stderr",
       "text": [
        "\r",
        "[#####################         ]"
       ]
      },
      {
       "output_type": "stream",
       "stream": "stderr",
       "text": [
        " | ETA[sec]: 316.628 "
       ]
      },
      {
       "output_type": "stream",
       "stream": "stderr",
       "text": [
        "\r",
        "[######################        ]"
       ]
      },
      {
       "output_type": "stream",
       "stream": "stderr",
       "text": [
        " | ETA[sec]: 278.756 "
       ]
      },
      {
       "output_type": "stream",
       "stream": "stderr",
       "text": [
        "\r",
        "[#######################       ]"
       ]
      },
      {
       "output_type": "stream",
       "stream": "stderr",
       "text": [
        " | ETA[sec]: 246.290 "
       ]
      },
      {
       "output_type": "stream",
       "stream": "stderr",
       "text": [
        "\r",
        "[########################      ]"
       ]
      },
      {
       "output_type": "stream",
       "stream": "stderr",
       "text": [
        " | ETA[sec]: 211.115 "
       ]
      },
      {
       "output_type": "stream",
       "stream": "stderr",
       "text": [
        "\r",
        "[#########################     ]"
       ]
      },
      {
       "output_type": "stream",
       "stream": "stderr",
       "text": [
        " | ETA[sec]: 173.222 "
       ]
      },
      {
       "output_type": "stream",
       "stream": "stderr",
       "text": [
        "\r",
        "[##########################    ]"
       ]
      },
      {
       "output_type": "stream",
       "stream": "stderr",
       "text": [
        " | ETA[sec]: 140.747 "
       ]
      },
      {
       "output_type": "stream",
       "stream": "stderr",
       "text": [
        "\r",
        "[###########################   ]"
       ]
      },
      {
       "output_type": "stream",
       "stream": "stderr",
       "text": [
        " | ETA[sec]: 105.562 "
       ]
      },
      {
       "output_type": "stream",
       "stream": "stderr",
       "text": [
        "\r",
        "[############################  ]"
       ]
      },
      {
       "output_type": "stream",
       "stream": "stderr",
       "text": [
        " | ETA[sec]: 67.669 "
       ]
      },
      {
       "output_type": "stream",
       "stream": "stderr",
       "text": [
        "\r",
        "[############################# ]"
       ]
      },
      {
       "output_type": "stream",
       "stream": "stderr",
       "text": [
        " | ETA[sec]: 35.190 "
       ]
      },
      {
       "output_type": "stream",
       "stream": "stderr",
       "text": [
        "\r",
        "[##############################]"
       ]
      },
      {
       "output_type": "stream",
       "stream": "stderr",
       "text": [
        " | ETA[sec]: 0.000 "
       ]
      },
      {
       "output_type": "stream",
       "stream": "stderr",
       "text": [
        "\r",
        "[##############################]"
       ]
      },
      {
       "output_type": "stream",
       "stream": "stderr",
       "text": [
        " | ETA[sec]: 0.000 "
       ]
      },
      {
       "output_type": "stream",
       "stream": "stdout",
       "text": [
        "\n",
        "cost: "
       ]
      },
      {
       "output_type": "stream",
       "stream": "stdout",
       "text": [
        " 0.497802489015\n",
        "epoch 28, train_perf 67.526000, val_perf 51.987712"
       ]
      },
      {
       "output_type": "stream",
       "stream": "stderr",
       "text": [
        "\n",
        "Total time elapsed: 1055.722 sec\n",
        "0%                          100%\n"
       ]
      },
      {
       "output_type": "stream",
       "stream": "stderr",
       "text": [
        "[                              ]"
       ]
      },
      {
       "output_type": "stream",
       "stream": "stderr",
       "text": [
        "\r",
        "[#                             ]"
       ]
      },
      {
       "output_type": "stream",
       "stream": "stderr",
       "text": [
        " | ETA[sec]: 1017.526 "
       ]
      },
      {
       "output_type": "stream",
       "stream": "stderr",
       "text": [
        "\r",
        "[##                            ]"
       ]
      },
      {
       "output_type": "stream",
       "stream": "stderr",
       "text": [
        " | ETA[sec]: 985.647 "
       ]
      },
      {
       "output_type": "stream",
       "stream": "stderr",
       "text": [
        "\r",
        "[###                           ]"
       ]
      },
      {
       "output_type": "stream",
       "stream": "stderr",
       "text": [
        " | ETA[sec]: 950.800 "
       ]
      },
      {
       "output_type": "stream",
       "stream": "stderr",
       "text": [
        "\r",
        "[####                          ]"
       ]
      },
      {
       "output_type": "stream",
       "stream": "stderr",
       "text": [
        " | ETA[sec]: 912.768 "
       ]
      },
      {
       "output_type": "stream",
       "stream": "stderr",
       "text": [
        "\r",
        "[#####                         ]"
       ]
      },
      {
       "output_type": "stream",
       "stream": "stderr",
       "text": [
        " | ETA[sec]: 880.219 "
       ]
      },
      {
       "output_type": "stream",
       "stream": "stderr",
       "text": [
        "\r",
        "[######                        ]"
       ]
      },
      {
       "output_type": "stream",
       "stream": "stderr",
       "text": [
        " | ETA[sec]: 844.912 "
       ]
      },
      {
       "output_type": "stream",
       "stream": "stderr",
       "text": [
        "\r",
        "[#######                       ]"
       ]
      },
      {
       "output_type": "stream",
       "stream": "stderr",
       "text": [
        " | ETA[sec]: 806.976 "
       ]
      },
      {
       "output_type": "stream",
       "stream": "stderr",
       "text": [
        "\r",
        "[########                      ]"
       ]
      },
      {
       "output_type": "stream",
       "stream": "stderr",
       "text": [
        " | ETA[sec]: 774.502 "
       ]
      },
      {
       "output_type": "stream",
       "stream": "stderr",
       "text": [
        "\r",
        "[#########                     ]"
       ]
      },
      {
       "output_type": "stream",
       "stream": "stderr",
       "text": [
        " | ETA[sec]: 739.433 "
       ]
      },
      {
       "output_type": "stream",
       "stream": "stderr",
       "text": [
        "\r",
        "[##########                    ]"
       ]
      },
      {
       "output_type": "stream",
       "stream": "stderr",
       "text": [
        " | ETA[sec]: 701.465 "
       ]
      },
      {
       "output_type": "stream",
       "stream": "stderr",
       "text": [
        "\r",
        "[###########                   ]"
       ]
      },
      {
       "output_type": "stream",
       "stream": "stderr",
       "text": [
        " | ETA[sec]: 668.924 "
       ]
      },
      {
       "output_type": "stream",
       "stream": "stderr",
       "text": [
        "\r",
        "[############                  ]"
       ]
      },
      {
       "output_type": "stream",
       "stream": "stderr",
       "text": [
        " | ETA[sec]: 633.750 "
       ]
      },
      {
       "output_type": "stream",
       "stream": "stderr",
       "text": [
        "\r",
        "[#############                 ]"
       ]
      },
      {
       "output_type": "stream",
       "stream": "stderr",
       "text": [
        " | ETA[sec]: 595.789 "
       ]
      },
      {
       "output_type": "stream",
       "stream": "stderr",
       "text": [
        "\r",
        "[##############                ]"
       ]
      },
      {
       "output_type": "stream",
       "stream": "stderr",
       "text": [
        " | ETA[sec]: 563.284 "
       ]
      },
      {
       "output_type": "stream",
       "stream": "stderr",
       "text": [
        "\r",
        "[###############               ]"
       ]
      },
      {
       "output_type": "stream",
       "stream": "stderr",
       "text": [
        " | ETA[sec]: 528.076 "
       ]
      },
      {
       "output_type": "stream",
       "stream": "stderr",
       "text": [
        "\r",
        "[################              ]"
       ]
      },
      {
       "output_type": "stream",
       "stream": "stderr",
       "text": [
        " | ETA[sec]: 490.139 "
       ]
      },
      {
       "output_type": "stream",
       "stream": "stderr",
       "text": [
        "\r",
        "[#################             ]"
       ]
      },
      {
       "output_type": "stream",
       "stream": "stderr",
       "text": [
        " | ETA[sec]: 457.638 "
       ]
      },
      {
       "output_type": "stream",
       "stream": "stderr",
       "text": [
        "\r",
        "[##################            ]"
       ]
      },
      {
       "output_type": "stream",
       "stream": "stderr",
       "text": [
        " | ETA[sec]: 422.421 "
       ]
      },
      {
       "output_type": "stream",
       "stream": "stderr",
       "text": [
        "\r",
        "[###################           ]"
       ]
      },
      {
       "output_type": "stream",
       "stream": "stderr",
       "text": [
        " | ETA[sec]: 384.510 "
       ]
      },
      {
       "output_type": "stream",
       "stream": "stderr",
       "text": [
        "\r",
        "[####################          ]"
       ]
      },
      {
       "output_type": "stream",
       "stream": "stderr",
       "text": [
        " | ETA[sec]: 352.022 "
       ]
      },
      {
       "output_type": "stream",
       "stream": "stderr",
       "text": [
        "\r",
        "[#####################         ]"
       ]
      },
      {
       "output_type": "stream",
       "stream": "stderr",
       "text": [
        " | ETA[sec]: 316.816 "
       ]
      },
      {
       "output_type": "stream",
       "stream": "stderr",
       "text": [
        "\r",
        "[######################        ]"
       ]
      },
      {
       "output_type": "stream",
       "stream": "stderr",
       "text": [
        " | ETA[sec]: 278.894 "
       ]
      },
      {
       "output_type": "stream",
       "stream": "stderr",
       "text": [
        "\r",
        "[#######################       ]"
       ]
      },
      {
       "output_type": "stream",
       "stream": "stderr",
       "text": [
        " | ETA[sec]: 246.398 "
       ]
      },
      {
       "output_type": "stream",
       "stream": "stderr",
       "text": [
        "\r",
        "[########################      ]"
       ]
      },
      {
       "output_type": "stream",
       "stream": "stderr",
       "text": [
        " | ETA[sec]: 211.189 "
       ]
      },
      {
       "output_type": "stream",
       "stream": "stderr",
       "text": [
        "\r",
        "[#########################     ]"
       ]
      },
      {
       "output_type": "stream",
       "stream": "stderr",
       "text": [
        " | ETA[sec]: 173.277 "
       ]
      },
      {
       "output_type": "stream",
       "stream": "stderr",
       "text": [
        "\r",
        "[##########################    ]"
       ]
      },
      {
       "output_type": "stream",
       "stream": "stderr",
       "text": [
        " | ETA[sec]: 140.785 "
       ]
      },
      {
       "output_type": "stream",
       "stream": "stderr",
       "text": [
        "\r",
        "[###########################   ]"
       ]
      },
      {
       "output_type": "stream",
       "stream": "stderr",
       "text": [
        " | ETA[sec]: 105.585 "
       ]
      },
      {
       "output_type": "stream",
       "stream": "stderr",
       "text": [
        "\r",
        "[############################  ]"
       ]
      },
      {
       "output_type": "stream",
       "stream": "stderr",
       "text": [
        " | ETA[sec]: 67.681 "
       ]
      },
      {
       "output_type": "stream",
       "stream": "stderr",
       "text": [
        "\r",
        "[############################# ]"
       ]
      },
      {
       "output_type": "stream",
       "stream": "stderr",
       "text": [
        " | ETA[sec]: 35.194 "
       ]
      },
      {
       "output_type": "stream",
       "stream": "stderr",
       "text": [
        "\r",
        "[##############################]"
       ]
      },
      {
       "output_type": "stream",
       "stream": "stderr",
       "text": [
        " | ETA[sec]: 0.000 "
       ]
      },
      {
       "output_type": "stream",
       "stream": "stderr",
       "text": [
        "\r",
        "[##############################]"
       ]
      },
      {
       "output_type": "stream",
       "stream": "stderr",
       "text": [
        " | ETA[sec]: 0.000 "
       ]
      },
      {
       "output_type": "stream",
       "stream": "stdout",
       "text": [
        "\n",
        "cost: "
       ]
      },
      {
       "output_type": "stream",
       "stream": "stdout",
       "text": [
        " 0.489484839878\n",
        "epoch 29, train_perf 68.936000, val_perf 51.680520"
       ]
      },
      {
       "output_type": "stream",
       "stream": "stderr",
       "text": [
        "\n",
        "Total time elapsed: 1055.853 sec\n",
        "0%                          100%\n"
       ]
      },
      {
       "output_type": "stream",
       "stream": "stderr",
       "text": [
        "[                              ]"
       ]
      },
      {
       "output_type": "stream",
       "stream": "stderr",
       "text": [
        "\r",
        "[#                             ]"
       ]
      },
      {
       "output_type": "stream",
       "stream": "stderr",
       "text": [
        " | ETA[sec]: 1018.412 "
       ]
      },
      {
       "output_type": "stream",
       "stream": "stderr",
       "text": [
        "\r",
        "[##                            ]"
       ]
      },
      {
       "output_type": "stream",
       "stream": "stderr",
       "text": [
        " | ETA[sec]: 985.813 "
       ]
      },
      {
       "output_type": "stream",
       "stream": "stderr",
       "text": [
        "\r",
        "[###                           ]"
       ]
      },
      {
       "output_type": "stream",
       "stream": "stderr",
       "text": [
        " | ETA[sec]: 950.735 "
       ]
      },
      {
       "output_type": "stream",
       "stream": "stderr",
       "text": [
        "\r",
        "[####                          ]"
       ]
      },
      {
       "output_type": "stream",
       "stream": "stderr",
       "text": [
        " | ETA[sec]: 912.798 "
       ]
      },
      {
       "output_type": "stream",
       "stream": "stderr",
       "text": [
        "\r",
        "[#####                         ]"
       ]
      },
      {
       "output_type": "stream",
       "stream": "stderr",
       "text": [
        " | ETA[sec]: 880.269 "
       ]
      },
      {
       "output_type": "stream",
       "stream": "stderr",
       "text": [
        "\r",
        "[######                        ]"
       ]
      },
      {
       "output_type": "stream",
       "stream": "stderr",
       "text": [
        " | ETA[sec]: 844.944 "
       ]
      },
      {
       "output_type": "stream",
       "stream": "stderr",
       "text": [
        "\r",
        "[#######                       ]"
       ]
      },
      {
       "output_type": "stream",
       "stream": "stderr",
       "text": [
        " | ETA[sec]: 807.071 "
       ]
      },
      {
       "output_type": "stream",
       "stream": "stderr",
       "text": [
        "\r",
        "[########                      ]"
       ]
      },
      {
       "output_type": "stream",
       "stream": "stderr",
       "text": [
        " | ETA[sec]: 774.627 "
       ]
      },
      {
       "output_type": "stream",
       "stream": "stderr",
       "text": [
        "\r",
        "[#########                     ]"
       ]
      },
      {
       "output_type": "stream",
       "stream": "stderr",
       "text": [
        " | ETA[sec]: 739.409 "
       ]
      },
      {
       "output_type": "stream",
       "stream": "stderr",
       "text": [
        "\r",
        "[##########                    ]"
       ]
      },
      {
       "output_type": "stream",
       "stream": "stderr",
       "text": [
        " | ETA[sec]: 701.444 "
       ]
      },
      {
       "output_type": "stream",
       "stream": "stderr",
       "text": [
        "\r",
        "[###########                   ]"
       ]
      },
      {
       "output_type": "stream",
       "stream": "stderr",
       "text": [
        " | ETA[sec]: 668.891 "
       ]
      },
      {
       "output_type": "stream",
       "stream": "stderr",
       "text": [
        "\r",
        "[############                  ]"
       ]
      },
      {
       "output_type": "stream",
       "stream": "stderr",
       "text": [
        " | ETA[sec]: 633.743 "
       ]
      },
      {
       "output_type": "stream",
       "stream": "stderr",
       "text": [
        "\r",
        "[#############                 ]"
       ]
      },
      {
       "output_type": "stream",
       "stream": "stderr",
       "text": [
        " | ETA[sec]: 595.826 "
       ]
      },
      {
       "output_type": "stream",
       "stream": "stderr",
       "text": [
        "\r",
        "[##############                ]"
       ]
      },
      {
       "output_type": "stream",
       "stream": "stderr",
       "text": [
        " | ETA[sec]: 563.371 "
       ]
      },
      {
       "output_type": "stream",
       "stream": "stderr",
       "text": [
        "\r",
        "[###############               ]"
       ]
      },
      {
       "output_type": "stream",
       "stream": "stderr",
       "text": [
        " | ETA[sec]: 528.201 "
       ]
      },
      {
       "output_type": "stream",
       "stream": "stderr",
       "text": [
        "\r",
        "[################              ]"
       ]
      },
      {
       "output_type": "stream",
       "stream": "stderr",
       "text": [
        " | ETA[sec]: 490.288 "
       ]
      },
      {
       "output_type": "stream",
       "stream": "stderr",
       "text": [
        "\r",
        "[#################             ]"
       ]
      },
      {
       "output_type": "stream",
       "stream": "stderr",
       "text": [
        " | ETA[sec]: 457.775 "
       ]
      },
      {
       "output_type": "stream",
       "stream": "stderr",
       "text": [
        "\r",
        "[##################            ]"
       ]
      },
      {
       "output_type": "stream",
       "stream": "stderr",
       "text": [
        " | ETA[sec]: 422.578 "
       ]
      },
      {
       "output_type": "stream",
       "stream": "stderr",
       "text": [
        "\r",
        "[###################           ]"
       ]
      },
      {
       "output_type": "stream",
       "stream": "stderr",
       "text": [
        " | ETA[sec]: 384.639 "
       ]
      },
      {
       "output_type": "stream",
       "stream": "stderr",
       "text": [
        "\r",
        "[####################          ]"
       ]
      },
      {
       "output_type": "stream",
       "stream": "stderr",
       "text": [
        " | ETA[sec]: 352.109 "
       ]
      },
      {
       "output_type": "stream",
       "stream": "stderr",
       "text": [
        "\r",
        "[#####################         ]"
       ]
      },
      {
       "output_type": "stream",
       "stream": "stderr",
       "text": [
        " | ETA[sec]: 316.883 "
       ]
      },
      {
       "output_type": "stream",
       "stream": "stderr",
       "text": [
        "\r",
        "[######################        ]"
       ]
      },
      {
       "output_type": "stream",
       "stream": "stderr",
       "text": [
        " | ETA[sec]: 278.949 "
       ]
      },
      {
       "output_type": "stream",
       "stream": "stderr",
       "text": [
        "\r",
        "[#######################       ]"
       ]
      },
      {
       "output_type": "stream",
       "stream": "stderr",
       "text": [
        " | ETA[sec]: 246.463 "
       ]
      },
      {
       "output_type": "stream",
       "stream": "stderr",
       "text": [
        "\r",
        "[########################      ]"
       ]
      },
      {
       "output_type": "stream",
       "stream": "stderr",
       "text": [
        " | ETA[sec]: 211.256 "
       ]
      },
      {
       "output_type": "stream",
       "stream": "stderr",
       "text": [
        "\r",
        "[#########################     ]"
       ]
      },
      {
       "output_type": "stream",
       "stream": "stderr",
       "text": [
        " | ETA[sec]: 173.334 "
       ]
      },
      {
       "output_type": "stream",
       "stream": "stderr",
       "text": [
        "\r",
        "[##########################    ]"
       ]
      },
      {
       "output_type": "stream",
       "stream": "stderr",
       "text": [
        " | ETA[sec]: 140.829 "
       ]
      },
      {
       "output_type": "stream",
       "stream": "stderr",
       "text": [
        "\r",
        "[###########################   ]"
       ]
      },
      {
       "output_type": "stream",
       "stream": "stderr",
       "text": [
        " | ETA[sec]: 105.617 "
       ]
      },
      {
       "output_type": "stream",
       "stream": "stderr",
       "text": [
        "\r",
        "[############################  ]"
       ]
      },
      {
       "output_type": "stream",
       "stream": "stderr",
       "text": [
        " | ETA[sec]: 67.702 "
       ]
      },
      {
       "output_type": "stream",
       "stream": "stderr",
       "text": [
        "\r",
        "[############################# ]"
       ]
      },
      {
       "output_type": "stream",
       "stream": "stderr",
       "text": [
        " | ETA[sec]: 35.204 "
       ]
      },
      {
       "output_type": "stream",
       "stream": "stderr",
       "text": [
        "\r",
        "[##############################]"
       ]
      },
      {
       "output_type": "stream",
       "stream": "stderr",
       "text": [
        " | ETA[sec]: 0.000 "
       ]
      },
      {
       "output_type": "stream",
       "stream": "stderr",
       "text": [
        "\r",
        "[##############################]"
       ]
      },
      {
       "output_type": "stream",
       "stream": "stderr",
       "text": [
        " | ETA[sec]: 0.000 "
       ]
      },
      {
       "output_type": "stream",
       "stream": "stdout",
       "text": [
        "\n",
        "cost: "
       ]
      },
      {
       "output_type": "stream",
       "stream": "stdout",
       "text": [
        " 0.470957879532\n",
        "epoch 30, train_perf 69.662000, val_perf 52.775569"
       ]
      },
      {
       "output_type": "stream",
       "stream": "stderr",
       "text": [
        "\n",
        "Total time elapsed: 1056.076 sec\n",
        "0%                          100%\n"
       ]
      },
      {
       "output_type": "stream",
       "stream": "stderr",
       "text": [
        "[                              ]"
       ]
      },
      {
       "output_type": "stream",
       "stream": "stderr",
       "text": [
        "\r",
        "[#                             ]"
       ]
      },
      {
       "output_type": "stream",
       "stream": "stderr",
       "text": [
        " | ETA[sec]: 1017.931 "
       ]
      },
      {
       "output_type": "stream",
       "stream": "stderr",
       "text": [
        "\r",
        "[##                            ]"
       ]
      },
      {
       "output_type": "stream",
       "stream": "stderr",
       "text": [
        " | ETA[sec]: 985.325 "
       ]
      },
      {
       "output_type": "stream",
       "stream": "stderr",
       "text": [
        "\r",
        "[###                           ]"
       ]
      },
      {
       "output_type": "stream",
       "stream": "stderr",
       "text": [
        " | ETA[sec]: 950.118 "
       ]
      },
      {
       "output_type": "stream",
       "stream": "stderr",
       "text": [
        "\r",
        "[####                          ]"
       ]
      },
      {
       "output_type": "stream",
       "stream": "stderr",
       "text": [
        " | ETA[sec]: 912.028 "
       ]
      },
      {
       "output_type": "stream",
       "stream": "stderr",
       "text": [
        "\r",
        "[#####                         ]"
       ]
      },
      {
       "output_type": "stream",
       "stream": "stderr",
       "text": [
        " | ETA[sec]: 879.616 "
       ]
      },
      {
       "output_type": "stream",
       "stream": "stderr",
       "text": [
        "\r",
        "[######                        ]"
       ]
      },
      {
       "output_type": "stream",
       "stream": "stderr",
       "text": [
        " | ETA[sec]: 844.292 "
       ]
      },
      {
       "output_type": "stream",
       "stream": "stderr",
       "text": [
        "\r",
        "[#######                       ]"
       ]
      },
      {
       "output_type": "stream",
       "stream": "stderr",
       "text": [
        " | ETA[sec]: 806.381 "
       ]
      },
      {
       "output_type": "stream",
       "stream": "stderr",
       "text": [
        "\r",
        "[########                      ]"
       ]
      },
      {
       "output_type": "stream",
       "stream": "stderr",
       "text": [
        " | ETA[sec]: 773.914 "
       ]
      },
      {
       "output_type": "stream",
       "stream": "stderr",
       "text": [
        "\r",
        "[#########                     ]"
       ]
      },
      {
       "output_type": "stream",
       "stream": "stderr",
       "text": [
        " | ETA[sec]: 738.830 "
       ]
      },
      {
       "output_type": "stream",
       "stream": "stderr",
       "text": [
        "\r",
        "[##########                    ]"
       ]
      },
      {
       "output_type": "stream",
       "stream": "stderr",
       "text": [
        " | ETA[sec]: 700.987 "
       ]
      },
      {
       "output_type": "stream",
       "stream": "stderr",
       "text": [
        "\r",
        "[###########                   ]"
       ]
      },
      {
       "output_type": "stream",
       "stream": "stderr",
       "text": [
        " | ETA[sec]: 668.518 "
       ]
      },
      {
       "output_type": "stream",
       "stream": "stderr",
       "text": [
        "\r",
        "[############                  ]"
       ]
      },
      {
       "output_type": "stream",
       "stream": "stderr",
       "text": [
        " | ETA[sec]: 633.362 "
       ]
      },
      {
       "output_type": "stream",
       "stream": "stderr",
       "text": [
        "\r",
        "[#############                 ]"
       ]
      },
      {
       "output_type": "stream",
       "stream": "stderr",
       "text": [
        " | ETA[sec]: 595.481 "
       ]
      },
      {
       "output_type": "stream",
       "stream": "stderr",
       "text": [
        "\r",
        "[##############                ]"
       ]
      },
      {
       "output_type": "stream",
       "stream": "stderr",
       "text": [
        " | ETA[sec]: 563.040 "
       ]
      },
      {
       "output_type": "stream",
       "stream": "stderr",
       "text": [
        "\r",
        "[###############               ]"
       ]
      },
      {
       "output_type": "stream",
       "stream": "stderr",
       "text": [
        " | ETA[sec]: 527.856 "
       ]
      },
      {
       "output_type": "stream",
       "stream": "stderr",
       "text": [
        "\r",
        "[################              ]"
       ]
      },
      {
       "output_type": "stream",
       "stream": "stderr",
       "text": [
        " | ETA[sec]: 489.990 "
       ]
      },
      {
       "output_type": "stream",
       "stream": "stderr",
       "text": [
        "\r",
        "[#################             ]"
       ]
      },
      {
       "output_type": "stream",
       "stream": "stderr",
       "text": [
        " | ETA[sec]: 457.515 "
       ]
      },
      {
       "output_type": "stream",
       "stream": "stderr",
       "text": [
        "\r",
        "[##################            ]"
       ]
      },
      {
       "output_type": "stream",
       "stream": "stderr",
       "text": [
        " | ETA[sec]: 422.313 "
       ]
      },
      {
       "output_type": "stream",
       "stream": "stderr",
       "text": [
        "\r",
        "[###################           ]"
       ]
      },
      {
       "output_type": "stream",
       "stream": "stderr",
       "text": [
        " | ETA[sec]: 384.409 "
       ]
      },
      {
       "output_type": "stream",
       "stream": "stderr",
       "text": [
        "\r",
        "[####################          ]"
       ]
      },
      {
       "output_type": "stream",
       "stream": "stderr",
       "text": [
        " | ETA[sec]: 351.923 "
       ]
      },
      {
       "output_type": "stream",
       "stream": "stderr",
       "text": [
        "\r",
        "[#####################         ]"
       ]
      },
      {
       "output_type": "stream",
       "stream": "stderr",
       "text": [
        " | ETA[sec]: 316.740 "
       ]
      },
      {
       "output_type": "stream",
       "stream": "stderr",
       "text": [
        "\r",
        "[######################        ]"
       ]
      },
      {
       "output_type": "stream",
       "stream": "stderr",
       "text": [
        " | ETA[sec]: 278.856 "
       ]
      },
      {
       "output_type": "stream",
       "stream": "stderr",
       "text": [
        "\r",
        "[#######################       ]"
       ]
      },
      {
       "output_type": "stream",
       "stream": "stderr",
       "text": [
        " | ETA[sec]: 246.377 "
       ]
      },
      {
       "output_type": "stream",
       "stream": "stderr",
       "text": [
        "\r",
        "[########################      ]"
       ]
      },
      {
       "output_type": "stream",
       "stream": "stderr",
       "text": [
        " | ETA[sec]: 211.184 "
       ]
      },
      {
       "output_type": "stream",
       "stream": "stderr",
       "text": [
        "\r",
        "[#########################     ]"
       ]
      },
      {
       "output_type": "stream",
       "stream": "stderr",
       "text": [
        " | ETA[sec]: 173.278 "
       ]
      },
      {
       "output_type": "stream",
       "stream": "stderr",
       "text": [
        "\r",
        "[##########################    ]"
       ]
      },
      {
       "output_type": "stream",
       "stream": "stderr",
       "text": [
        " | ETA[sec]: 140.791 "
       ]
      },
      {
       "output_type": "stream",
       "stream": "stderr",
       "text": [
        "\r",
        "[###########################   ]"
       ]
      },
      {
       "output_type": "stream",
       "stream": "stderr",
       "text": [
        " | ETA[sec]: 105.593 "
       ]
      },
      {
       "output_type": "stream",
       "stream": "stderr",
       "text": [
        "\r",
        "[############################  ]"
       ]
      },
      {
       "output_type": "stream",
       "stream": "stderr",
       "text": [
        " | ETA[sec]: 67.688 "
       ]
      },
      {
       "output_type": "stream",
       "stream": "stderr",
       "text": [
        "\r",
        "[############################# ]"
       ]
      },
      {
       "output_type": "stream",
       "stream": "stderr",
       "text": [
        " | ETA[sec]: 35.197 "
       ]
      },
      {
       "output_type": "stream",
       "stream": "stderr",
       "text": [
        "\r",
        "[##############################]"
       ]
      },
      {
       "output_type": "stream",
       "stream": "stderr",
       "text": [
        " | ETA[sec]: 0.000 "
       ]
      },
      {
       "output_type": "stream",
       "stream": "stderr",
       "text": [
        "\r",
        "[##############################]"
       ]
      },
      {
       "output_type": "stream",
       "stream": "stderr",
       "text": [
        " | ETA[sec]: 0.000 "
       ]
      },
      {
       "output_type": "stream",
       "stream": "stdout",
       "text": [
        "\n",
        "cost: "
       ]
      },
      {
       "output_type": "stream",
       "stream": "stdout",
       "text": [
        " 0.465144868787\n",
        "epoch 31, train_perf 70.295000, val_perf 52.294904"
       ]
      },
      {
       "output_type": "stream",
       "stream": "stderr",
       "text": [
        "\n",
        "Total time elapsed: 1055.941 sec\n",
        "0%                          100%\n"
       ]
      },
      {
       "output_type": "stream",
       "stream": "stderr",
       "text": [
        "[                              ]"
       ]
      },
      {
       "output_type": "stream",
       "stream": "stderr",
       "text": [
        "\r",
        "[#                             ]"
       ]
      },
      {
       "output_type": "stream",
       "stream": "stderr",
       "text": [
        " | ETA[sec]: 1018.505 "
       ]
      },
      {
       "output_type": "stream",
       "stream": "stderr",
       "text": [
        "\r",
        "[##                            ]"
       ]
      },
      {
       "output_type": "stream",
       "stream": "stderr",
       "text": [
        " | ETA[sec]: 985.741 "
       ]
      },
      {
       "output_type": "stream",
       "stream": "stderr",
       "text": [
        "\r",
        "[###                           ]"
       ]
      },
      {
       "output_type": "stream",
       "stream": "stderr",
       "text": [
        " | ETA[sec]: 950.250 "
       ]
      },
      {
       "output_type": "stream",
       "stream": "stderr",
       "text": [
        "\r",
        "[####                          ]"
       ]
      },
      {
       "output_type": "stream",
       "stream": "stderr",
       "text": [
        " | ETA[sec]: 912.507 "
       ]
      },
      {
       "output_type": "stream",
       "stream": "stderr",
       "text": [
        "\r",
        "[#####                         ]"
       ]
      },
      {
       "output_type": "stream",
       "stream": "stderr",
       "text": [
        " | ETA[sec]: 880.004 "
       ]
      },
      {
       "output_type": "stream",
       "stream": "stderr",
       "text": [
        "\r",
        "[######                        ]"
       ]
      },
      {
       "output_type": "stream",
       "stream": "stderr",
       "text": [
        " | ETA[sec]: 844.951 "
       ]
      },
      {
       "output_type": "stream",
       "stream": "stderr",
       "text": [
        "\r",
        "[#######                       ]"
       ]
      },
      {
       "output_type": "stream",
       "stream": "stderr",
       "text": [
        " | ETA[sec]: 807.188 "
       ]
      },
      {
       "output_type": "stream",
       "stream": "stderr",
       "text": [
        "\r",
        "[########                      ]"
       ]
      },
      {
       "output_type": "stream",
       "stream": "stderr",
       "text": [
        " | ETA[sec]: 774.764 "
       ]
      },
      {
       "output_type": "stream",
       "stream": "stderr",
       "text": [
        "\r",
        "[#########                     ]"
       ]
      },
      {
       "output_type": "stream",
       "stream": "stderr",
       "text": [
        " | ETA[sec]: 739.508 "
       ]
      },
      {
       "output_type": "stream",
       "stream": "stderr",
       "text": [
        "\r",
        "[##########                    ]"
       ]
      },
      {
       "output_type": "stream",
       "stream": "stderr",
       "text": [
        " | ETA[sec]: 701.445 "
       ]
      },
      {
       "output_type": "stream",
       "stream": "stderr",
       "text": [
        "\r",
        "[###########                   ]"
       ]
      },
      {
       "output_type": "stream",
       "stream": "stderr",
       "text": [
        " | ETA[sec]: 668.935 "
       ]
      },
      {
       "output_type": "stream",
       "stream": "stderr",
       "text": [
        "\r",
        "[############                  ]"
       ]
      },
      {
       "output_type": "stream",
       "stream": "stderr",
       "text": [
        " | ETA[sec]: 633.673 "
       ]
      },
      {
       "output_type": "stream",
       "stream": "stderr",
       "text": [
        "\r",
        "[#############                 ]"
       ]
      },
      {
       "output_type": "stream",
       "stream": "stderr",
       "text": [
        " | ETA[sec]: 595.752 "
       ]
      },
      {
       "output_type": "stream",
       "stream": "stderr",
       "text": [
        "\r",
        "[##############                ]"
       ]
      },
      {
       "output_type": "stream",
       "stream": "stderr",
       "text": [
        " | ETA[sec]: 563.192 "
       ]
      },
      {
       "output_type": "stream",
       "stream": "stderr",
       "text": [
        "\r",
        "[###############               ]"
       ]
      },
      {
       "output_type": "stream",
       "stream": "stderr",
       "text": [
        " | ETA[sec]: 527.957 "
       ]
      },
      {
       "output_type": "stream",
       "stream": "stderr",
       "text": [
        "\r",
        "[################              ]"
       ]
      },
      {
       "output_type": "stream",
       "stream": "stderr",
       "text": [
        " | ETA[sec]: 490.032 "
       ]
      },
      {
       "output_type": "stream",
       "stream": "stderr",
       "text": [
        "\r",
        "[#################             ]"
       ]
      },
      {
       "output_type": "stream",
       "stream": "stderr",
       "text": [
        " | ETA[sec]: 457.520 "
       ]
      },
      {
       "output_type": "stream",
       "stream": "stderr",
       "text": [
        "\r",
        "[##################            ]"
       ]
      },
      {
       "output_type": "stream",
       "stream": "stderr",
       "text": [
        " | ETA[sec]: 422.346 "
       ]
      },
      {
       "output_type": "stream",
       "stream": "stderr",
       "text": [
        "\r",
        "[###################           ]"
       ]
      },
      {
       "output_type": "stream",
       "stream": "stderr",
       "text": [
        " | ETA[sec]: 384.451 "
       ]
      },
      {
       "output_type": "stream",
       "stream": "stderr",
       "text": [
        "\r",
        "[####################          ]"
       ]
      },
      {
       "output_type": "stream",
       "stream": "stderr",
       "text": [
        " | ETA[sec]: 351.964 "
       ]
      },
      {
       "output_type": "stream",
       "stream": "stderr",
       "text": [
        "\r",
        "[#####################         ]"
       ]
      },
      {
       "output_type": "stream",
       "stream": "stderr",
       "text": [
        " | ETA[sec]: 316.823 "
       ]
      },
      {
       "output_type": "stream",
       "stream": "stderr",
       "text": [
        "\r",
        "[######################        ]"
       ]
      },
      {
       "output_type": "stream",
       "stream": "stderr",
       "text": [
        " | ETA[sec]: 278.919 "
       ]
      },
      {
       "output_type": "stream",
       "stream": "stderr",
       "text": [
        "\r",
        "[#######################       ]"
       ]
      },
      {
       "output_type": "stream",
       "stream": "stderr",
       "text": [
        " | ETA[sec]: 246.429 "
       ]
      },
      {
       "output_type": "stream",
       "stream": "stderr",
       "text": [
        "\r",
        "[########################      ]"
       ]
      },
      {
       "output_type": "stream",
       "stream": "stderr",
       "text": [
        " | ETA[sec]: 211.227 "
       ]
      },
      {
       "output_type": "stream",
       "stream": "stderr",
       "text": [
        "\r",
        "[#########################     ]"
       ]
      },
      {
       "output_type": "stream",
       "stream": "stderr",
       "text": [
        " | ETA[sec]: 173.336 "
       ]
      },
      {
       "output_type": "stream",
       "stream": "stderr",
       "text": [
        "\r",
        "[##########################    ]"
       ]
      },
      {
       "output_type": "stream",
       "stream": "stderr",
       "text": [
        " | ETA[sec]: 140.849 "
       ]
      },
      {
       "output_type": "stream",
       "stream": "stderr",
       "text": [
        "\r",
        "[###########################   ]"
       ]
      },
      {
       "output_type": "stream",
       "stream": "stderr",
       "text": [
        " | ETA[sec]: 105.638 "
       ]
      },
      {
       "output_type": "stream",
       "stream": "stderr",
       "text": [
        "\r",
        "[############################  ]"
       ]
      },
      {
       "output_type": "stream",
       "stream": "stderr",
       "text": [
        " | ETA[sec]: 67.715 "
       ]
      },
      {
       "output_type": "stream",
       "stream": "stderr",
       "text": [
        "\r",
        "[############################# ]"
       ]
      },
      {
       "output_type": "stream",
       "stream": "stderr",
       "text": [
        " | ETA[sec]: 35.216 "
       ]
      },
      {
       "output_type": "stream",
       "stream": "stdout",
       "text": [
        "\n"
       ]
      },
      {
       "ename": "KeyboardInterrupt",
       "evalue": "",
       "output_type": "pyerr",
       "traceback": [
        "\u001b[1;31m---------------------------------------------------------------------------\u001b[0m\n\u001b[1;31mKeyboardInterrupt\u001b[0m                         Traceback (most recent call last)",
        "\u001b[1;32m<ipython-input-18-02445ea4100b>\u001b[0m in \u001b[0;36m<module>\u001b[1;34m()\u001b[0m\n\u001b[0;32m      7\u001b[0m            \u001b[0msqr_norm_lim\u001b[0m\u001b[1;33m=\u001b[0m\u001b[1;36m1\u001b[0m\u001b[1;33m,\u001b[0m\u001b[1;33m\u001b[0m\u001b[0m\n\u001b[0;32m      8\u001b[0m            non_static=False)\n\u001b[1;32m----> 9\u001b[1;33m \u001b[1;32mprint\u001b[0m \u001b[0mrnn\u001b[0m\u001b[1;33m.\u001b[0m\u001b[0mtrain\u001b[0m\u001b[1;33m(\u001b[0m\u001b[0mn_epochs\u001b[0m\u001b[1;33m=\u001b[0m\u001b[1;36m100\u001b[0m\u001b[1;33m,\u001b[0m \u001b[0mshuffle_batch\u001b[0m\u001b[1;33m=\u001b[0m\u001b[0mTrue\u001b[0m\u001b[1;33m)\u001b[0m\u001b[1;33m\u001b[0m\u001b[0m\n\u001b[0m",
        "\u001b[1;32m<ipython-input-17-9b47dc5edc13>\u001b[0m in \u001b[0;36mtrain\u001b[1;34m(self, n_epochs, shuffle_batch)\u001b[0m\n\u001b[0;32m    154\u001b[0m             \u001b[0mtotal_cost\u001b[0m \u001b[1;33m=\u001b[0m \u001b[1;36m0\u001b[0m\u001b[1;33m\u001b[0m\u001b[0m\n\u001b[0;32m    155\u001b[0m             \u001b[1;32mfor\u001b[0m \u001b[0mminibatch_index\u001b[0m \u001b[1;32min\u001b[0m \u001b[0mindices\u001b[0m\u001b[1;33m:\u001b[0m\u001b[1;33m\u001b[0m\u001b[0m\n\u001b[1;32m--> 156\u001b[1;33m                 \u001b[0mcost_epoch\u001b[0m \u001b[1;33m=\u001b[0m \u001b[0mself\u001b[0m\u001b[1;33m.\u001b[0m\u001b[0mtrain_model\u001b[0m\u001b[1;33m(\u001b[0m\u001b[0mminibatch_index\u001b[0m\u001b[1;33m)\u001b[0m\u001b[1;33m\u001b[0m\u001b[0m\n\u001b[0m\u001b[0;32m    157\u001b[0m                 \u001b[1;31m#print minibatch_index, cost_epoch\u001b[0m\u001b[1;33m\u001b[0m\u001b[1;33m\u001b[0m\u001b[0m\n\u001b[0;32m    158\u001b[0m                 \u001b[0mtotal_cost\u001b[0m \u001b[1;33m+=\u001b[0m \u001b[0mcost_epoch\u001b[0m\u001b[1;33m\u001b[0m\u001b[0m\n",
        "\u001b[1;32m/home/npow/code/Theano/theano/compile/function_module.pyc\u001b[0m in \u001b[0;36m__call__\u001b[1;34m(self, *args, **kwargs)\u001b[0m\n\u001b[0;32m    593\u001b[0m         \u001b[0mt0_fn\u001b[0m \u001b[1;33m=\u001b[0m \u001b[0mtime\u001b[0m\u001b[1;33m.\u001b[0m\u001b[0mtime\u001b[0m\u001b[1;33m(\u001b[0m\u001b[1;33m)\u001b[0m\u001b[1;33m\u001b[0m\u001b[0m\n\u001b[0;32m    594\u001b[0m         \u001b[1;32mtry\u001b[0m\u001b[1;33m:\u001b[0m\u001b[1;33m\u001b[0m\u001b[0m\n\u001b[1;32m--> 595\u001b[1;33m             \u001b[0moutputs\u001b[0m \u001b[1;33m=\u001b[0m \u001b[0mself\u001b[0m\u001b[1;33m.\u001b[0m\u001b[0mfn\u001b[0m\u001b[1;33m(\u001b[0m\u001b[1;33m)\u001b[0m\u001b[1;33m\u001b[0m\u001b[0m\n\u001b[0m\u001b[0;32m    596\u001b[0m         \u001b[1;32mexcept\u001b[0m \u001b[0mException\u001b[0m\u001b[1;33m:\u001b[0m\u001b[1;33m\u001b[0m\u001b[0m\n\u001b[0;32m    597\u001b[0m             \u001b[1;32mif\u001b[0m \u001b[0mhasattr\u001b[0m\u001b[1;33m(\u001b[0m\u001b[0mself\u001b[0m\u001b[1;33m.\u001b[0m\u001b[0mfn\u001b[0m\u001b[1;33m,\u001b[0m \u001b[1;34m'position_of_error'\u001b[0m\u001b[1;33m)\u001b[0m\u001b[1;33m:\u001b[0m\u001b[1;33m\u001b[0m\u001b[0m\n",
        "\u001b[1;32m/home/npow/code/Theano/theano/scan_module/scan_op.pyc\u001b[0m in \u001b[0;36mrval\u001b[1;34m(p, i, o, n, allow_gc)\u001b[0m\n\u001b[0;32m    646\u001b[0m         def rval(p=p, i=node_input_storage, o=node_output_storage, n=node,\n\u001b[0;32m    647\u001b[0m                  allow_gc=allow_gc):\n\u001b[1;32m--> 648\u001b[1;33m             \u001b[0mr\u001b[0m \u001b[1;33m=\u001b[0m \u001b[0mp\u001b[0m\u001b[1;33m(\u001b[0m\u001b[0mn\u001b[0m\u001b[1;33m,\u001b[0m \u001b[1;33m[\u001b[0m\u001b[0mx\u001b[0m\u001b[1;33m[\u001b[0m\u001b[1;36m0\u001b[0m\u001b[1;33m]\u001b[0m \u001b[1;32mfor\u001b[0m \u001b[0mx\u001b[0m \u001b[1;32min\u001b[0m \u001b[0mi\u001b[0m\u001b[1;33m]\u001b[0m\u001b[1;33m,\u001b[0m \u001b[0mo\u001b[0m\u001b[1;33m)\u001b[0m\u001b[1;33m\u001b[0m\u001b[0m\n\u001b[0m\u001b[0;32m    649\u001b[0m             \u001b[1;32mfor\u001b[0m \u001b[0mo\u001b[0m \u001b[1;32min\u001b[0m \u001b[0mnode\u001b[0m\u001b[1;33m.\u001b[0m\u001b[0moutputs\u001b[0m\u001b[1;33m:\u001b[0m\u001b[1;33m\u001b[0m\u001b[0m\n\u001b[0;32m    650\u001b[0m                 \u001b[0mcompute_map\u001b[0m\u001b[1;33m[\u001b[0m\u001b[0mo\u001b[0m\u001b[1;33m]\u001b[0m\u001b[1;33m[\u001b[0m\u001b[1;36m0\u001b[0m\u001b[1;33m]\u001b[0m \u001b[1;33m=\u001b[0m \u001b[0mTrue\u001b[0m\u001b[1;33m\u001b[0m\u001b[0m\n",
        "\u001b[1;32m/home/npow/code/Theano/theano/scan_module/scan_op.pyc\u001b[0m in \u001b[0;36m<lambda>\u001b[1;34m(node, args, outs)\u001b[0m\n\u001b[0;32m    635\u001b[0m                         \u001b[0margs\u001b[0m\u001b[1;33m,\u001b[0m\u001b[1;33m\u001b[0m\u001b[0m\n\u001b[0;32m    636\u001b[0m                         \u001b[0mouts\u001b[0m\u001b[1;33m,\u001b[0m\u001b[1;33m\u001b[0m\u001b[0m\n\u001b[1;32m--> 637\u001b[1;33m                         self, node)\n\u001b[0m\u001b[0;32m    638\u001b[0m         \u001b[1;32mexcept\u001b[0m \u001b[1;33m(\u001b[0m\u001b[0mImportError\u001b[0m\u001b[1;33m,\u001b[0m \u001b[0mtheano\u001b[0m\u001b[1;33m.\u001b[0m\u001b[0mgof\u001b[0m\u001b[1;33m.\u001b[0m\u001b[0mcmodule\u001b[0m\u001b[1;33m.\u001b[0m\u001b[0mMissingGXX\u001b[0m\u001b[1;33m)\u001b[0m\u001b[1;33m:\u001b[0m\u001b[1;33m\u001b[0m\u001b[0m\n\u001b[0;32m    639\u001b[0m             \u001b[0mp\u001b[0m \u001b[1;33m=\u001b[0m \u001b[0mself\u001b[0m\u001b[1;33m.\u001b[0m\u001b[0mexecute\u001b[0m\u001b[1;33m\u001b[0m\u001b[0m\n",
        "\u001b[1;31mKeyboardInterrupt\u001b[0m: "
       ]
      }
     ],
     "prompt_number": 18
    },
    {
     "cell_type": "code",
     "collapsed": false,
     "input": [],
     "language": "python",
     "metadata": {},
     "outputs": []
    }
   ],
   "metadata": {}
  }
 ]
}