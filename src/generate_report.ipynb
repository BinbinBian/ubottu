{
 "metadata": {
  "name": "",
  "signature": "sha256:a2720d234691aa7fb7053eac8c7fc27c93f34ffa108ab2e53d3e46e88bc6de5f"
 },
 "nbformat": 3,
 "nbformat_minor": 0,
 "worksheets": [
  {
   "cells": [
    {
     "cell_type": "code",
     "collapsed": false,
     "input": [
      "from __future__ import division\n",
      "import cPickle\n",
      "import itertools\n",
      "import matplotlib.pyplot as plt\n",
      "import numpy as np"
     ],
     "language": "python",
     "metadata": {},
     "outputs": [],
     "prompt_number": 1
    },
    {
     "cell_type": "code",
     "collapsed": false,
     "input": [
      "_, _, test_data = cPickle.load(open('dataset_1000000_updated/dataset.pkl'))"
     ],
     "language": "python",
     "metadata": {},
     "outputs": [],
     "prompt_number": 2
    },
    {
     "cell_type": "code",
     "collapsed": false,
     "input": [
      "test_probas = cPickle.load(open('test_probas.pkl'))"
     ],
     "language": "python",
     "metadata": {},
     "outputs": [],
     "prompt_number": 3
    },
    {
     "cell_type": "code",
     "collapsed": false,
     "input": [
      "W, word_idx_map = cPickle.load(open('dataset_1000000_updated/W.pkl'))"
     ],
     "language": "python",
     "metadata": {},
     "outputs": [],
     "prompt_number": 6
    },
    {
     "cell_type": "code",
     "collapsed": false,
     "input": [
      "inv_vocab = {}\n",
      "for w in word_idx_map:\n",
      "    inv_vocab[word_idx_map[w]] = w"
     ],
     "language": "python",
     "metadata": {},
     "outputs": [],
     "prompt_number": 7
    },
    {
     "cell_type": "code",
     "collapsed": false,
     "input": [
      "def to_words(indices):\n",
      "    return ' '.join([inv_vocab[i] for i in indices])\n",
      "\n",
      "def generate_report(probas, k=5, group_size=10):\n",
      "    test_size = 10\n",
      "    n_batches = len(probas) // test_size\n",
      "    n_correct = 0\n",
      "    L_correct, L_incorrect = [], []\n",
      "    html_correct = ''\n",
      "    html_incorrect = ''\n",
      "    for i in xrange(n_batches):\n",
      "        batch = np.array(probas[i*test_size:(i+1)*test_size])[:group_size]\n",
      "        #p = np.random.permutation(len(batch))\n",
      "        #indices = p[np.argpartition(batch[p], -k)[-k:]]\n",
      "        indices = np.argpartition(batch, -k)[-k:]\n",
      "        max_idx = np.argmax(batch) + i*test_size\n",
      "        html = '<table><tr>'\n",
      "        html += '<td></td>'\n",
      "        html += '<td>%s</td></tr>' % '<br/>'.join(to_words(test_data['c'][i*test_size]).split('__EOS__'))\n",
      "        for j in range(i*test_size, (i+1)*test_size):\n",
      "            html += '<tr><td>%.2f</td>' % batch[j-i*test_size]\n",
      "            html += '<td>'\n",
      "            r = to_words(test_data['r'][j])\n",
      "            if max_idx == j:\n",
      "                html += '<b>' + r + '</b>'\n",
      "            else:\n",
      "                html += r\n",
      "            html += '</td></tr>'\n",
      "        html += '</table><br/><br/>'\n",
      "        if 0 in indices:\n",
      "            L_correct.append(i)\n",
      "            html_correct += html\n",
      "        else:\n",
      "            L_incorrect.append(i)\n",
      "            html_incorrect += html\n",
      "    return L_correct, L_incorrect, html_correct, html_incorrect"
     ],
     "language": "python",
     "metadata": {},
     "outputs": [],
     "prompt_number": 14
    },
    {
     "cell_type": "code",
     "collapsed": false,
     "input": [
      "_, _, html_correct, _ = generate_report(test_probas, k=1)\n",
      "_, _, _, html_incorrect = generate_report(test_probas, k=5)\n",
      "with open('ubuntu_correct.html', 'wb') as f:\n",
      "    f.write('%s\\n' % html_correct)\n",
      "with open('ubuntu_errors.html', 'wb') as f:\n",
      "    f.write('%s\\n' % html_incorrect)"
     ],
     "language": "python",
     "metadata": {},
     "outputs": [],
     "prompt_number": 16
    },
    {
     "cell_type": "code",
     "collapsed": false,
     "input": [
      "def isplit(iterable,splitters):\n",
      "  return [list(g) for k,g in itertools.groupby(iterable,lambda x:x in splitters) if not k]\n",
      "\n",
      "for k in np.arange(10, 800, 10):\n",
      "  print k, '*'*80\n",
      "#  l = [len(isplit(x, [word_idx_map['__EOS__']])) for x in test_data['c']]\n",
      "  l = [len(x) for x in test_data['c']]\n",
      "    \n",
      "  print 'all: ', len(filter(lambda x: x > k, l))/ len(l)\n",
      "  #plt.hist(l)\n",
      "  #plt.savefig('all.jpg')\n",
      "\n",
      "  incorrect, correct = get_incorrect(test_probas)\n",
      "#  incorrect_lengths = [len(isplit(x, [word_idx_map['__EOS__']])) for x in np.array(test_data['c'])[incorrect]]\n",
      "  incorrect_lengths = [len(x) for x in np.array(test_data['c'])[incorrect]]\n",
      "    \n",
      "  print 'wrong: ', len(filter(lambda x: x > k, incorrect_lengths))/ len(incorrect_lengths)\n",
      "  #plt.hist(np.arange(0, 800, 50), incorrect_lengths)\n",
      "  #plt.savefig('incorrect.jpg')"
     ],
     "language": "python",
     "metadata": {},
     "outputs": []
    },
    {
     "cell_type": "code",
     "collapsed": false,
     "input": [
      "print len(incorrect), correct\n",
      "print len(test_probas)\n",
      "print len(test_data['c'])"
     ],
     "language": "python",
     "metadata": {},
     "outputs": [
      {
       "output_type": "stream",
       "stream": "stdout",
       "text": [
        "2935 32572\n",
        "355072\n",
        "355170\n"
       ]
      }
     ],
     "prompt_number": 72
    },
    {
     "cell_type": "code",
     "collapsed": false,
     "input": [],
     "language": "python",
     "metadata": {},
     "outputs": []
    }
   ],
   "metadata": {}
  }
 ]
}