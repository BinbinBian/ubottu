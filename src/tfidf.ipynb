{
 "metadata": {
  "name": "",
  "signature": "sha256:6134e1f36bff9c87dd3489d8e60a7e4ea999f588b53cf05f8c7587109a6bace2"
 },
 "nbformat": 3,
 "nbformat_minor": 0,
 "worksheets": [
  {
   "cells": [
    {
     "cell_type": "code",
     "collapsed": false,
     "input": [
      "from __future__ import division\n",
      "import csv\n",
      "import numpy as np\n",
      "import random\n",
      "import scipy\n",
      "from scipy.spatial.distance import cosine\n",
      "from sklearn.feature_extraction.text import *\n",
      "from sklearn.metrics import *\n",
      "from sklearn.preprocessing import *\n",
      "from sklearn.svm import *\n",
      "\n",
      "TEST_FILE = '../data/testset.csv'"
     ],
     "language": "python",
     "metadata": {},
     "outputs": [],
     "prompt_number": 8
    },
    {
     "cell_type": "code",
     "collapsed": false,
     "input": [
      "def recall(probas, k, group_size):    \n",
      "    n_batches = len(probas) // group_size\n",
      "    n_correct = 0\n",
      "    for i in xrange(n_batches):\n",
      "        batch = np.array(probas[i*group_size:(i+1)*group_size])\n",
      "        p = np.random.permutation(len(batch))\n",
      "        indices = p[np.argpartition(batch[p], -k)[-k:]]\n",
      "        #indices = np.argpartition(batch, -k)[-k:]\n",
      "        if 0 in indices:\n",
      "            n_correct += 1\n",
      "    return n_correct / (len(probas) / group_size)"
     ],
     "language": "python",
     "metadata": {},
     "outputs": [],
     "prompt_number": 9
    },
    {
     "cell_type": "code",
     "collapsed": false,
     "input": [
      "C = []\n",
      "R = []\n",
      "Y = []\n",
      "for line in csv.reader(open(TEST_FILE), delimiter=','):\n",
      "    C.append(line[0])\n",
      "    R.append(line[1])\n",
      "    Y.append(int(line[2]))"
     ],
     "language": "python",
     "metadata": {},
     "outputs": [],
     "prompt_number": 10
    },
    {
     "cell_type": "code",
     "collapsed": false,
     "input": [
      "vectorizer = TfidfVectorizer()\n",
      "vectorizer.fit(C+R)"
     ],
     "language": "python",
     "metadata": {},
     "outputs": [
      {
       "metadata": {},
       "output_type": "pyout",
       "prompt_number": 11,
       "text": [
        "TfidfVectorizer(analyzer=u'word', binary=False, charset=None,\n",
        "        charset_error=None, decode_error=u'strict',\n",
        "        dtype=<type 'numpy.int64'>, encoding=u'utf-8', input=u'content',\n",
        "        lowercase=True, max_df=1.0, max_features=None, min_df=1,\n",
        "        ngram_range=(1, 1), norm=u'l2', preprocessor=None, smooth_idf=True,\n",
        "        stop_words=None, strip_accents=None, sublinear_tf=False,\n",
        "        token_pattern=u'(?u)\\\\b\\\\w\\\\w+\\\\b', tokenizer=None, use_idf=True,\n",
        "        vocabulary=None)"
       ]
      }
     ],
     "prompt_number": 11
    },
    {
     "cell_type": "code",
     "collapsed": false,
     "input": [
      "C_vec = vectorizer.transform(C)\n",
      "R_vec = vectorizer.transform(R)\n",
      "Y = np.array(Y)"
     ],
     "language": "python",
     "metadata": {},
     "outputs": [],
     "prompt_number": 12
    },
    {
     "cell_type": "code",
     "collapsed": false,
     "input": [
      "def main(group_size):\n",
      "    batch_size = 10\n",
      "    n_batches = len(Y) // 10\n",
      "    probas = []\n",
      "    YY = []\n",
      "    for i in xrange(n_batches):\n",
      "        if i % 10000 == 0:\n",
      "            print i\n",
      "        batch_c = C_vec[i*batch_size:(i+1)*batch_size][:group_size]\n",
      "        batch_r = R_vec[i*batch_size:(i+1)*batch_size][:group_size]\n",
      "        batch_y = Y[i*batch_size:(i+1)*batch_size][:group_size]\n",
      "        YY.append(batch_y)\n",
      "        probas += [1 - cosine(batch_c[0].toarray(), r.toarray()) for r in batch_r]\n",
      "    for k in [1, 2, 5]:\n",
      "        if k < group_size:\n",
      "            print 'recall@%d: ' % k, recall(probas, k, group_size)\n",
      "    probas = np.array(probas)\n",
      "    pred = np.zeros(probas.shape)\n",
      "    pred[probas > 0.5] = 1\n",
      "    pred[probas <= 0.5] = 0\n",
      "    YY = np.concatenate(YY)\n",
      "    print \"Y=1: \", np.sum(pred)\n",
      "    print classification_report(YY, pred)    "
     ],
     "language": "python",
     "metadata": {},
     "outputs": [],
     "prompt_number": 17
    },
    {
     "cell_type": "code",
     "collapsed": false,
     "input": [
      "main(10)\n",
      "main(2)"
     ],
     "language": "python",
     "metadata": {},
     "outputs": [
      {
       "output_type": "stream",
       "stream": "stdout",
       "text": [
        "0\n",
        "10000"
       ]
      },
      {
       "output_type": "stream",
       "stream": "stdout",
       "text": [
        "\n",
        "20000"
       ]
      },
      {
       "output_type": "stream",
       "stream": "stdout",
       "text": [
        "\n",
        "30000"
       ]
      },
      {
       "output_type": "stream",
       "stream": "stdout",
       "text": [
        "\n",
        "recall@1: "
       ]
      },
      {
       "output_type": "stream",
       "stream": "stdout",
       "text": [
        " 0.418143870878\n",
        "recall@2:  "
       ]
      },
      {
       "output_type": "stream",
       "stream": "stdout",
       "text": [
        "0.550271323222\n",
        "recall@5:  "
       ]
      },
      {
       "output_type": "stream",
       "stream": "stdout",
       "text": [
        "0.736997356338\n",
        "Y=1: "
       ]
      },
      {
       "output_type": "stream",
       "stream": "stdout",
       "text": [
        " 462.0\n",
        "             precision    recall  f1-score   support\n",
        "\n",
        "          0       0.90      1.00      0.95    323415\n",
        "          1       0.97      0.01      0.02     35935\n",
        "\n",
        "avg / total       0.91      0.90      0.86    359350\n"
       ]
      },
      {
       "output_type": "stream",
       "stream": "stdout",
       "text": [
        "\n",
        "0\n",
        "10000"
       ]
      },
      {
       "output_type": "stream",
       "stream": "stdout",
       "text": [
        "\n",
        "20000"
       ]
      },
      {
       "output_type": "stream",
       "stream": "stdout",
       "text": [
        "\n",
        "30000"
       ]
      },
      {
       "output_type": "stream",
       "stream": "stdout",
       "text": [
        "\n",
        "recall@1: "
       ]
      },
      {
       "output_type": "stream",
       "stream": "stdout",
       "text": [
        " 0.72082927508\n",
        "Y=1:  447.0\n",
        "             precision    recall  f1-score   support\n",
        "\n",
        "          0       0.50      1.00      0.67     35935\n",
        "          1       1.00      0.01      0.02     35935\n",
        "\n",
        "avg / total       0.75      0.51      0.35     71870\n",
        "\n"
       ]
      }
     ],
     "prompt_number": 18
    },
    {
     "cell_type": "code",
     "collapsed": false,
     "input": [],
     "language": "python",
     "metadata": {},
     "outputs": []
    }
   ],
   "metadata": {}
  }
 ]
}