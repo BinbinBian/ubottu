{
 "metadata": {
  "name": "",
  "signature": "sha256:9701f850557ae8b3ba2449f331342bcf33c921b0617b815bca0ec3cb5dd6f2a9"
 },
 "nbformat": 3,
 "nbformat_minor": 0,
 "worksheets": [
  {
   "cells": [
    {
     "cell_type": "code",
     "collapsed": false,
     "input": [
      "from __future__ import division\n",
      "import csv\n",
      "import joblib\n",
      "import numpy as np\n",
      "import scipy\n",
      "from sklearn.metrics import *\n",
      "from sklearn.svm import *\n",
      "\n",
      "vocab = joblib.load('vocab.pkl')\n",
      "wc = joblib.load('wc.pkl')\n",
      "\n",
      "TEST_FILE = 'data/testset.csv'\n",
      "\n",
      "print \"Done loading\""
     ],
     "language": "python",
     "metadata": {},
     "outputs": [
      {
       "output_type": "stream",
       "stream": "stdout",
       "text": [
        "Done loading\n"
       ]
      }
     ],
     "prompt_number": 1
    },
    {
     "cell_type": "code",
     "collapsed": false,
     "input": [
      "import random\n",
      "\n",
      "def rargmin(vector):\n",
      "    \"\"\" Argmin that chooses randomly among eligible maximum indices. \"\"\"\n",
      "    m = np.amin(vector)\n",
      "    indices = np.nonzero(vector == m)[0]\n",
      "    if len(indices) == 0:\n",
      "        print \"WTF: \", vector, indices\n",
      "    return random.choice(indices)\n",
      "\n",
      "def get_embedding(s):\n",
      "    embedding = np.zeros(len(vocab))\n",
      "    tokens = s.split()\n",
      "    for token in tokens:\n",
      "        idx = vocab[token]\n",
      "        embedding[idx] += 1\n",
      "    for token in set(tokens):\n",
      "        idx = vocab[token]\n",
      "        embedding[idx] /= wc[token]\n",
      "    return embedding\n",
      "\n",
      "import math\n",
      "\n",
      "def test_file(fname):\n",
      "    L = []\n",
      "    for line in csv.DictReader(open(fname)):\n",
      "        L.append(line)\n",
      "    Y_test = []\n",
      "    Y_pred = []\n",
      "    i = 0\n",
      "    while i < len(L)-1:\n",
      "        if i % 1000 == 0:\n",
      "            print i\n",
      "        contexts = map(lambda x: x.replace('</s>', '').strip(), [L[i]['Context'], L[i+1]['Context']]) \n",
      "        responses = map(lambda x: x.replace('</s>', '').strip(), [L[i]['Response'], L[i+1]['Response']])  \n",
      "        hasEmpty = False\n",
      "        for s in responses + contexts:\n",
      "            if len(s) == 0:\n",
      "                hasEmpty = True\n",
      "                break\n",
      "        if contexts[0] == contexts[1] and contexts[0] != responses[0] and contexts[1] != responses[1] and not hasEmpty:\n",
      "            e_context = get_embedding(contexts[0])\n",
      "            e_responses = [get_embedding(response) for response in responses]\n",
      "            dists = np.array([scipy.spatial.distance.cosine(e_context, e_response) for e_response in e_responses])\n",
      "            for d in dists:\n",
      "                if math.isnan(d):\n",
      "                    print \"WTF!!: \", L[i], \" ASD: \", L[i+1]\n",
      "            if dists[0] == 0 or dists[1] == 0:\n",
      "                print \"hmm: l1: \", L[i], \" l2: \", L[i+1]\n",
      "            Y_test.append(int(L[i]['Correct']))\n",
      "            Y_test.append(int(L[i+1]['Correct']))\n",
      "            pred = np.zeros(2)\n",
      "            pred[rargmin(dists)] = 1\n",
      "            for c in pred:\n",
      "                Y_pred.append(c)\n",
      "            i += 1\n",
      "        i += 1\n",
      "    print classification_report(Y_test, Y_pred)\n",
      "    return Y_test, Y_pred"
     ],
     "language": "python",
     "metadata": {},
     "outputs": [],
     "prompt_number": 2
    },
    {
     "cell_type": "code",
     "collapsed": false,
     "input": [
      "Y_test_val, Y_pred_val = test_file('data/valset.csv')\n",
      "Y_test_test, Y_pred_test = test_file('data/testset.csv')"
     ],
     "language": "python",
     "metadata": {},
     "outputs": [
      {
       "output_type": "stream",
       "stream": "stdout",
       "text": [
        "0\n",
        "1000"
       ]
      },
      {
       "output_type": "stream",
       "stream": "stdout",
       "text": [
        "\n",
        "2000"
       ]
      },
      {
       "output_type": "stream",
       "stream": "stdout",
       "text": [
        "\n",
        "3000"
       ]
      },
      {
       "output_type": "stream",
       "stream": "stdout",
       "text": [
        "\n",
        "4000"
       ]
      },
      {
       "output_type": "stream",
       "stream": "stdout",
       "text": [
        "\n",
        "5000"
       ]
      },
      {
       "output_type": "stream",
       "stream": "stdout",
       "text": [
        "\n",
        "6000"
       ]
      },
      {
       "output_type": "stream",
       "stream": "stdout",
       "text": [
        "\n",
        "7000"
       ]
      },
      {
       "output_type": "stream",
       "stream": "stdout",
       "text": [
        "\n",
        "8000"
       ]
      },
      {
       "output_type": "stream",
       "stream": "stdout",
       "text": [
        "\n",
        "9000"
       ]
      },
      {
       "output_type": "stream",
       "stream": "stdout",
       "text": [
        "\n",
        "10000"
       ]
      },
      {
       "output_type": "stream",
       "stream": "stdout",
       "text": [
        "\n",
        "11000"
       ]
      },
      {
       "output_type": "stream",
       "stream": "stdout",
       "text": [
        "\n",
        "12000"
       ]
      },
      {
       "output_type": "stream",
       "stream": "stdout",
       "text": [
        "\n",
        "13000"
       ]
      },
      {
       "output_type": "stream",
       "stream": "stdout",
       "text": [
        "\n",
        "14000"
       ]
      },
      {
       "output_type": "stream",
       "stream": "stdout",
       "text": [
        "\n",
        "15000"
       ]
      },
      {
       "output_type": "stream",
       "stream": "stdout",
       "text": [
        "\n",
        "16000"
       ]
      },
      {
       "output_type": "stream",
       "stream": "stdout",
       "text": [
        "\n",
        "17000"
       ]
      },
      {
       "output_type": "stream",
       "stream": "stdout",
       "text": [
        "\n",
        "18000"
       ]
      },
      {
       "output_type": "stream",
       "stream": "stdout",
       "text": [
        "\n",
        "19000"
       ]
      },
      {
       "output_type": "stream",
       "stream": "stdout",
       "text": [
        "\n",
        "20000"
       ]
      },
      {
       "output_type": "stream",
       "stream": "stdout",
       "text": [
        "\n",
        "21000"
       ]
      },
      {
       "output_type": "stream",
       "stream": "stdout",
       "text": [
        "\n",
        "22000"
       ]
      },
      {
       "output_type": "stream",
       "stream": "stdout",
       "text": [
        "\n",
        "23000"
       ]
      },
      {
       "output_type": "stream",
       "stream": "stdout",
       "text": [
        "\n",
        "24000"
       ]
      },
      {
       "output_type": "stream",
       "stream": "stdout",
       "text": [
        "\n",
        "25000"
       ]
      },
      {
       "output_type": "stream",
       "stream": "stdout",
       "text": [
        "\n",
        "26000"
       ]
      },
      {
       "output_type": "stream",
       "stream": "stdout",
       "text": [
        "\n",
        "27000"
       ]
      },
      {
       "output_type": "stream",
       "stream": "stdout",
       "text": [
        "\n",
        "             precision    recall  f1-score   support\n",
        "\n",
        "          0       0.58      0.58      0.58     13716\n",
        "          1       0.58      0.58      0.58     13716\n",
        "\n",
        "avg / total       0.58      0.58      0.58     27432\n"
       ]
      },
      {
       "output_type": "stream",
       "stream": "stdout",
       "text": [
        "\n",
        "0"
       ]
      },
      {
       "output_type": "stream",
       "stream": "stdout",
       "text": [
        "\n",
        "1000"
       ]
      },
      {
       "output_type": "stream",
       "stream": "stdout",
       "text": [
        "\n",
        "2000"
       ]
      },
      {
       "output_type": "stream",
       "stream": "stdout",
       "text": [
        "\n",
        "3000"
       ]
      },
      {
       "output_type": "stream",
       "stream": "stdout",
       "text": [
        "\n",
        "4000"
       ]
      },
      {
       "output_type": "stream",
       "stream": "stdout",
       "text": [
        "\n",
        "5000"
       ]
      },
      {
       "output_type": "stream",
       "stream": "stdout",
       "text": [
        "\n",
        "6000"
       ]
      },
      {
       "output_type": "stream",
       "stream": "stdout",
       "text": [
        "\n",
        "7000"
       ]
      },
      {
       "output_type": "stream",
       "stream": "stdout",
       "text": [
        "\n",
        "8000"
       ]
      },
      {
       "output_type": "stream",
       "stream": "stdout",
       "text": [
        "\n",
        "9000"
       ]
      },
      {
       "output_type": "stream",
       "stream": "stdout",
       "text": [
        "\n",
        "10000"
       ]
      },
      {
       "output_type": "stream",
       "stream": "stdout",
       "text": [
        "\n",
        "11000"
       ]
      },
      {
       "output_type": "stream",
       "stream": "stdout",
       "text": [
        "\n",
        "12000"
       ]
      },
      {
       "output_type": "stream",
       "stream": "stdout",
       "text": [
        "\n",
        "13000"
       ]
      },
      {
       "output_type": "stream",
       "stream": "stdout",
       "text": [
        "\n",
        "14000"
       ]
      },
      {
       "output_type": "stream",
       "stream": "stdout",
       "text": [
        "\n",
        "15000"
       ]
      },
      {
       "output_type": "stream",
       "stream": "stdout",
       "text": [
        "\n",
        "16000"
       ]
      },
      {
       "output_type": "stream",
       "stream": "stdout",
       "text": [
        "\n",
        "17000"
       ]
      },
      {
       "output_type": "stream",
       "stream": "stdout",
       "text": [
        "\n",
        "             precision    recall  f1-score   support\n",
        "\n",
        "          0       0.57      0.57      0.57      8773\n",
        "          1       0.57      0.57      0.57      8773\n",
        "\n",
        "avg / total       0.57      0.57      0.57     17546\n"
       ]
      },
      {
       "output_type": "stream",
       "stream": "stdout",
       "text": [
        "\n"
       ]
      }
     ],
     "prompt_number": 3
    },
    {
     "cell_type": "code",
     "collapsed": false,
     "input": [
      "ivocab = {}\n",
      "for v in vocab:\n",
      "    ivocab[vocab[v]] = v\n",
      "joblib.dump(ivocab, 'ivocab.pkl')"
     ],
     "language": "python",
     "metadata": {},
     "outputs": [
      {
       "metadata": {},
       "output_type": "pyout",
       "prompt_number": 4,
       "text": [
        "['ivocab.pkl']"
       ]
      }
     ],
     "prompt_number": 4
    },
    {
     "cell_type": "code",
     "collapsed": false,
     "input": [
      "z1=get_embedding('hey guys,. if i have message logging on in xchat, does it make a file where i can read every single word its ever recorded?')\n",
      "z2=get_embedding('hidden in your home dir')\n",
      "from scipy.spatial.distance import cosine\n",
      "print cosine(z1,z2)\n",
      "\n",
      "z3=get_embedding('copy and paste them into the terminal')\n",
      "print cosine(z1,z3)"
     ],
     "language": "python",
     "metadata": {},
     "outputs": [
      {
       "output_type": "stream",
       "stream": "stdout",
       "text": [
        "0.999999959366\n",
        "1.0\n"
       ]
      }
     ],
     "prompt_number": 43
    }
   ],
   "metadata": {}
  }
 ]
}